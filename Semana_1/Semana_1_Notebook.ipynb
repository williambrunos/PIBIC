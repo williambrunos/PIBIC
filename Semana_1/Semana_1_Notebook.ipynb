{
 "cells": [
  {
   "cell_type": "code",
   "execution_count": 8,
   "id": "e17afc01",
   "metadata": {},
   "outputs": [],
   "source": [
    "import numpy as np\n",
    "import math\n",
    "import matplotlib.pyplot as plt\n",
    "import scipy.linalg as la"
   ]
  },
  {
   "cell_type": "markdown",
   "id": "f78e8127",
   "metadata": {},
   "source": [
    "# Cálculo da Matriz de Transferência\n",
    "\n",
    "A matriz de acoplamento A é consequência do arranjo espacial dos núcleos da fibra. Cada arranjo possui a sua matriz. Então, o nosso primeiro passo é calcular a numericamente algumas matrizes de transferência.\n",
    "\n",
    "1) Dada as matrizes abaixo, faça a decomposição delas em matrizes de autovalores e autovetores, ou seja, a forma $A = PDP^{-1}$\n",
    "\n",
    "2)  calcule a $E = exp(D)$ (essa matriz resulta numa matriz tambéem diagonal, onde os elementos na diagonal são a exponencial de cada autovalor);\n",
    "\n",
    "3) Por fim, calculamos a matriz de transferência $T = PEP^{-1}$\n",
    "\n",
    "**OBS: P é a matriz de autovetores transposta da matriz A e D é uma matriz diagonal com os autovalores de A;**"
   ]
  },
  {
   "cell_type": "markdown",
   "id": "247c4f6b",
   "metadata": {},
   "source": [
    "### Cálculo de autovalores e autovetores:\n",
    "\n",
    "A função ``la.eig(square_matrix)`` retorna um vetor de autovalores de A e uma matriz de autovetores da mesma matriz.\n",
    "\n",
    "Os valores devem ser lidos da seguinte forma: o i-ésimo autovalor do vetor retornado se associa à i-ésima coluna da matriz de autovetores da seguinte forma: \n",
    "$$A\\lambda = A\\vec v$$\n",
    "Na qual $\\lambda$ é o autovalor analisado e $\\vec v$ é o autovetor associado, A é a matriz de arranjo. Ademais, os autovetores de A estão sempre localizados nas colunas da matriz de autovetores retornada pela função ``eig`` da lib ``la``."
   ]
  },
  {
   "cell_type": "code",
   "execution_count": 9,
   "id": "90d2daa7",
   "metadata": {},
   "outputs": [
    {
     "name": "stdout",
     "output_type": "stream",
     "text": [
      "Os autovalores são: [4.+0.j 2.+0.j 3.+0.j]\n",
      "Os autovetores lido em coluna são: [[ 1.         -0.4472136  -0.57735027]\n",
      " [ 0.          0.89442719  0.57735027]\n",
      " [ 0.          0.          0.57735027]]\n"
     ]
    }
   ],
   "source": [
    "# A precisa ser uma matriz quadrada!\n",
    "A = np.array([[4, 1, 0], [0, 2, 1], [0, 0, 3]])\n",
    "eigvals, eigvecs = la.eig(A)\n",
    "print('Os autovalores são:',eigvals)\n",
    "print('Os autovetores lido em coluna são:',eigvecs)"
   ]
  },
  {
   "cell_type": "markdown",
   "id": "7116789f",
   "metadata": {},
   "source": [
    "Checando os resultados, podemos verificar se $A\\lambda_{0} == \\lambda_{0}\\vec v_{0}$, sendo o primeiro produto uma multiplicação matricial e o segundo um produto escalar.\n",
    "\n",
    "O exemplo segue apenas para o primeiro autovalor e a primeira coluna da matriz de autovetores, mas pode ser estendida para os outros valores também."
   ]
  },
  {
   "cell_type": "code",
   "execution_count": 10,
   "id": "01ac34a4",
   "metadata": {},
   "outputs": [],
   "source": [
    "lambda0 = eigvals[0]\n",
    "eigvec0 = eigvecs[:, 0]"
   ]
  },
  {
   "cell_type": "code",
   "execution_count": 11,
   "id": "187b57cb",
   "metadata": {},
   "outputs": [
    {
     "data": {
      "text/plain": [
       "array([ True,  True,  True])"
      ]
     },
     "execution_count": 11,
     "metadata": {},
     "output_type": "execute_result"
    }
   ],
   "source": [
    "A@eigvec0 == lambda0*eigvec0"
   ]
  },
  {
   "cell_type": "markdown",
   "id": "2b74cb45",
   "metadata": {},
   "source": [
    "## Arranjo Triangular\n",
    "\n",
    "Entradas: $\\alpha, \\beta, \\gamma$\n",
    "\n",
    "A = ArranjoTriangular($\\alpha, \\beta, \\gamma$)\n",
    "\n",
    "T = MatrizTransferencia(A)"
   ]
  },
  {
   "cell_type": "code",
   "execution_count": 12,
   "id": "785a7dca",
   "metadata": {},
   "outputs": [],
   "source": [
    "# Retorna a matriz triãngular A com parâmetros alpha(a), beta(b) e gamma(g)\n",
    "# complex(x, y) retorna um número complexo da forma x + yi, onde i é o número imaginário\n",
    "\n",
    "def ArranjoTriangular(a, b, g):\n",
    "    A = np.array([[0, complex(0, g), complex(0, b)], [complex(0, g), 0, complex(0, a)], [complex(0, b), complex(0, a), 0]])\n",
    "    return A"
   ]
  },
  {
   "cell_type": "code",
   "execution_count": 33,
   "id": "d157d030",
   "metadata": {},
   "outputs": [],
   "source": [
    "# Retorna a matriz de transferência T a partir de uma matriz A a partir dos passos já citados\n",
    "def MatrizTransferenciaTriangular(A):\n",
    "    eigvals, eigvecs = la.eig(A)\n",
    "    D = np.array([[eigvals[0], 0, 0], [0, eigvals[1], 0], [0, 0, eigvals[2]]])\n",
    "    P = eigvecs.copy()\n",
    "    E = math.e**D\n",
    "    \n",
    "    # T é a matriz de transferência\n",
    "    T = P @ E @ la.inv(P)\n",
    "\n",
    "    return T"
   ]
  },
  {
   "cell_type": "code",
   "execution_count": 34,
   "id": "5bb2bc19",
   "metadata": {},
   "outputs": [
    {
     "name": "stdout",
     "output_type": "stream",
     "text": [
      "\n",
      "\n",
      "Matriz de transferência: \n",
      "\n",
      "  [[-0.14870738-0.33599426j -0.4225552 -0.3998916j   1.29009591-0.18361063j]\n",
      " [-0.4225552 -0.3998916j  -1.10731104-0.48536506j -1.15369545+0.13225087j]\n",
      " [ 1.29009591-0.18361063j -1.15369545+0.13225087j  0.30658844-0.73431637j]]\n"
     ]
    }
   ],
   "source": [
    "A = ArranjoTriangular(1, 2, 3)\n",
    "T = MatrizTransferenciaTriangular(A)\n",
    "print(\"\\n\\nMatriz de transferência: \\n\\n \", T)"
   ]
  },
  {
   "cell_type": "markdown",
   "id": "aa55b134",
   "metadata": {},
   "source": [
    "## Análise do erro\n",
    "\n",
    "Realizando um pouco de manipulação de álgebra linear com a fórmula da matriz de transferência, chegamos à fórmula:\n",
    "$E = P^{-1}TP$\n",
    "\n",
    "Verificando o erro o erro com a fórmula $\\frac{E - P^{-1}TP}{E}$, temos valores de erros na ordem de $10^{-16}$ a $10^{-18}$. Para isto, basta inserir o código: \n",
    "\n",
    "``print((E - la.inv(P) @ T @ P)/(E))`` \n",
    "\n",
    "na função de cálculo da matriz de transferência."
   ]
  },
  {
   "cell_type": "code",
   "execution_count": null,
   "id": "d94c15ea",
   "metadata": {},
   "outputs": [],
   "source": []
  }
 ],
 "metadata": {
  "kernelspec": {
   "display_name": "Python 3",
   "language": "python",
   "name": "python3"
  },
  "language_info": {
   "codemirror_mode": {
    "name": "ipython",
    "version": 3
   },
   "file_extension": ".py",
   "mimetype": "text/x-python",
   "name": "python",
   "nbconvert_exporter": "python",
   "pygments_lexer": "ipython3",
   "version": "3.8.8"
  }
 },
 "nbformat": 4,
 "nbformat_minor": 5
}
