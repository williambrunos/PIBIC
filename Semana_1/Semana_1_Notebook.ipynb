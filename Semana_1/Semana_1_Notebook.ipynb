{
 "cells": [
  {
   "cell_type": "code",
   "execution_count": 1,
   "id": "e17afc01",
   "metadata": {},
   "outputs": [],
   "source": [
    "import numpy as np\n",
    "import math\n",
    "import matplotlib.pyplot as plt\n",
    "import scipy.linalg as la"
   ]
  },
  {
   "cell_type": "markdown",
   "id": "f78e8127",
   "metadata": {},
   "source": [
    "# Cálculo da Matriz de Transferência\n",
    "\n",
    "A matriz de acoplamento A é consequência do arranjo espacial dos núcleos da fibra. Cada arranjo possui a sua matriz. Então, o nosso primeiro passo é calcular a numericamente algumas matrizes de transferência.\n",
    "\n",
    "1) Dada as matrizes abaixo, faça a decomposição delas em matrizes de autovalores e autovetores, ou seja, a forma $A = PDP^{-1}$\n",
    "\n",
    "2)  Calcule a $E = exp(D)$ (essa matriz resulta numa matriz também diagonal, onde os elementos na diagonal são a exponencial de cada autovalor);\n",
    "\n",
    "3) Por fim, calculamos a matriz de transferência $T = PEP^{-1}$\n",
    "\n",
    "**OBS: P é a matriz de autovetores transposta da matriz A e D é uma matriz diagonal com os autovalores de A;**"
   ]
  },
  {
   "cell_type": "markdown",
   "id": "247c4f6b",
   "metadata": {},
   "source": [
    "### Cálculo de autovalores e autovetores:\n",
    "\n",
    "A função ``la.eig(square_matrix)`` retorna um vetor de autovalores de A e uma matriz de autovetores da mesma matriz em um formato de tupla (Podemos utilizar desestruturação).\n",
    "\n",
    "Os valores devem ser lidos da seguinte forma: o i-ésimo autovalor do vetor retornado se associa à i-ésima coluna da matriz de autovetores da seguinte forma: \n",
    "$$A\\vec v = \\lambda\\vec v$$\n",
    "Na qual $\\lambda$ é o autovalor analisado e $\\vec v$ é o autovetor associado, A é a matriz de arranjo. Ademais, os autovetores de A estão sempre localizados nas colunas da matriz de autovetores retornada pela função ``eig`` da lib ``la``."
   ]
  },
  {
   "cell_type": "code",
   "execution_count": 2,
   "id": "90d2daa7",
   "metadata": {},
   "outputs": [
    {
     "name": "stdout",
     "output_type": "stream",
     "text": [
      "Os autovalores são: \n",
      "\n",
      " [4.+0.j 2.+0.j 3.+0.j]\n",
      "Os autovetores lidos em coluna são: \n",
      "\n",
      " [[ 1.         -0.4472136  -0.57735027]\n",
      " [ 0.          0.89442719  0.57735027]\n",
      " [ 0.          0.          0.57735027]]\n"
     ]
    }
   ],
   "source": [
    "# \"Teste\" precisa ser uma matriz quadrada!\n",
    "Teste = np.array([[4, 1, 0], [0, 2, 1], [0, 0, 3]])\n",
    "eigvals, eigvecs = la.eig(Teste)\n",
    "# (eigvals, eigvecs)\n",
    "print('Os autovalores são: \\n\\n', eigvals)\n",
    "print('Os autovetores lidos em coluna são: \\n\\n',eigvecs)"
   ]
  },
  {
   "cell_type": "markdown",
   "id": "480197f2",
   "metadata": {},
   "source": [
    "## Teste de Arranjo\n",
    "\n",
    "É importante testarmos se podemos chegar à $A$ a partir de $T$ e $P$, $P^{-1}$ na forma $A = P D P^{-1}$"
   ]
  },
  {
   "cell_type": "code",
   "execution_count": 3,
   "id": "3258c056",
   "metadata": {},
   "outputs": [
    {
     "data": {
      "text/plain": [
       "array([[ True,  True,  True],\n",
       "       [ True,  True,  True],\n",
       "       [ True,  True,  True]])"
      ]
     },
     "execution_count": 3,
     "metadata": {},
     "output_type": "execute_result"
    }
   ],
   "source": [
    "TesteD = np.array([[eigvals[0], 0, 0], \n",
    "                   [0, eigvals[1], 0], \n",
    "                   [0, 0, eigvals[2]]])\n",
    "Teste == eigvecs @ TesteD @ la.inv(eigvecs)"
   ]
  },
  {
   "cell_type": "markdown",
   "id": "8423c773",
   "metadata": {},
   "source": [
    "Logo, vemos que os valores retornados pela função ``eig`` são corretos e podemos utilizá-los em código."
   ]
  },
  {
   "cell_type": "markdown",
   "id": "7116789f",
   "metadata": {},
   "source": [
    "Checando os resultados, podemos verificar se $A\\vec v_{0} == \\lambda_{0}\\vec v_{0}$, sendo o primeiro produto uma multiplicação matricial e o segundo um produto escalar.\n",
    "\n",
    "O exemplo segue apenas para o primeiro autovalor e a primeira coluna da matriz de autovetores, mas pode ser estendida para os outros valores também."
   ]
  },
  {
   "cell_type": "code",
   "execution_count": 4,
   "id": "6b332ef2",
   "metadata": {},
   "outputs": [],
   "source": [
    "Lambda0 = eigvals[0]\n",
    "Vec0 = eigvecs[:, 0]"
   ]
  },
  {
   "cell_type": "code",
   "execution_count": 5,
   "id": "a415e74c",
   "metadata": {},
   "outputs": [
    {
     "data": {
      "text/plain": [
       "array([ True,  True,  True])"
      ]
     },
     "execution_count": 5,
     "metadata": {},
     "output_type": "execute_result"
    }
   ],
   "source": [
    "Teste @ Vec0 == Lambda0 * Vec0"
   ]
  },
  {
   "cell_type": "markdown",
   "id": "2b74cb45",
   "metadata": {},
   "source": [
    "## Arranjo Triangular\n",
    "\n",
    "Entradas: $\\alpha, \\beta, \\gamma$\n",
    "\n",
    "A = ArranjoTriangular($\\alpha, \\beta, \\gamma$)\n",
    "\n",
    "T = MatrizTransferencia(A)"
   ]
  },
  {
   "cell_type": "code",
   "execution_count": 17,
   "id": "921118ab",
   "metadata": {},
   "outputs": [],
   "source": [
    "def PrintMatrixByRow(Matrix):\n",
    "    rows, columns = Matrix.shape\n",
    "    \n",
    "    for row in range(rows):\n",
    "        for column in range(columns):\n",
    "            print(f'|{Matrix[row][column]}|', end='')\n",
    "        print('\\n')"
   ]
  },
  {
   "cell_type": "code",
   "execution_count": 6,
   "id": "785a7dca",
   "metadata": {},
   "outputs": [],
   "source": [
    "def ArranjoTriangular(alpha, beta, gama):\n",
    "    \"\"\"\n",
    "    Retorna a matriz triangular A com parâmetros alpha, beta e gamma.\n",
    "    complex(x, y) retorna um número complexo da forma x + yi, onde i é o número imaginário\n",
    "    \n",
    "    Parâmetros\n",
    "    --------------------------------------\n",
    "    :params alpha, beta, gama: alpha é um número real\n",
    "    \n",
    "    Retorno\n",
    "    --------------------------------------\n",
    "    :return: retorna a matriz arranjo triangular como numpy array cujos valores estão de acordo com os parâmetros recebidos\n",
    "    \"\"\"\n",
    "    A = np.array([[0, complex(0, gama), complex(0, beta)], \n",
    "                  [complex(0, gama), 0, complex(0, alpha)], \n",
    "                  [complex(0, beta), complex(0, alpha), 0]])\n",
    "    \n",
    "    return A"
   ]
  },
  {
   "cell_type": "code",
   "execution_count": 63,
   "id": "d157d030",
   "metadata": {},
   "outputs": [],
   "source": [
    "def MatrizTransferenciaTriangular(A):\n",
    "    \"\"\"\n",
    "    Retorna a matriz de transferência triangular T a partir de uma matriz de arranjo triangular A a partir dos passos já citados\n",
    "    Erro percentual de 10^(-14) a 10^(-16), ínfimo.\n",
    "    \n",
    "    Parâmetros\n",
    "    --------------------------------------\n",
    "    :param A: matriz de Arranjo Triangular como numpy array\n",
    "    \n",
    "    Retorno\n",
    "    \n",
    "    :return:  matriz numpy array de transferência triangular T calculada com erro ínfimo.\n",
    "    \"\"\"\n",
    "    eigvals, eigvecs = la.eig(A)\n",
    "    D = np.array([[eigvals[0], 0, 0], \n",
    "                  [0, eigvals[1], 0], \n",
    "                  [0, 0, eigvals[2]]])\n",
    "    P = eigvecs.copy()\n",
    "    E = np.array([[np.exp(eigvals[0]), 0, 0], \n",
    "                  [0, np.exp(eigvals[1]), 0], \n",
    "                  [0, 0, np.exp(eigvals[2])]])\n",
    "    \n",
    "    if np.allclose(A, P @ D @ la.inv(P), atol=1e-17):\n",
    "        raise ValueError(f'Parameter Matrix A has not property A == PDP^(-1) for a tolerance of {1e-17}')\n",
    "    \n",
    "    # T é a matriz de transferência\n",
    "    T = P @ E @ la.inv(P)\n",
    "    \n",
    "    return T"
   ]
  },
  {
   "cell_type": "code",
   "execution_count": 64,
   "id": "5bb2bc19",
   "metadata": {
    "scrolled": true
   },
   "outputs": [
    {
     "name": "stdout",
     "output_type": "stream",
     "text": [
      "|0j||3j||2j|\n",
      "\n",
      "|3j||0j||1j|\n",
      "\n",
      "|2j||1j||0j|\n",
      "\n",
      "|(-0.7864039398595669-0.3359942644683161j)||(0.27205028305981366-0.3998915980708953j)||(-0.03223645384677666-0.18361062589216098j)|\n",
      "\n",
      "|(0.27205028305981366-0.3998915980708955j)||(-0.4019179832635924-0.4853650555475008j)||(-0.59284716181735+0.13225087367269645j)|\n",
      "\n",
      "|(-0.03223645384677645-0.18361062589216104j)||(-0.5928471618173499+0.1322508736726964j)||(0.238891944396365-0.7343163740128087j)|\n",
      "\n"
     ]
    }
   ],
   "source": [
    "A = ArranjoTriangular(1, 2, 3)\n",
    "T = MatrizTransferenciaTriangular(A)\n",
    "PrintMatrixByRow(A)\n",
    "PrintMatrixByRow(T)"
   ]
  },
  {
   "cell_type": "markdown",
   "id": "c305b8b9",
   "metadata": {},
   "source": [
    "## Analise se A == PDP^(-1) (V)"
   ]
  },
  {
   "cell_type": "code",
   "execution_count": 19,
   "id": "21ce8a42",
   "metadata": {},
   "outputs": [
    {
     "name": "stdout",
     "output_type": "stream",
     "text": [
      "|0j||3j||2j|\n",
      "\n",
      "|3j||0j||1j|\n",
      "\n",
      "|2j||1j||0j|\n",
      "\n",
      "|(4.906763613869777e-16-1.491862189340054e-16j)||(1.3019818479618374e-16+2.9999999999999996j)||(1.2181835092598534e-16+1.9999999999999998j)|\n",
      "\n",
      "|(3.518274504293761e-17+3.000000000000001j)||(-4.317521022086755e-16+6.106226635438361e-16j)||(-2.1600289585548724e-16+1.0000000000000007j)|\n",
      "\n",
      "|(-1.2622504072158735e-16+1.9999999999999998j)||(-1.6653880812662144e-16+1j)||(-8.670359355279613e-17-3.3306690738754696e-16j)|\n",
      "\n"
     ]
    }
   ],
   "source": [
    "PrintMatrixByRow(A)\n",
    "eigvals, eigvecs = la.eig(A)\n",
    "D = np.array([[eigvals[0], 0, 0], \n",
    "                  [0, eigvals[1], 0], \n",
    "                  [0, 0, eigvals[2]]])\n",
    "P = eigvecs.copy()\n",
    "PrintMatrixByRow(P @ D @ la.inv(P))"
   ]
  },
  {
   "cell_type": "markdown",
   "id": "598ac5e4",
   "metadata": {},
   "source": [
    "A partir da análise acima, vemos que o erro numérico entre $A$ e $P D P^{-1}$ é muito ínfimo."
   ]
  },
  {
   "cell_type": "markdown",
   "id": "83035c6f",
   "metadata": {},
   "source": [
    "## Verificando se a Matriz T é uma matriz simétrica (V)"
   ]
  },
  {
   "cell_type": "code",
   "execution_count": 45,
   "id": "07d13afe",
   "metadata": {},
   "outputs": [
    {
     "data": {
      "text/plain": [
       "True"
      ]
     },
     "execution_count": 45,
     "metadata": {},
     "output_type": "execute_result"
    }
   ],
   "source": [
    "np.allclose(T, T.T, atol=1e-17)"
   ]
  },
  {
   "cell_type": "markdown",
   "id": "11373b42",
   "metadata": {},
   "source": [
    "Logo, para uma boa tolerância, $T$ é simétrica."
   ]
  },
  {
   "cell_type": "markdown",
   "id": "ccc78421",
   "metadata": {},
   "source": [
    "## Checando se E é uma matriz diagonal (V)"
   ]
  },
  {
   "cell_type": "code",
   "execution_count": 38,
   "id": "a87f9dd9",
   "metadata": {},
   "outputs": [
    {
     "name": "stdout",
     "output_type": "stream",
     "text": [
      "|(-0.5640632757509996-0.825731567126419j)||0j||0j|\n",
      "\n",
      "|0j||(-0.9981813532084132+0.06028255226034469j)||0j|\n",
      "\n",
      "|0j||0j||(0.6128146502326182-0.7902266791625514j)|\n",
      "\n"
     ]
    }
   ],
   "source": [
    "E = np.array([[np.exp(eigvals[0]), 0, 0], \n",
    "                  [0, np.exp(eigvals[1]), 0], \n",
    "                  [0, 0, np.exp(eigvals[2])]])\n",
    "PrintMatrixByRow(E)"
   ]
  },
  {
   "cell_type": "markdown",
   "id": "e0c09d87",
   "metadata": {},
   "source": [
    "Logo, pelo cálculo acima, a matriz $E$ é diagonal."
   ]
  },
  {
   "cell_type": "markdown",
   "id": "aa55b134",
   "metadata": {},
   "source": [
    "## Análise do erro\n",
    "\n",
    "Analisar o erro é importante para verificarmos o quão representativo é a matriz de trasnferência calculada, visto que quando trabalhamos com cálculos realizados computacionalmente, muitas vezes temos truncamento de valores, o que pode levar à propagação de erros e um possível resultado destoante do resultado real.\n",
    "\n",
    "Portanto, faremos o seguinte: temos a matriz exponencial $E$ calculada em nossa função matriz transferência triangular e calcularemos uma matriz $E_{obt}$ cujo cálculo será feito a partir da matriz de transferência. Após isso, calcularemos a diferença relativa entre as duas utilizando a fórmula: $erro = \\frac{E - E_{obt}}{E} \\bullet 100$.\n",
    "\n",
    "Agora, como chegamos à fórmula de $E_{obt}?$ Façamos um pouco de manipulação de matrizes a partir da fórmula de $T$:\n",
    "\n",
    "$T = PEP^{-1} \\Rightarrow P^{-1}T = EP^{-1} \\Rightarrow P^{-1}TP = E \\Rightarrow E_{obt} = P^{-1}TP$\n",
    "\n",
    "\n",
    "Realizando um pouco de manipulação de álgebra linear com a fórmula da matriz de transferência, chegamos à fórmula:\n",
    "$E_{obt} = P^{-1}TP$\n",
    "\n",
    "Verificando o erro com a fórmula $(\\frac{E - P^{-1}TP}{E}) \\bullet 100$, temos valores de erros na ordem de $10^{-14}$ a $10^{-16}$, tanto para a parte real quanto para a parte imaginária de $T$. Para isto, basta inserir o código: \n",
    "\n",
    "``print((E - la.inv(P) @ T @ P) * 100/E)`` \n",
    "\n",
    "na função de cálculo da matriz de transferência."
   ]
  }
 ],
 "metadata": {
  "kernelspec": {
   "display_name": "Python 3",
   "language": "python",
   "name": "python3"
  },
  "language_info": {
   "codemirror_mode": {
    "name": "ipython",
    "version": 3
   },
   "file_extension": ".py",
   "mimetype": "text/x-python",
   "name": "python",
   "nbconvert_exporter": "python",
   "pygments_lexer": "ipython3",
   "version": "3.8.8"
  }
 },
 "nbformat": 4,
 "nbformat_minor": 5
}
