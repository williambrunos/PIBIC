{
  "nbformat": 4,
  "nbformat_minor": 5,
  "metadata": {
    "kernelspec": {
      "display_name": "Python 3 (ipykernel)",
      "language": "python",
      "name": "python3"
    },
    "language_info": {
      "codemirror_mode": {
        "name": "ipython",
        "version": 3
      },
      "file_extension": ".py",
      "mimetype": "text/x-python",
      "name": "python",
      "nbconvert_exporter": "python",
      "pygments_lexer": "ipython3",
      "version": "3.7.6"
    },
    "colab": {
      "name": "GA_PyGad_Implementation.ipynb",
      "provenance": [],
      "include_colab_link": true
    }
  },
  "cells": [
    {
      "cell_type": "markdown",
      "metadata": {
        "id": "view-in-github",
        "colab_type": "text"
      },
      "source": [
        "<a href=\"https://colab.research.google.com/github/williambrunos/PIBIC/blob/main/Semana_4/GA_PyGad_Implementation.ipynb\" target=\"_parent\"><img src=\"https://colab.research.google.com/assets/colab-badge.svg\" alt=\"Open In Colab\"/></a>"
      ]
    },
    {
      "cell_type": "code",
      "metadata": {
        "colab": {
          "base_uri": "https://localhost:8080/"
        },
        "id": "gxiU3rYzJiYi",
        "outputId": "a65349a5-481d-4a27-84e7-5f46d1c608e2"
      },
      "source": [
        "!pip install pygad"
      ],
      "id": "gxiU3rYzJiYi",
      "execution_count": 1,
      "outputs": [
        {
          "output_type": "stream",
          "name": "stdout",
          "text": [
            "Collecting pygad\n",
            "  Downloading pygad-2.16.3-py3-none-any.whl (53 kB)\n",
            "\u001b[?25l\r\u001b[K     |██████▏                         | 10 kB 32.0 MB/s eta 0:00:01\r\u001b[K     |████████████▎                   | 20 kB 26.5 MB/s eta 0:00:01\r\u001b[K     |██████████████████▍             | 30 kB 31.8 MB/s eta 0:00:01\r\u001b[K     |████████████████████████▌       | 40 kB 14.8 MB/s eta 0:00:01\r\u001b[K     |██████████████████████████████▋ | 51 kB 16.7 MB/s eta 0:00:01\r\u001b[K     |████████████████████████████████| 53 kB 1.7 MB/s \n",
            "\u001b[?25hRequirement already satisfied: numpy in /usr/local/lib/python3.7/dist-packages (from pygad) (1.21.5)\n",
            "Requirement already satisfied: matplotlib in /usr/local/lib/python3.7/dist-packages (from pygad) (3.2.2)\n",
            "Requirement already satisfied: kiwisolver>=1.0.1 in /usr/local/lib/python3.7/dist-packages (from matplotlib->pygad) (1.3.2)\n",
            "Requirement already satisfied: python-dateutil>=2.1 in /usr/local/lib/python3.7/dist-packages (from matplotlib->pygad) (2.8.2)\n",
            "Requirement already satisfied: pyparsing!=2.0.4,!=2.1.2,!=2.1.6,>=2.0.1 in /usr/local/lib/python3.7/dist-packages (from matplotlib->pygad) (3.0.7)\n",
            "Requirement already satisfied: cycler>=0.10 in /usr/local/lib/python3.7/dist-packages (from matplotlib->pygad) (0.11.0)\n",
            "Requirement already satisfied: six>=1.5 in /usr/local/lib/python3.7/dist-packages (from python-dateutil>=2.1->matplotlib->pygad) (1.15.0)\n",
            "Installing collected packages: pygad\n",
            "Successfully installed pygad-2.16.3\n"
          ]
        }
      ]
    },
    {
      "cell_type": "code",
      "metadata": {
        "id": "76ff188b"
      },
      "source": [
        "import pygad\n",
        "import numpy as np\n",
        "import math\n",
        "import matplotlib.pyplot as plt\n",
        "import scipy.linalg as la\n",
        "import scipy.special as sp\n",
        "import itertools"
      ],
      "id": "76ff188b",
      "execution_count": 20,
      "outputs": []
    },
    {
      "cell_type": "code",
      "metadata": {
        "id": "4b6c8fc4"
      },
      "source": [
        "def ArranjoTriangular(alpha, beta, gama):\n",
        "    \"\"\"\n",
        "    Retorna a matriz triangular A com parâmetros alpha, beta e gamma.\n",
        "    complex(x, y) retorna um número complexo da forma x + yi, onde i é o número imaginário\n",
        "    \n",
        "    Parâmetros\n",
        "    --------------------------------------\n",
        "    :params alpha, beta, gama: alpha é um número real\n",
        "    \n",
        "    Retorno\n",
        "    --------------------------------------\n",
        "    :return: retorna a matriz arranjo triangular como numpy array cujos valores estão de acordo com os parâmetros recebidos\n",
        "    \"\"\"\n",
        "    A = np.array([[0, complex(0, gama), complex(0, beta)], \n",
        "                  [complex(0, gama), 0, complex(0, alpha)], \n",
        "                  [complex(0, beta), complex(0, alpha), 0]])\n",
        "    \n",
        "    return A"
      ],
      "id": "4b6c8fc4",
      "execution_count": 3,
      "outputs": []
    },
    {
      "cell_type": "code",
      "metadata": {
        "id": "0e19a4b4"
      },
      "source": [
        "def MatrizTransferenciaTriangular(A, z):\n",
        "    \"\"\"\n",
        "    Retorna a matriz de transferência triangular T a partir de uma matriz de arranjo triangular A a partir dos passos já citados\n",
        "    Erro percentual de 10^(-14) a 10^(-16), ínfimo.\n",
        "    \n",
        "    Parâmetros\n",
        "    --------------------------------------\n",
        "    :param A: matriz de Arranjo Triangular como numpy array\n",
        "    :param z: número real qualquer (comprimento do acoplador)\n",
        "    \n",
        "    Retorno\n",
        "    \n",
        "    :return:  matriz numpy array de transferência triangular T calculada com erro ínfimo.\n",
        "    \"\"\"\n",
        "    eigvals, eigvecs = la.eig(A)\n",
        "    D = np.array([[eigvals[0], 0, 0], \n",
        "                  [0, eigvals[1], 0], \n",
        "                  [0, 0, eigvals[2]]])\n",
        "    P = eigvecs.copy()\n",
        "    E = np.array([[np.exp(z*eigvals[0]), 0, 0], \n",
        "                  [0, np.exp(z*eigvals[1]), 0], \n",
        "                  [0, 0, np.exp(z*eigvals[2])]])\n",
        "    \n",
        "    if np.allclose(A, P @ D @ la.inv(P), atol=1e-17):\n",
        "        raise ValueError(f'Parameter Matrix A has not property A == PDP^(-1) for a tolerance of {1e-17}')\n",
        "    \n",
        "    # T é a matriz de transferência\n",
        "    T = P @ E @ la.inv(P)\n",
        "    \n",
        "    return T"
      ],
      "id": "0e19a4b4",
      "execution_count": 4,
      "outputs": []
    },
    {
      "cell_type": "code",
      "metadata": {
        "id": "0d34b1e4"
      },
      "source": [
        "def Tv(NumberOfInputs):\n",
        "    \"\"\"\n",
        "    Retorna uma tabela verdade (TruthTable) dado um circuito com n inputs maiores ou iguais a 1\n",
        "    Checa se a variável NumberOfInputs é inteira. Se sim, continua normalmente, se não lança uma exceção com a mensagem\n",
        "    'Parameter \\'NumberOfInputs\\' must be a integer'\n",
        "\n",
        "    Parâmetros\n",
        "    ------------------------------------------------\n",
        "    :param NumberOfInputs: número de inputs do circuito lógico, deve ser um número inteiro (obrigatoriamente)\n",
        "    \n",
        "    Retorno\n",
        "    ------------------------------------------------\n",
        "    :return: Retorna a tabela verdade como uma lista do Python (caso necessário, transformar o retorno em numpy array)\n",
        "    \"\"\"\n",
        "    if not isinstance(NumberOfInputs, int):\n",
        "        raise ValueError('Parameter \\'NumerOfInputs\\' must be a integer')\n",
        "    if NumberOfInputs < 1:                                                   \n",
        "        raise ValueError('Parameter \\'NumberOfInputs\\' must be greater or equal to 1')\n",
        "    else:\n",
        "        table = list(itertools.product ([0, 1], repeat = NumberOfInputs))    \n",
        "        table = np.array(table, dtype=float)\n",
        "        return table"
      ],
      "id": "0d34b1e4",
      "execution_count": 5,
      "outputs": []
    },
    {
      "cell_type": "code",
      "metadata": {
        "id": "d50d940e"
      },
      "source": [
        "def PAM(TruthTable, epsilon):\n",
        "    \"\"\"\n",
        "    Função que retorna uma modulação PAM para uma dada tabela verdade (TruthTable) e certo epsilon real arbitrário.\n",
        "    Não modifica a tabela verdade original, apenas realiza alterações em uma cópia e a retorna no final.\n",
        "    Funciona para qualquer tabela verdade (TruthTable) com n inputs (Matriz não precisa ser quadrada)\n",
        "\n",
        "    Parâmetros\n",
        "    ------------------------------------------------\n",
        "    :param TruthTable: tabela verdade a ser analisada e transformada em modulação PAM\n",
        "    :param epsilon: epsilon no qual os valores serão calculados\n",
        "    \n",
        "    Retorno\n",
        "    ------------------------------------------------\n",
        "    :return: retorna um numpy array como matriz da modulação PAM da tabela verdade recebida como parâmetro\n",
        "    \"\"\"\n",
        "    if epsilon <= 0 or epsilon >= 1:\n",
        "        raise ValueError(f'Epsilon must be major than 0 and minor than 1')\n",
        "    PamTable = TruthTable.copy() # Como utiliza uma cópia, PamTable será uma matriz com elementos do tipo float\n",
        "    rows, columns = PamTable.shape\n",
        "    for row in range(rows):\n",
        "        for column in range(columns):\n",
        "            if PamTable[row][column] == 1:\n",
        "                PamTable[row][column] = 1 + epsilon\n",
        "            elif PamTable[row][column] == 0:\n",
        "                PamTable[row][column] = 1 - epsilon\n",
        "            else:\n",
        "                raise ValueError('Truth Table must be filled just with zeros and ones')\n",
        "    return PamTable"
      ],
      "id": "d50d940e",
      "execution_count": 6,
      "outputs": []
    },
    {
      "cell_type": "code",
      "metadata": {
        "id": "086d736a"
      },
      "source": [
        "def InvPAM(PAMTable):\n",
        "    \"\"\"\n",
        "    Função que retorna uma nova tabela verdade com modulação bniária (processo inverso da modulação PAM)\n",
        "    \n",
        "    Parâmetros\n",
        "    ------------------------------\n",
        "    :param PAMTable: Tabela verdade em modulação PAM (1 +- epsilon)\n",
        "    \n",
        "    Retorno\n",
        "    ------------------------------\n",
        "    :return: Retorna uma nova matriz como numpy array que representa a tabela verdade original (inversa da PAM)\n",
        "    \"\"\"\n",
        "    rows, columns = PAMTable.shape\n",
        "    ResultTable = np.ones(shape=(rows, columns), dtype=float)\n",
        "    for row in range(rows):\n",
        "        for column in range(columns):\n",
        "            if PAMTable[row][column] < 1:\n",
        "                ResultTable[row][column] = 0\n",
        "    return ResultTable"
      ],
      "id": "086d736a",
      "execution_count": 7,
      "outputs": []
    },
    {
      "cell_type": "code",
      "metadata": {
        "id": "0363178b"
      },
      "source": [
        "def OrTruthTableGenerator(TruthTable):\n",
        "    \"\"\"\n",
        "    Retorna uma tabela verdade do circuito lógico OR de acordo com uma tabela verdade (TruthTable). \n",
        "    Checa se a tabela está vazia, se sim a retorna (vazia), se não, realiza os cálculos.\n",
        "    \n",
        "    Parâmetros\n",
        "    ------------------------------------------------\n",
        "    :param TruthTable: tabela verdade a ser analisada\n",
        "    \n",
        "    Retorno\n",
        "    ------------------------------------------------\n",
        "    :return: Retorna a coluna (numpy array) com os valores da tabela verdade OR dos inputs da tabela verdade recebida \n",
        "    como parâmetro\n",
        "    \"\"\"\n",
        "    rows, columns = TruthTable.shape\n",
        "    ResultTable = np.zeros(shape=(rows, 1), dtype=float)\n",
        "    \n",
        "    if TruthTable.size == 0:\n",
        "        return TruthTable\n",
        "    \n",
        "    for row in range(rows):\n",
        "        BooleanRowArray = TruthTable[row][:]\n",
        "        if np.any(BooleanRowArray):\n",
        "            ResultTable[row][0] = 1\n",
        "        \n",
        "    return ResultTable"
      ],
      "id": "0363178b",
      "execution_count": 8,
      "outputs": []
    },
    {
      "cell_type": "code",
      "metadata": {
        "id": "257b9506"
      },
      "source": [
        "\n",
        "def AndTruthTableGenerator(TruthTable):\n",
        "    \"\"\"\n",
        "    Retorna uma tabela verdade do circuito lógico AND de acordo com uma tabela verdade (TruthTable). \n",
        "    Checa se a tabela está vazia, se sim a retorna (vazia), se não, realiza os cálculos.\n",
        "    \n",
        "    Parâmetros\n",
        "    ------------------------------------------------\n",
        "    :param TruthTable: tabela verdade a ser analisada\n",
        "    \n",
        "    Retorno\n",
        "    ------------------------------------------------\n",
        "    :return: Retorna a coluna (numpy array) com os valores da tabela verdade AND dos inputs da tabela verdade recebida \n",
        "    como parâmetro\n",
        "    \"\"\"\n",
        "    rows, columns = TruthTable.shape\n",
        "    ResultTable = np.zeros(shape=(rows, 1), dtype=float)\n",
        "    \n",
        "    if TruthTable.size == 0:\n",
        "        return TruthTable\n",
        "    \n",
        "    for row in range(rows):\n",
        "        BooleanRowArray = TruthTable[row][:]\n",
        "        if np.all(BooleanRowArray):\n",
        "            ResultTable[row][0] = 1;\n",
        "    \n",
        "    return ResultTable"
      ],
      "id": "257b9506",
      "execution_count": 9,
      "outputs": []
    },
    {
      "cell_type": "markdown",
      "source": [
        "**CUIDADO**: Ao definir um novo target como numpy array, certifique-se de que o mesmo esteja como float, utilizando o atributo **dtype='float'** na construção do array."
      ],
      "metadata": {
        "id": "-EhCuBgSoRYv"
      },
      "id": "-EhCuBgSoRYv"
    },
    {
      "cell_type": "code",
      "metadata": {
        "id": "9c0988fe"
      },
      "source": [
        "solution = []\n",
        "target = OrTruthTableGenerator(Tv(3))\n",
        "# solution = [alpha, beta, gamma, z, epsilon]\n",
        "def AptidaoArranjoTriangular(solution, solution_idx):\n",
        "    A = ArranjoTriangular(solution[0], solution[1], solution[2])\n",
        "    T = MatrizTransferenciaTriangular(A, solution[3])\n",
        "    Inp = PAM(Tv(3), solution[4])\n",
        "    Out = T @ Inp.T\n",
        "    Out = Out.T\n",
        "    OutPAM = PAM(target, solution[4])\n",
        "\n",
        "    # Out1 é contraste\n",
        "    Out1 = np.array([Out[:,0]])\n",
        "    Out1 = Out1.T\n",
        "    kernel = math.e**(-0.005*np.linalg.norm(20*np.log10(OutPAM) - 20*np.log10(abs(Out1))))\n",
        "\n",
        "    return kernel"
      ],
      "id": "9c0988fe",
      "execution_count": 10,
      "outputs": []
    },
    {
      "cell_type": "markdown",
      "metadata": {
        "id": "5a71ed60"
      },
      "source": [
        "# Implementação do Algoritmo Genético no PyGad no nosso código\n",
        "\n",
        "Já temos a função de aptidão, na qual depende do resultado de outras funções e retorna um valor de kernel. Nossa solução deve gerar um kernel obtido dessa função o mais próximo de 1 quanto possível, quando as relações de contraste de OutPAM e Out1 são o mais próximas possível.\n",
        "\n",
        "Utilizaremos uma variação da função de aptidão, dada por: \n",
        "\n",
        "$$f(\\alpha, \\beta, \\gamma, z, ϵ) = e^{-0.005 \\; |20 \\; log_{10}{OutPAM} - 20\\dot log_{10}{Out1}|}$$\n",
        "\n",
        "## Parâmetros Utilizados\n",
        "\n",
        "fitness function : AptidaoArranjoTriangular\n",
        "\n",
        "maximun number of generations : 500\n",
        "\n",
        "number of parents chosen to mate : 4\n",
        "\n",
        "parents selection type : 'sss'\n",
        "\n",
        "crossover type : 'single_point'\n",
        "\n",
        "mutation type : random\n",
        "\n",
        "mutation percentage genes : 10%\n",
        "\n",
        "## Range de valores\n",
        "\n",
        "Os valores buscados pelo algoritmo genético são: \n",
        "\n",
        "$$\\alpha, \\beta, \\gamma, z, \\epsilon$$\n",
        "\n",
        "No entanto, não pode-se encontrar quaisquer valores para estas grandezas. Portanto, restringimos inicialmente o range de valores dessas grandezas para:\n",
        "\n",
        "- $0 \\le \\alpha, \\beta, \\gamma \\le 300\\$\n",
        "\n",
        "- $0 \\le z \\le 1000$\n",
        "\n",
        "- $0.35 \\le \\epsilon \\le 0.9$\n",
        "\n",
        "* Obs: Os valores foram definidos dessa forma pelo orientador (suscetível a mudanças)\n",
        "\n",
        "Como pode-se observar no algoritmo, ele sempre busca o menor epsilon possível, pois pelas manipulações de matrizes realizadas na função de aptidão o kernel tende a retornar cada vez mais próximo de 1 quanto menor for a grandeza epsilon (resultados empíricos).\n",
        "\n",
        "Por conta dessa característica do GA, tomei como hiperparâmetro o epsilon iniciando de 0.35, para que, mesmo que o GA tenda a diminuí-lo ao máximo, o valor desta grandeza não tenda a zero. O motivo? Épsilon é o parãmetro de modulação, utilizado para realizar a modulação PAM em sinais de entrada para que os cálculos sejam realizados, sendo uma representação temporária. Assim, se épsilon for pequeno demais, o sinal pode ser confundido com um ruído, o que não é interessante para os PCF's."
      ],
      "id": "5a71ed60"
    },
    {
      "cell_type": "code",
      "metadata": {
        "id": "827ee488"
      },
      "source": [
        "fitness_function = AptidaoArranjoTriangular\n",
        "\n",
        "num_generations = 100\n",
        "num_parents_mating = 4\n",
        "\n",
        "sol_per_pop = 300\n",
        "num_genes = 5\n",
        "\n",
        "gene_space = [{'low': 0, 'high': 300}, {'low': 0, 'high': 300}, {'low': 0, 'high': 300}, {'low': 0, 'high': 1000}, {'low': 0.35, 'high': 0.9}]\n",
        "\n",
        "parent_selection_type = \"sss\"\n",
        "keep_parents = 1\n",
        "\n",
        "crossover_type = \"scattered\"\n",
        "\n",
        "mutation_type = \"random\"\n",
        "mutation_probability=0.01\n",
        "mutation_percent_genes = 20"
      ],
      "id": "827ee488",
      "execution_count": 11,
      "outputs": []
    },
    {
      "cell_type": "code",
      "metadata": {
        "id": "87f8d334"
      },
      "source": [
        "ga_instance = pygad.GA(num_generations=num_generations,\n",
        "                       num_parents_mating=num_parents_mating,\n",
        "                       fitness_func=AptidaoArranjoTriangular,\n",
        "                       sol_per_pop=sol_per_pop,\n",
        "                       num_genes=num_genes,\n",
        "                       gene_space=gene_space,\n",
        "                       parent_selection_type=parent_selection_type,\n",
        "                       keep_parents=keep_parents,\n",
        "                       crossover_type=crossover_type,\n",
        "                       mutation_type=mutation_type,\n",
        "                       mutation_percent_genes=mutation_percent_genes)"
      ],
      "id": "87f8d334",
      "execution_count": 12,
      "outputs": []
    },
    {
      "cell_type": "code",
      "metadata": {
        "id": "a1226a46"
      },
      "source": [
        "ga_instance.run()"
      ],
      "id": "a1226a46",
      "execution_count": 13,
      "outputs": []
    },
    {
      "cell_type": "code",
      "metadata": {
        "colab": {
          "base_uri": "https://localhost:8080/",
          "height": 583
        },
        "id": "45cb8aad",
        "outputId": "503eca9b-a5ac-4f4c-e05e-aa1fb37c4fc5"
      },
      "source": [
        "ga_instance.plot_fitness()"
      ],
      "id": "45cb8aad",
      "execution_count": 14,
      "outputs": [
        {
          "output_type": "display_data",
          "data": {
            "image/png": "[encoded data removed]",
            "text/plain": [
              "<Figure size 432x288 with 1 Axes>"
            ]
          },
          "metadata": {
            "needs_background": "light"
          }
        },
        {
          "output_type": "execute_result",
          "data": {
            "image/png": "[encoded data removed]",
            "text/plain": [
              "<Figure size 432x288 with 1 Axes>"
            ]
          },
          "metadata": {},
          "execution_count": 14
        }
      ]
    },
    {
      "cell_type": "code",
      "metadata": {
        "colab": {
          "base_uri": "https://localhost:8080/"
        },
        "id": "2bdb26df",
        "outputId": "1c538dc3-d8ef-489d-8d55-5ca108419820"
      },
      "source": [
        "solution, solution_fitness, solution_idx = ga_instance.best_solution()\n",
        "print(\"Parameters of the best solution : {solution}\".format(solution=solution))\n",
        "print(\"Fitness value of the best solution = {solution_fitness}\".format(solution_fitness=solution_fitness))\n",
        "print(\"Index of the best solution : {solution_idx}\".format(solution_idx=solution_idx))"
      ],
      "id": "2bdb26df",
      "execution_count": 15,
      "outputs": [
        {
          "output_type": "stream",
          "name": "stdout",
          "text": [
            "Parameters of the best solution : [5.60764263e+00 2.03135874e+02 2.03279433e+02 4.93641054e+02\n",
            " 3.50212025e-01]\n",
            "Fitness value of the best solution = 0.9810637242369095\n",
            "Index of the best solution : 98\n"
          ]
        }
      ]
    },
    {
      "cell_type": "code",
      "source": [
        "alpha_out, beta_out, gamma_out, z_out, epsilon_out = solution \n",
        "print(f'Alpha: {alpha_out}\\nBeta: {beta_out}\\nGamma: {gamma_out}\\nZ: {z_out}\\nEpislon: {epsilon_out}')"
      ],
      "metadata": {
        "colab": {
          "base_uri": "https://localhost:8080/"
        },
        "id": "RH81TY-jdsWG",
        "outputId": "796549e2-3f7e-4a04-83d9-9bb14e6bf2b5"
      },
      "id": "RH81TY-jdsWG",
      "execution_count": 16,
      "outputs": [
        {
          "output_type": "stream",
          "name": "stdout",
          "text": [
            "Alpha: 5.607642634409082\n",
            "Beta: 203.13587351792108\n",
            "Gamma: 203.27943340395214\n",
            "Z: 493.64105440544114\n",
            "Epislon: 0.35021202510493477\n"
          ]
        }
      ]
    },
    {
      "cell_type": "code",
      "metadata": {
        "colab": {
          "base_uri": "https://localhost:8080/"
        },
        "id": "c115ddfc",
        "outputId": "5b93936f-8382-41b6-be8e-a4cce3ad873a"
      },
      "source": [
        "if ga_instance.best_solution_generation != -1:\n",
        "    print(\"Best fitness value reached after {best_solution_generation} generations.\".format(best_solution_generation=ga_instance.best_solution_generation))"
      ],
      "id": "c115ddfc",
      "execution_count": 17,
      "outputs": [
        {
          "output_type": "stream",
          "name": "stdout",
          "text": [
            "Best fitness value reached after 100 generations.\n"
          ]
        }
      ]
    },
    {
      "cell_type": "markdown",
      "source": [
        "### Convertendo todo o processamento do GA em uma função\n",
        "\n",
        "Por que fazer isto? Precisamos que o algoritmo genético seja executado passando como argumento apenas o target como um numpy array com dtype float, com todos os outros parâmetros sendo definidos dentro da função, pois são detalhes de implementação e arquitetura do algoritmo genético. "
      ],
      "metadata": {
        "id": "zuIGiOrckN_t"
      },
      "id": "zuIGiOrckN_t"
    },
    {
      "cell_type": "code",
      "source": [
        "def find_best_solutions_for_triangular_arrange(target):\n",
        "  solution = []\n",
        "  target = np.vstack(target)\n",
        "  # solution = [alpha, beta, gamma, z, epsilon]\n",
        "  def AptidaoArranjoTriangular(solution, solution_idx):\n",
        "      A = ArranjoTriangular(solution[0], solution[1], solution[2])\n",
        "      T = MatrizTransferenciaTriangular(A, solution[3])\n",
        "      Inp = PAM(Tv(3), solution[4])\n",
        "      Out = T @ Inp.T\n",
        "      Out = Out.T\n",
        "      OutPAM = PAM(target, solution[4])\n",
        "\n",
        "      Out1 = np.array([Out[:,0]])\n",
        "      Out1 = Out1.T\n",
        "      kernel = math.e**(-0.005*np.linalg.norm(20*np.log10(OutPAM) - 20*np.log10(abs(Out1))))\n",
        "\n",
        "      return kernel\n",
        "    \n",
        "  fitness_function = AptidaoArranjoTriangular\n",
        "\n",
        "  num_generations = 100\n",
        "  num_parents_mating = 4\n",
        "\n",
        "  sol_per_pop = 300\n",
        "  num_genes = 5\n",
        "\n",
        "  gene_space = [{'low': 0, 'high': 300}, {'low': 0, 'high': 300}, {'low': 0, 'high': 300}, {'low': 0, 'high': 1000}, {'low': 0.35, 'high': 0.9}]\n",
        "\n",
        "  parent_selection_type = \"sss\"\n",
        "  keep_parents = 1\n",
        "\n",
        "  crossover_type = \"scattered\"\n",
        "\n",
        "  mutation_type = \"random\"\n",
        "  mutation_probability=0.01\n",
        "  mutation_percent_genes = 20\n",
        "\n",
        "  ga_instance = pygad.GA(num_generations=num_generations,\n",
        "                      num_parents_mating=num_parents_mating,\n",
        "                      fitness_func=AptidaoArranjoTriangular,\n",
        "                      sol_per_pop=sol_per_pop,\n",
        "                      num_genes=num_genes,\n",
        "                      gene_space=gene_space,\n",
        "                      parent_selection_type=parent_selection_type,\n",
        "                      keep_parents=keep_parents,\n",
        "                      crossover_type=crossover_type,\n",
        "                      mutation_type=mutation_type,\n",
        "                      mutation_percent_genes=mutation_percent_genes)\n",
        "    \n",
        "  ga_instance.run()\n",
        "  ga_instance.plot_fitness()\n",
        "  solution, solution_fitness, solution_idx = ga_instance.best_solution()\n",
        "  print(\"\\n\\nParameters of the best solution : {solution}\".format(solution=solution))\n",
        "  print(\"Fitness value of the best solution = {solution_fitness}\".format(solution_fitness=solution_fitness))\n",
        "  print(\"Index of the best solution : {solution_idx}\".format(solution_idx=solution_idx))"
      ],
      "metadata": {
        "id": "18CPgya6i1-3"
      },
      "id": "18CPgya6i1-3",
      "execution_count": 18,
      "outputs": []
    },
    {
      "cell_type": "code",
      "source": [
        "find_best_solutions_for_triangular_arrange(np.array([0, 1, 0, 1, 1, 0, 0, 1], dtype='float'))"
      ],
      "metadata": {
        "id": "DT29-cdFjTjf",
        "outputId": "de70ea79-aff2-4627-fcdf-e98aeea8959b",
        "colab": {
          "base_uri": "https://localhost:8080/",
          "height": 404
        }
      },
      "id": "DT29-cdFjTjf",
      "execution_count": 19,
      "outputs": [
        {
          "output_type": "display_data",
          "data": {
            "image/png": "[encoded data removed]",
            "text/plain": [
              "<Figure size 432x288 with 1 Axes>"
            ]
          },
          "metadata": {
            "needs_background": "light"
          }
        },
        {
          "output_type": "stream",
          "name": "stdout",
          "text": [
            "\n",
            "\n",
            "Parameters of the best solution : [1.73881799e+02 2.53996133e+02 4.79761927e+00 6.00257301e+02\n",
            " 3.50007659e-01]\n",
            "Fitness value of the best solution = 0.9635171277336333\n",
            "Index of the best solution : 0\n"
          ]
        }
      ]
    },
    {
      "cell_type": "markdown",
      "source": [
        "## Melhorando nosso MVP\n",
        "\n",
        "Até o momento, construímos funções que modelavam o arranjo triangular (ou outro, dependendo do colega da equipe) e modelamos o algoritmo genético para conseguir os melhores parâmetros das fibras ópticas tais que os arranjos de núcleos fotônicos pudessem se comportar como uma determinada porta lógica alvo (target).\n",
        "\n",
        "No entanto, como um trabalho de um engenheiro, precisamos na verdade fazer o algoritmo genético variar os parâmetros **GEOMÉTRICOS** das fibras de forma a conseguirmos obter os tais parâmetros considerados ótimos para nosso algoritmo genético.\n",
        "\n",
        "Em suma, conitnuaremos com nossa função de aptidão:\n",
        "\n",
        "$$f(\\alpha, \\beta, \\gamma, z, \\epsilon) = e^{-0.005 \\; |20 \\; log_{10}{OutPAM} - 20\\dot log_{10}{Out1}|}$$\n",
        "\n",
        "No entanto, agora não iremos mais variar os parâmetros em si da fibra (alpha, beta etc.), mas sim os parâmetros geométricos, para que assim possamos encontrar os parâmetros ópticos por meio de modelagens matemáticas.\n",
        "\n",
        "### Modelando Parâmetros Geométricos\n",
        "\n",
        "#### Constante de Acoplamento\n",
        "\n",
        "A constante de acoplamento entre dois núcleos com índice de refração $n_1$, inseridos em um meio com índice de refração $n_2$, ambos com raio $a$, com comprimento de onda $\\lambda$ da luz que trespassa os mesmos e distantes um do outro de $s$ unidades, é dada por:\n",
        "\n",
        "$$ConstanteDeAcoplamento(n_1, n_2, a, \\lambda, s) = \n",
        "\\frac{\\sqrt{2 \\; \\Delta \\;}\\; U^3 \\; K_0(W \\; s/a)}{a \\; V^3 \\; K_1^2(W)}$$\n",
        "\n",
        "Os parâmetros das funções acima são calculados da seguinte forma:\n",
        "\n",
        "$$k = \\frac{2 \\; \\pi}{\\lambda}$$\n",
        "\n",
        "$$\\Delta = \\frac{(n_1^2 - n_2^2)}{n_1^2}$$\n",
        "\n",
        "$$V = k \\; a \\; n_1 \\; \\sqrt{2 \\; \\Delta}$$\n",
        "\n",
        "$$U = k \\; a \\; \\sqrt{n_1^2 - (\\frac{\\beta_0}{k})^2}$$\n",
        "\n",
        "$$W = k \\; a \\; \\sqrt{(\\frac{\\beta_0}{k})^2 - n_2^2}$$\n",
        "\n",
        "**obs**: Para o cálculo das funções de Bessel, $K_0$ e $K_1$, utilizaremos o módulo scipy, com submódulo special, o qual possui a função de Bessel de segunda espécie e de ordem **n**. Aqui, precisamos apenas de ordem n=0 para $K_0$ e n=1 para $K_1$. \n",
        "\n",
        "Documentação: [Bessel Second Kind Documentation](https://docs.scipy.org/doc/scipy/reference/generated/scipy.special.yn.html#scipy.special.yn)\n",
        "\n",
        "### Pensando na Solução\n",
        "\n",
        "Podemos criar funções não tão complexas para processar todos os dados já apresentados e fazer nosso algoritmo genético variar três parâmetros geométricos ao invés de $\\alpha, \\beta, \\gamma$, mas sim: $s_{12}, s_{13}, \\theta, z, \\epsilon$, sendo os dois primeiros parâmetros as distâncias entre os núcleos 1 e 3, modelando os parâmetros alpha e beta, respectivamente.\n",
        "\n",
        "Dessa forma, o array de soluções se consolida como (importante para nossa solução em notação posicional):\n",
        "\n",
        "$$[s_{12}, s_{13}, \\theta, z, \\epsilon]$$"
      ],
      "metadata": {
        "id": "Mqqnzq1XR3R8"
      },
      "id": "Mqqnzq1XR3R8"
    },
    {
      "cell_type": "code",
      "source": [
        "# Run this cell to see the bessel second kind function documentation from scipy.special\n",
        "sp.yn?"
      ],
      "metadata": {
        "id": "2O3vS42Kg0VH"
      },
      "id": "2O3vS42Kg0VH",
      "execution_count": 21,
      "outputs": []
    },
    {
      "cell_type": "code",
      "source": [
        "# Em construção...\n",
        "# OBS: as subtrações dentro das raízes de U e W foram postas em módulo devido\n",
        "# a erros numéricos (verificar com orientador)\n",
        "def find_best_solutions_for_triangular_arrange(target, n1, n2, a, lamb, Beta_0):\n",
        "  solution = []\n",
        "  target = np.vstack(target)\n",
        "\n",
        "  k = 2 * math.pi / lamb\n",
        "  Delta = (math.pow(n1, 2) - math.pow(n2, 2)) / math.pow(n1, 2)\n",
        "  V = k * a * n1 * math.sqrt(2 * Delta)\n",
        "  U = k * a * math.sqrt(abs(math.pow(n1, 2) - math.pow((Beta_0 / k), 2)))\n",
        "  W = k * a * math.sqrt(abs(math.pow((Beta_0 / k), 2) - math.pow(n2, 2)))\n",
        "  s23 = None\n",
        "\n",
        "  # solution = [alpha, beta, gamma, z, epsilon]\n",
        "  def AptidaoArranjoTriangular(solution, solution_idx):\n",
        "      def ConstanteDeAcoplamento(n1, n2, a, lamb, s):\n",
        "        \"\"\"\n",
        "        Retorna a constante de acoplamento da fibra entre dois núcleos de raio a\n",
        "        e distantes de s unidades\n",
        "\n",
        "        Parâmetros:\n",
        "        ------------------------------------------------------------------------\n",
        "        :param n1: Índice de refração dentro do núcleo\n",
        "        :param n2: Índice de refração fora do núcleo\n",
        "        :param a: Raio do núcleo\n",
        "        :param lamb: Comprimento de onda da luz no vácuo\n",
        "        :param s:  Distância entre os dois núcleos\n",
        "\n",
        "        Retorno\n",
        "        ------------------------------------------------------------------------\n",
        "        :return: Constante de acoplamento entre os dois núcleos\n",
        "        \"\"\"\n",
        "\n",
        "        numerator = math.sqrt(2 * Delta) * math.pow(U, 3) * sp.yn(0, W * s / a)\n",
        "        denominator = a * math.pow(V, 3) * sp.yn(1, W)\n",
        "\n",
        "        return numerator / denominator\n",
        "      \n",
        "      def TerceiroLadoDoTriangulo(a, b, theta):\n",
        "        \"\"\"\n",
        "        Retorna o terceiro lado do triângulo usando lei dos cossenos\n",
        "\n",
        "        Parâmetros:\n",
        "        ------------------------------------------------------------------------\n",
        "        :param a: primeiro lado do triângulo\n",
        "        :param b: segundo lado do triângulo\n",
        "        :param theta: ângulo entre a e b\n",
        "\n",
        "        Retorno\n",
        "        ------------------------------------------------------------------------\n",
        "        :return: terceiro lado do triângulo de acordo com a lei dos cossenos\n",
        "        \"\"\"\n",
        "\n",
        "        return math.pow(a, 2) + math.pow(b, 2) - 2 * a * b * math.cos(theta)\n",
        "\n",
        "      alpha = ConstanteDeAcoplamento(n1, n2, a, lamb, solution[0])\n",
        "      beta = ConstanteDeAcoplamento(n1, n2, a, lamb, solution[1])\n",
        "      s23 = TerceiroLadoDoTriangulo(solution[0], solution[1], solution[2])\n",
        "      gamma = ConstanteDeAcoplamento(n1, n2, a, lamb, s23)\n",
        "\n",
        "      A = ArranjoTriangular(alpha, beta, gamma)\n",
        "      T = MatrizTransferenciaTriangular(A, solution[3])\n",
        "      Inp = PAM(Tv(3), solution[4])\n",
        "      Out = T @ Inp.T\n",
        "      Out = Out.T\n",
        "      OutPAM = PAM(target, solution[4])\n",
        "\n",
        "      Out1 = np.array([Out[:,0]])\n",
        "      Out1 = Out1.T\n",
        "      kernel = math.e**(-0.005*np.linalg.norm(20*np.log10(OutPAM) - 20*np.log10(abs(Out1))))\n",
        "\n",
        "      return kernel\n",
        "    \n",
        "  fitness_function = AptidaoArranjoTriangular\n",
        "\n",
        "  num_generations = 100\n",
        "  num_parents_mating = 4\n",
        "\n",
        "  sol_per_pop = 300\n",
        "  num_genes = 5\n",
        "\n",
        "  gene_space = [{'low': 0, 'high': 300}, {'low': 0, 'high': 300}, {'low': 0, 'high': 300}, {'low': 0, 'high': 1000}, {'low': 0.35, 'high': 0.9}]\n",
        "\n",
        "  parent_selection_type = \"sss\"\n",
        "  keep_parents = 1\n",
        "\n",
        "  crossover_type = \"scattered\"\n",
        "\n",
        "  mutation_type = \"random\"\n",
        "  mutation_probability=0.01\n",
        "  mutation_percent_genes = 20\n",
        "\n",
        "  ga_instance = pygad.GA(num_generations=num_generations,\n",
        "                      num_parents_mating=num_parents_mating,\n",
        "                      fitness_func=AptidaoArranjoTriangular,\n",
        "                      sol_per_pop=sol_per_pop,\n",
        "                      num_genes=num_genes,\n",
        "                      gene_space=gene_space,\n",
        "                      parent_selection_type=parent_selection_type,\n",
        "                      keep_parents=keep_parents,\n",
        "                      crossover_type=crossover_type,\n",
        "                      mutation_type=mutation_type,\n",
        "                      mutation_percent_genes=mutation_percent_genes)\n",
        "    \n",
        "  ga_instance.run()\n",
        "  ga_instance.plot_fitness()\n",
        "  solution, solution_fitness, solution_idx = ga_instance.best_solution()\n",
        "  print(\"\\n\\nParameters of the best solution : {solution}\".format(solution=solution))\n",
        "  print(\"Fitness value of the best solution = {solution_fitness}\".format(solution_fitness=solution_fitness))\n",
        "  print(\"Index of the best solution : {solution_idx}\".format(solution_idx=solution_idx))\n",
        "  print('Third side of the triangle: {third_side}'.format(third_side=s23))"
      ],
      "metadata": {
        "id": "-xrvkqGqVamM"
      },
      "id": "-xrvkqGqVamM",
      "execution_count": 35,
      "outputs": []
    },
    {
      "cell_type": "code",
      "source": [
        "find_best_solutions_for_triangular_arrange(np.array([0, 1, 0, 1, 1, 0, 0, 1], dtype='float'), 1.02, 1, 0.3, 2, 5)"
      ],
      "metadata": {
        "colab": {
          "base_uri": "https://localhost:8080/",
          "height": 404
        },
        "id": "2hhRW11QjyN5",
        "outputId": "47c2e6c8-2f7a-40ac-f7c5-b21d3def6514"
      },
      "id": "2hhRW11QjyN5",
      "execution_count": 36,
      "outputs": [
        {
          "output_type": "display_data",
          "data": {
            "image/png": "[encoded data removed]",
            "text/plain": [
              "<Figure size 432x288 with 1 Axes>"
            ]
          },
          "metadata": {
            "needs_background": "light"
          }
        },
        {
          "output_type": "stream",
          "name": "stdout",
          "text": [
            "\n",
            "\n",
            "Parameters of the best solution : [248.43073776 132.35424011 271.80486648  30.31109516   0.35000462]\n",
            "Fitness value of the best solution = 0.9635798281119068\n",
            "Index of the best solution : 0\n",
            "Third side of the triangle: None\n"
          ]
        }
      ]
    },
    {
      "cell_type": "markdown",
      "source": [
        "#### TODO\n",
        "\n",
        "- Verificar o valor absoluto das subtrações de U e W (são permitidos?).\n",
        "- Como exportar s23 para \"fora\" da função de aptidão? Precisamos fazer o usuário da biblioteca ter acesso ao terceiro lado do triângulo computado numericamente para que o mesmo possa construir a fibra."
      ],
      "metadata": {
        "id": "n1XXUw6VpSWI"
      },
      "id": "n1XXUw6VpSWI"
    }
  ]
}