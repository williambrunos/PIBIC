{
 "cells": [
  {
   "cell_type": "code",
   "execution_count": 50,
   "id": "76ff188b",
   "metadata": {},
   "outputs": [],
   "source": [
    "import pygad\n",
    "import numpy as np\n",
    "import math\n",
    "import matplotlib.pyplot as plt\n",
    "import scipy.linalg as la\n",
    "import itertools"
   ]
  },
  {
   "cell_type": "code",
   "execution_count": 51,
   "id": "4b6c8fc4",
   "metadata": {},
   "outputs": [],
   "source": [
    "def ArranjoTriangular(alpha, beta, gama):\n",
    "    \"\"\"\n",
    "    Retorna a matriz triangular A com parâmetros alpha, beta e gamma.\n",
    "    complex(x, y) retorna um número complexo da forma x + yi, onde i é o número imaginário\n",
    "    \n",
    "    Parâmetros\n",
    "    --------------------------------------\n",
    "    :params alpha, beta, gama: alpha é um número real\n",
    "    \n",
    "    Retorno\n",
    "    --------------------------------------\n",
    "    :return: retorna a matriz arranjo triangular como numpy array cujos valores estão de acordo com os parâmetros recebidos\n",
    "    \"\"\"\n",
    "    A = np.array([[0, complex(0, gama), complex(0, beta)], \n",
    "                  [complex(0, gama), 0, complex(0, alpha)], \n",
    "                  [complex(0, beta), complex(0, alpha), 0]])\n",
    "    \n",
    "    return A"
   ]
  },
  {
   "cell_type": "code",
   "execution_count": 52,
   "id": "0e19a4b4",
   "metadata": {},
   "outputs": [],
   "source": [
    "def MatrizTransferenciaTriangular(A, z):\n",
    "    \"\"\"\n",
    "    Retorna a matriz de transferência triangular T a partir de uma matriz de arranjo triangular A a partir dos passos já citados\n",
    "    Erro percentual de 10^(-14) a 10^(-16), ínfimo.\n",
    "    \n",
    "    Parâmetros\n",
    "    --------------------------------------\n",
    "    :param A: matriz de Arranjo Triangular como numpy array\n",
    "    :param z: número real qualquer (comprimento do acoplador)\n",
    "    \n",
    "    Retorno\n",
    "    \n",
    "    :return:  matriz numpy array de transferência triangular T calculada com erro ínfimo.\n",
    "    \"\"\"\n",
    "    eigvals, eigvecs = la.eig(A)\n",
    "    D = np.array([[eigvals[0], 0, 0], \n",
    "                  [0, eigvals[1], 0], \n",
    "                  [0, 0, eigvals[2]]])\n",
    "    P = eigvecs.copy()\n",
    "    E = np.array([[np.exp(z*eigvals[0]), 0, 0], \n",
    "                  [0, np.exp(z*eigvals[1]), 0], \n",
    "                  [0, 0, np.exp(z*eigvals[2])]])\n",
    "    \n",
    "    if np.allclose(A, P @ D @ la.inv(P), atol=1e-17):\n",
    "        raise ValueError(f'Parameter Matrix A has not property A == PDP^(-1) for a tolerance of {1e-17}')\n",
    "    \n",
    "    # T é a matriz de transferência\n",
    "    T = P @ E @ la.inv(P)\n",
    "    \n",
    "    return T"
   ]
  },
  {
   "cell_type": "code",
   "execution_count": 53,
   "id": "0d34b1e4",
   "metadata": {},
   "outputs": [],
   "source": [
    "def Tv(NumberOfInputs):\n",
    "    \"\"\"\n",
    "    Retorna uma tabela verdade (TruthTable) dado um circuito com n inputs maiores ou iguais a 1\n",
    "    Checa se a variável NumberOfInputs é inteira. Se sim, continua normalmente, se não lança uma exceção com a mensagem\n",
    "    'Parameter \\'NumberOfInputs\\' must be a integer'\n",
    "\n",
    "    Parâmetros\n",
    "    ------------------------------------------------\n",
    "    :param NumberOfInputs: número de inputs do circuito lógico, deve ser um número inteiro (obrigatoriamente)\n",
    "    \n",
    "    Retorno\n",
    "    ------------------------------------------------\n",
    "    :return: Retorna a tabela verdade como uma lista do Python (caso necessário, transformar o retorno em numpy array)\n",
    "    \"\"\"\n",
    "    if not isinstance(NumberOfInputs, int):\n",
    "        raise ValueError('Parameter \\'NumerOfInputs\\' must be a integer')\n",
    "    if NumberOfInputs < 1:                                                   \n",
    "        raise ValueError('Parameter \\'NumberOfInputs\\' must be greater or equal to 1')\n",
    "    else:\n",
    "        table = list(itertools.product ([0, 1], repeat = NumberOfInputs))    \n",
    "        table = np.array(table, dtype=float)\n",
    "        return table"
   ]
  },
  {
   "cell_type": "code",
   "execution_count": 54,
   "id": "d50d940e",
   "metadata": {},
   "outputs": [],
   "source": [
    "def PAM(TruthTable, epsilon):\n",
    "    \"\"\"\n",
    "    Função que retorna uma modulação PAM para uma dada tabela verdade (TruthTable) e certo epsilon real arbitrário.\n",
    "    Não modifica a tabela verdade original, apenas realiza alterações em uma cópia e a retorna no final.\n",
    "    Funciona para qualquer tabela verdade (TruthTable) com n inputs (Matriz não precisa ser quadrada)\n",
    "\n",
    "    Parâmetros\n",
    "    ------------------------------------------------\n",
    "    :param TruthTable: tabela verdade a ser analisada e transformada em modulação PAM\n",
    "    :param epsilon: epsilon no qual os valores serão calculados\n",
    "    \n",
    "    Retorno\n",
    "    ------------------------------------------------\n",
    "    :return: retorna um numpy array como matriz da modulação PAM da tabela verdade recebida como parâmetro\n",
    "    \"\"\"\n",
    "    if epsilon <= 0 or epsilon >= 1:\n",
    "        raise ValueError(f'Epsilon must be major than 0 and minor than 1')\n",
    "    PamTable = TruthTable.copy() # Como utiliza uma cópia, PamTable será uma matriz com elementos do tipo float\n",
    "    rows, columns = PamTable.shape\n",
    "    for row in range(rows):\n",
    "        for column in range(columns):\n",
    "            if PamTable[row][column] == 1:\n",
    "                PamTable[row][column] = 1 + epsilon\n",
    "            elif PamTable[row][column] == 0:\n",
    "                PamTable[row][column] = 1 - epsilon\n",
    "            else:\n",
    "                raise ValueError('Truth Table must be filled just with zeros and ones')\n",
    "    return PamTable"
   ]
  },
  {
   "cell_type": "code",
   "execution_count": 55,
   "id": "086d736a",
   "metadata": {},
   "outputs": [],
   "source": [
    "def InvPAM(PAMTable):\n",
    "    \"\"\"\n",
    "    Função que retorna uma nova tabela verdade com modulação bniária (processo inverso da modulação PAM)\n",
    "    \n",
    "    Parâmetros\n",
    "    ------------------------------\n",
    "    :param PAMTable: Tabela verdade em modulação PAM (1 +- epsilon)\n",
    "    \n",
    "    Retorno\n",
    "    ------------------------------\n",
    "    :return: Retorna uma nova matriz como numpy array que representa a tabela verdade original (inversa da PAM)\n",
    "    \"\"\"\n",
    "    rows, columns = PAMTable.shape\n",
    "    ResultTable = np.ones(shape=(rows, columns), dtype=float)\n",
    "    for row in range(rows):\n",
    "        for column in range(columns):\n",
    "            if PAMTable[row][column] < 1:\n",
    "                ResultTable[row][column] = 0\n",
    "    return ResultTable"
   ]
  },
  {
   "cell_type": "code",
   "execution_count": 56,
   "id": "c5177792",
   "metadata": {},
   "outputs": [],
   "source": [
    "target = AndTruthTableGenerator(Tv(3))\n",
    "solution = []\n",
    "def AptidaoArranjoTriangular(solution, solution_idx):\n",
    "    A = ArranjoTriangular(solution[0], solution[1], solution[2])\n",
    "    T = MatrizTransferenciaTriangular(A, solution[3])\n",
    "    Inp = PAM(Tv(3), 0.010)\n",
    "    Out = T @ Inp.T\n",
    "    Out = Out.T\n",
    "    OutPAM = PAM(target, 0.010)\n",
    "    \n",
    "    Out1 = np.array([Out[:,0]])\n",
    "    Out1 = Out1.T\n",
    "    kernel = math.e**(-np.linalg.norm(20*np.log10(OutPAM) - 20*np.log10(abs(Out1))))\n",
    "    \n",
    "    return kernel"
   ]
  },
  {
   "cell_type": "code",
   "execution_count": 57,
   "id": "0363178b",
   "metadata": {},
   "outputs": [],
   "source": [
    "def OrTruthTableGenerator(TruthTable):\n",
    "    \"\"\"\n",
    "    Retorna uma tabela verdade do circuito lógico OR de acordo com uma tabela verdade (TruthTable). \n",
    "    Checa se a tabela está vazia, se sim a retorna (vazia), se não, realiza os cálculos.\n",
    "    \n",
    "    Parâmetros\n",
    "    ------------------------------------------------\n",
    "    :param TruthTable: tabela verdade a ser analisada\n",
    "    \n",
    "    Retorno\n",
    "    ------------------------------------------------\n",
    "    :return: Retorna a coluna (numpy array) com os valores da tabela verdade OR dos inputs da tabela verdade recebida \n",
    "    como parâmetro\n",
    "    \"\"\"\n",
    "    rows, columns = TruthTable.shape\n",
    "    ResultTable = np.zeros(shape=(rows, 1), dtype=float)\n",
    "    \n",
    "    if TruthTable.size == 0:\n",
    "        return TruthTable\n",
    "    \n",
    "    for row in range(rows):\n",
    "        BooleanRowArray = TruthTable[row][:]\n",
    "        if np.any(BooleanRowArray):\n",
    "            ResultTable[row][0] = 1\n",
    "        \n",
    "    return ResultTable"
   ]
  },
  {
   "cell_type": "code",
   "execution_count": 58,
   "id": "257b9506",
   "metadata": {},
   "outputs": [],
   "source": [
    "\n",
    "def AndTruthTableGenerator(TruthTable):\n",
    "    \"\"\"\n",
    "    Retorna uma tabela verdade do circuito lógico AND de acordo com uma tabela verdade (TruthTable). \n",
    "    Checa se a tabela está vazia, se sim a retorna (vazia), se não, realiza os cálculos.\n",
    "    \n",
    "    Parâmetros\n",
    "    ------------------------------------------------\n",
    "    :param TruthTable: tabela verdade a ser analisada\n",
    "    \n",
    "    Retorno\n",
    "    ------------------------------------------------\n",
    "    :return: Retorna a coluna (numpy array) com os valores da tabela verdade AND dos inputs da tabela verdade recebida \n",
    "    como parâmetro\n",
    "    \"\"\"\n",
    "    rows, columns = TruthTable.shape\n",
    "    ResultTable = np.zeros(shape=(rows, 1), dtype=float)\n",
    "    \n",
    "    if TruthTable.size == 0:\n",
    "        return TruthTable\n",
    "    \n",
    "    for row in range(rows):\n",
    "        BooleanRowArray = TruthTable[row][:]\n",
    "        if np.all(BooleanRowArray):\n",
    "            ResultTable[row][0] = 1;\n",
    "    \n",
    "    return ResultTable"
   ]
  },
  {
   "cell_type": "markdown",
   "id": "5a71ed60",
   "metadata": {},
   "source": [
    "# Implementação do Algoritmo Genético no PyGad no nosso código\n",
    "\n",
    "Já temos a função de aptidão, na qual depende do resultado de outras funções e retorna um valor de kernel. Nossa solução deve gerar um kernel obtido dessa função o mais próximo de 1 quanto possível, quando as relações de contraste de OutPAM e Out1 são o mais próximas possível.\n",
    "\n",
    "Utilizaremos uma variação da função de aptidão, dada por: \n",
    "\n",
    "$$f(\\alpha, \\beta, \\gamma, z) = e^{-|20\\dot log_{10}{OutPAM} - 20\\dot log_{10}{Out1}|}$$"
   ]
  },
  {
   "cell_type": "code",
   "execution_count": 59,
   "id": "827ee488",
   "metadata": {},
   "outputs": [],
   "source": [
    "fitness_function = AptidaoArranjoTriangular\n",
    "\n",
    "num_generations = 500\n",
    "num_parents_mating = 4\n",
    "\n",
    "sol_per_pop = 10\n",
    "num_genes = 4\n",
    "\n",
    "init_range_low = -2\n",
    "init_range_high = 5\n",
    "\n",
    "parent_selection_type = \"sss\"\n",
    "keep_parents = 1\n",
    "\n",
    "crossover_type = \"single_point\"\n",
    "\n",
    "mutation_type = \"random\"\n",
    "mutation_percent_genes = 10"
   ]
  },
  {
   "cell_type": "code",
   "execution_count": 60,
   "id": "87f8d334",
   "metadata": {},
   "outputs": [],
   "source": [
    "ga_instance = pygad.GA(num_generations=num_generations,\n",
    "                       num_parents_mating=num_parents_mating,\n",
    "                       fitness_func=AptidaoArranjoTriangular,\n",
    "                       sol_per_pop=sol_per_pop,\n",
    "                       num_genes=num_genes,\n",
    "                       parent_selection_type=parent_selection_type,\n",
    "                       keep_parents=keep_parents,\n",
    "                       crossover_type=crossover_type,\n",
    "                       mutation_type=mutation_type,\n",
    "                       mutation_percent_genes=mutation_percent_genes)"
   ]
  },
  {
   "cell_type": "code",
   "execution_count": 61,
   "id": "a1226a46",
   "metadata": {},
   "outputs": [],
   "source": [
    "ga_instance.run()"
   ]
  },
  {
   "cell_type": "code",
   "execution_count": 62,
   "id": "45cb8aad",
   "metadata": {},
   "outputs": [
    {
     "data": {
      "image/png": "[encoded data removed]",
      "text/plain": [
       "<Figure size 432x288 with 1 Axes>"
      ]
     },
     "metadata": {
      "needs_background": "light"
     },
     "output_type": "display_data"
    },
    {
     "data": {
      "image/png": "[encoded data removed]",
      "text/plain": [
       "<Figure size 432x288 with 1 Axes>"
      ]
     },
     "execution_count": 62,
     "metadata": {},
     "output_type": "execute_result"
    }
   ],
   "source": [
    "ga_instance.plot_fitness()"
   ]
  },
  {
   "cell_type": "code",
   "execution_count": 63,
   "id": "0ebcdd6c",
   "metadata": {},
   "outputs": [
    {
     "name": "stdout",
     "output_type": "stream",
     "text": [
      "Parameters of the best solution : [ 2.66673577  0.10661816 -3.34207077  1.84177625]\n",
      "Fitness value of the best solution = 0.8761591723868707\n",
      "Index of the best solution : 0\n"
     ]
    }
   ],
   "source": [
    "solution, solution_fitness, solution_idx = ga_instance.best_solution()\n",
    "print(\"Parameters of the best solution : {solution}\".format(solution=solution))\n",
    "print(\"Fitness value of the best solution = {solution_fitness}\".format(solution_fitness=solution_fitness))\n",
    "print(\"Index of the best solution : {solution_idx}\".format(solution_idx=solution_idx))"
   ]
  },
  {
   "cell_type": "code",
   "execution_count": 64,
   "id": "1005c234",
   "metadata": {},
   "outputs": [
    {
     "name": "stdout",
     "output_type": "stream",
     "text": [
      "Best fitness value reached after 367 generations.\n"
     ]
    }
   ],
   "source": [
    "if ga_instance.best_solution_generation != -1:\n",
    "    print(\"Best fitness value reached after {best_solution_generation} generations.\".format(best_solution_generation=ga_instance.best_solution_generation))"
   ]
  }
 ],
 "metadata": {
  "kernelspec": {
   "display_name": "Python 3 (ipykernel)",
   "language": "python",
   "name": "python3"
  },
  "language_info": {
   "codemirror_mode": {
    "name": "ipython",
    "version": 3
   },
   "file_extension": ".py",
   "mimetype": "text/x-python",
   "name": "python",
   "nbconvert_exporter": "python",
   "pygments_lexer": "ipython3",
   "version": "3.7.6"
  }
 },
 "nbformat": 4,
 "nbformat_minor": 5
}
