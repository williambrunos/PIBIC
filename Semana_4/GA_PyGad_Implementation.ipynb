{
  "nbformat": 4,
  "nbformat_minor": 5,
  "metadata": {
    "kernelspec": {
      "display_name": "Python 3 (ipykernel)",
      "language": "python",
      "name": "python3"
    },
    "language_info": {
      "codemirror_mode": {
        "name": "ipython",
        "version": 3
      },
      "file_extension": ".py",
      "mimetype": "text/x-python",
      "name": "python",
      "nbconvert_exporter": "python",
      "pygments_lexer": "ipython3",
      "version": "3.7.6"
    },
    "colab": {
      "name": "GA_PyGad_Implementation.ipynb",
      "provenance": [],
      "include_colab_link": true
    }
  },
  "cells": [
    {
      "cell_type": "markdown",
      "metadata": {
        "id": "view-in-github",
        "colab_type": "text"
      },
      "source": [
        "<a href=\"https://colab.research.google.com/github/williambrunos/PIBIC/blob/main/Semana_4/GA_PyGad_Implementation.ipynb\" target=\"_parent\"><img src=\"https://colab.research.google.com/assets/colab-badge.svg\" alt=\"Open In Colab\"/></a>"
      ]
    },
    {
      "cell_type": "code",
      "metadata": {
        "colab": {
          "base_uri": "https://localhost:8080/"
        },
        "id": "gxiU3rYzJiYi",
        "outputId": "7b4150a1-0773-45c9-a31d-8d81b7073bea"
      },
      "source": [
        "!pip install pygad"
      ],
      "id": "gxiU3rYzJiYi",
      "execution_count": 2,
      "outputs": [
        {
          "output_type": "stream",
          "name": "stdout",
          "text": [
            "Collecting pygad\n",
            "  Downloading pygad-2.16.1-py3-none-any.whl (53 kB)\n",
            "\u001b[?25l\r\u001b[K     |██████▏                         | 10 kB 25.3 MB/s eta 0:00:01\r\u001b[K     |████████████▎                   | 20 kB 27.9 MB/s eta 0:00:01\r\u001b[K     |██████████████████▍             | 30 kB 30.8 MB/s eta 0:00:01\r\u001b[K     |████████████████████████▌       | 40 kB 32.8 MB/s eta 0:00:01\r\u001b[K     |██████████████████████████████▋ | 51 kB 35.2 MB/s eta 0:00:01\r\u001b[K     |████████████████████████████████| 53 kB 1.9 MB/s \n",
            "\u001b[?25hRequirement already satisfied: matplotlib in /usr/local/lib/python3.7/dist-packages (from pygad) (3.2.2)\n",
            "Requirement already satisfied: numpy in /usr/local/lib/python3.7/dist-packages (from pygad) (1.19.5)\n",
            "Requirement already satisfied: kiwisolver>=1.0.1 in /usr/local/lib/python3.7/dist-packages (from matplotlib->pygad) (1.3.2)\n",
            "Requirement already satisfied: python-dateutil>=2.1 in /usr/local/lib/python3.7/dist-packages (from matplotlib->pygad) (2.8.2)\n",
            "Requirement already satisfied: pyparsing!=2.0.4,!=2.1.2,!=2.1.6,>=2.0.1 in /usr/local/lib/python3.7/dist-packages (from matplotlib->pygad) (3.0.6)\n",
            "Requirement already satisfied: cycler>=0.10 in /usr/local/lib/python3.7/dist-packages (from matplotlib->pygad) (0.11.0)\n",
            "Requirement already satisfied: six>=1.5 in /usr/local/lib/python3.7/dist-packages (from python-dateutil>=2.1->matplotlib->pygad) (1.15.0)\n",
            "Installing collected packages: pygad\n",
            "Successfully installed pygad-2.16.1\n"
          ]
        }
      ]
    },
    {
      "cell_type": "code",
      "metadata": {
        "id": "76ff188b"
      },
      "source": [
        "import pygad\n",
        "import numpy as np\n",
        "import math\n",
        "import matplotlib.pyplot as plt\n",
        "import scipy.linalg as la\n",
        "import itertools"
      ],
      "id": "76ff188b",
      "execution_count": 3,
      "outputs": []
    },
    {
      "cell_type": "code",
      "metadata": {
        "id": "4b6c8fc4"
      },
      "source": [
        "def ArranjoTriangular(alpha, beta, gama):\n",
        "    \"\"\"\n",
        "    Retorna a matriz triangular A com parâmetros alpha, beta e gamma.\n",
        "    complex(x, y) retorna um número complexo da forma x + yi, onde i é o número imaginário\n",
        "    \n",
        "    Parâmetros\n",
        "    --------------------------------------\n",
        "    :params alpha, beta, gama: alpha é um número real\n",
        "    \n",
        "    Retorno\n",
        "    --------------------------------------\n",
        "    :return: retorna a matriz arranjo triangular como numpy array cujos valores estão de acordo com os parâmetros recebidos\n",
        "    \"\"\"\n",
        "    A = np.array([[0, complex(0, gama), complex(0, beta)], \n",
        "                  [complex(0, gama), 0, complex(0, alpha)], \n",
        "                  [complex(0, beta), complex(0, alpha), 0]])\n",
        "    \n",
        "    return A"
      ],
      "id": "4b6c8fc4",
      "execution_count": 4,
      "outputs": []
    },
    {
      "cell_type": "code",
      "metadata": {
        "id": "0e19a4b4"
      },
      "source": [
        "def MatrizTransferenciaTriangular(A, z):\n",
        "    \"\"\"\n",
        "    Retorna a matriz de transferência triangular T a partir de uma matriz de arranjo triangular A a partir dos passos já citados\n",
        "    Erro percentual de 10^(-14) a 10^(-16), ínfimo.\n",
        "    \n",
        "    Parâmetros\n",
        "    --------------------------------------\n",
        "    :param A: matriz de Arranjo Triangular como numpy array\n",
        "    :param z: número real qualquer (comprimento do acoplador)\n",
        "    \n",
        "    Retorno\n",
        "    \n",
        "    :return:  matriz numpy array de transferência triangular T calculada com erro ínfimo.\n",
        "    \"\"\"\n",
        "    eigvals, eigvecs = la.eig(A)\n",
        "    D = np.array([[eigvals[0], 0, 0], \n",
        "                  [0, eigvals[1], 0], \n",
        "                  [0, 0, eigvals[2]]])\n",
        "    P = eigvecs.copy()\n",
        "    E = np.array([[np.exp(z*eigvals[0]), 0, 0], \n",
        "                  [0, np.exp(z*eigvals[1]), 0], \n",
        "                  [0, 0, np.exp(z*eigvals[2])]])\n",
        "    \n",
        "    if np.allclose(A, P @ D @ la.inv(P), atol=1e-17):\n",
        "        raise ValueError(f'Parameter Matrix A has not property A == PDP^(-1) for a tolerance of {1e-17}')\n",
        "    \n",
        "    # T é a matriz de transferência\n",
        "    T = P @ E @ la.inv(P)\n",
        "    \n",
        "    return T"
      ],
      "id": "0e19a4b4",
      "execution_count": 5,
      "outputs": []
    },
    {
      "cell_type": "code",
      "metadata": {
        "id": "0d34b1e4"
      },
      "source": [
        "def Tv(NumberOfInputs):\n",
        "    \"\"\"\n",
        "    Retorna uma tabela verdade (TruthTable) dado um circuito com n inputs maiores ou iguais a 1\n",
        "    Checa se a variável NumberOfInputs é inteira. Se sim, continua normalmente, se não lança uma exceção com a mensagem\n",
        "    'Parameter \\'NumberOfInputs\\' must be a integer'\n",
        "\n",
        "    Parâmetros\n",
        "    ------------------------------------------------\n",
        "    :param NumberOfInputs: número de inputs do circuito lógico, deve ser um número inteiro (obrigatoriamente)\n",
        "    \n",
        "    Retorno\n",
        "    ------------------------------------------------\n",
        "    :return: Retorna a tabela verdade como uma lista do Python (caso necessário, transformar o retorno em numpy array)\n",
        "    \"\"\"\n",
        "    if not isinstance(NumberOfInputs, int):\n",
        "        raise ValueError('Parameter \\'NumerOfInputs\\' must be a integer')\n",
        "    if NumberOfInputs < 1:                                                   \n",
        "        raise ValueError('Parameter \\'NumberOfInputs\\' must be greater or equal to 1')\n",
        "    else:\n",
        "        table = list(itertools.product ([0, 1], repeat = NumberOfInputs))    \n",
        "        table = np.array(table, dtype=float)\n",
        "        return table"
      ],
      "id": "0d34b1e4",
      "execution_count": 6,
      "outputs": []
    },
    {
      "cell_type": "code",
      "metadata": {
        "id": "d50d940e"
      },
      "source": [
        "def PAM(TruthTable, epsilon):\n",
        "    \"\"\"\n",
        "    Função que retorna uma modulação PAM para uma dada tabela verdade (TruthTable) e certo epsilon real arbitrário.\n",
        "    Não modifica a tabela verdade original, apenas realiza alterações em uma cópia e a retorna no final.\n",
        "    Funciona para qualquer tabela verdade (TruthTable) com n inputs (Matriz não precisa ser quadrada)\n",
        "\n",
        "    Parâmetros\n",
        "    ------------------------------------------------\n",
        "    :param TruthTable: tabela verdade a ser analisada e transformada em modulação PAM\n",
        "    :param epsilon: epsilon no qual os valores serão calculados\n",
        "    \n",
        "    Retorno\n",
        "    ------------------------------------------------\n",
        "    :return: retorna um numpy array como matriz da modulação PAM da tabela verdade recebida como parâmetro\n",
        "    \"\"\"\n",
        "    if epsilon <= 0 or epsilon >= 1:\n",
        "        raise ValueError(f'Epsilon must be major than 0 and minor than 1')\n",
        "    PamTable = TruthTable.copy() # Como utiliza uma cópia, PamTable será uma matriz com elementos do tipo float\n",
        "    rows, columns = PamTable.shape\n",
        "    for row in range(rows):\n",
        "        for column in range(columns):\n",
        "            if PamTable[row][column] == 1:\n",
        "                PamTable[row][column] = 1 + epsilon\n",
        "            elif PamTable[row][column] == 0:\n",
        "                PamTable[row][column] = 1 - epsilon\n",
        "            else:\n",
        "                raise ValueError('Truth Table must be filled just with zeros and ones')\n",
        "    return PamTable"
      ],
      "id": "d50d940e",
      "execution_count": 7,
      "outputs": []
    },
    {
      "cell_type": "code",
      "metadata": {
        "id": "086d736a"
      },
      "source": [
        "def InvPAM(PAMTable):\n",
        "    \"\"\"\n",
        "    Função que retorna uma nova tabela verdade com modulação bniária (processo inverso da modulação PAM)\n",
        "    \n",
        "    Parâmetros\n",
        "    ------------------------------\n",
        "    :param PAMTable: Tabela verdade em modulação PAM (1 +- epsilon)\n",
        "    \n",
        "    Retorno\n",
        "    ------------------------------\n",
        "    :return: Retorna uma nova matriz como numpy array que representa a tabela verdade original (inversa da PAM)\n",
        "    \"\"\"\n",
        "    rows, columns = PAMTable.shape\n",
        "    ResultTable = np.ones(shape=(rows, columns), dtype=float)\n",
        "    for row in range(rows):\n",
        "        for column in range(columns):\n",
        "            if PAMTable[row][column] < 1:\n",
        "                ResultTable[row][column] = 0\n",
        "    return ResultTable"
      ],
      "id": "086d736a",
      "execution_count": 8,
      "outputs": []
    },
    {
      "cell_type": "code",
      "metadata": {
        "id": "0363178b"
      },
      "source": [
        "def OrTruthTableGenerator(TruthTable):\n",
        "    \"\"\"\n",
        "    Retorna uma tabela verdade do circuito lógico OR de acordo com uma tabela verdade (TruthTable). \n",
        "    Checa se a tabela está vazia, se sim a retorna (vazia), se não, realiza os cálculos.\n",
        "    \n",
        "    Parâmetros\n",
        "    ------------------------------------------------\n",
        "    :param TruthTable: tabela verdade a ser analisada\n",
        "    \n",
        "    Retorno\n",
        "    ------------------------------------------------\n",
        "    :return: Retorna a coluna (numpy array) com os valores da tabela verdade OR dos inputs da tabela verdade recebida \n",
        "    como parâmetro\n",
        "    \"\"\"\n",
        "    rows, columns = TruthTable.shape\n",
        "    ResultTable = np.zeros(shape=(rows, 1), dtype=float)\n",
        "    \n",
        "    if TruthTable.size == 0:\n",
        "        return TruthTable\n",
        "    \n",
        "    for row in range(rows):\n",
        "        BooleanRowArray = TruthTable[row][:]\n",
        "        if np.any(BooleanRowArray):\n",
        "            ResultTable[row][0] = 1\n",
        "        \n",
        "    return ResultTable"
      ],
      "id": "0363178b",
      "execution_count": 9,
      "outputs": []
    },
    {
      "cell_type": "code",
      "metadata": {
        "id": "257b9506"
      },
      "source": [
        "\n",
        "def AndTruthTableGenerator(TruthTable):\n",
        "    \"\"\"\n",
        "    Retorna uma tabela verdade do circuito lógico AND de acordo com uma tabela verdade (TruthTable). \n",
        "    Checa se a tabela está vazia, se sim a retorna (vazia), se não, realiza os cálculos.\n",
        "    \n",
        "    Parâmetros\n",
        "    ------------------------------------------------\n",
        "    :param TruthTable: tabela verdade a ser analisada\n",
        "    \n",
        "    Retorno\n",
        "    ------------------------------------------------\n",
        "    :return: Retorna a coluna (numpy array) com os valores da tabela verdade AND dos inputs da tabela verdade recebida \n",
        "    como parâmetro\n",
        "    \"\"\"\n",
        "    rows, columns = TruthTable.shape\n",
        "    ResultTable = np.zeros(shape=(rows, 1), dtype=float)\n",
        "    \n",
        "    if TruthTable.size == 0:\n",
        "        return TruthTable\n",
        "    \n",
        "    for row in range(rows):\n",
        "        BooleanRowArray = TruthTable[row][:]\n",
        "        if np.all(BooleanRowArray):\n",
        "            ResultTable[row][0] = 1;\n",
        "    \n",
        "    return ResultTable"
      ],
      "id": "257b9506",
      "execution_count": 10,
      "outputs": []
    },
    {
      "cell_type": "code",
      "metadata": {
        "id": "9c0988fe"
      },
      "source": [
        "target = AndTruthTableGenerator(Tv(3))\n",
        "solution = []\n",
        "def AptidaoArranjoTriangular(solution, solution_idx):\n",
        "    A = ArranjoTriangular(solution[0], solution[1], solution[2])\n",
        "    T = MatrizTransferenciaTriangular(A, solution[3])\n",
        "    Inp = PAM(Tv(3), 0.35)\n",
        "    Out = T @ Inp.T\n",
        "    Out = Out.T\n",
        "    OutPAM = PAM(target, 0.1)\n",
        "\n",
        "    Out1 = np.array([Out[:,0]])\n",
        "    Out1 = Out1.T\n",
        "    kernel = math.e**(-0.005*np.linalg.norm(20*np.log10(OutPAM) - 20*np.log10(abs(Out1))))\n",
        "\n",
        "    return kernel"
      ],
      "id": "9c0988fe",
      "execution_count": 50,
      "outputs": []
    },
    {
      "cell_type": "markdown",
      "metadata": {
        "id": "5a71ed60"
      },
      "source": [
        "# Implementação do Algoritmo Genético no PyGad no nosso código\n",
        "\n",
        "Já temos a função de aptidão, na qual depende do resultado de outras funções e retorna um valor de kernel. Nossa solução deve gerar um kernel obtido dessa função o mais próximo de 1 quanto possível, quando as relações de contraste de OutPAM e Out1 são o mais próximas possível.\n",
        "\n",
        "Utilizaremos uma variação da função de aptidão, dada por: \n",
        "\n",
        "$$f(\\alpha, \\beta, \\gamma, z) = e^{-|20\\dot log_{10}{OutPAM} - 20\\dot log_{10}{Out1}|}$$\n",
        "\n",
        "## Parâmetros Utilizados\n",
        "\n",
        "fitness function : AptidaoArranjoTriangular\n",
        "\n",
        "maximun number of generations : 500\n",
        "\n",
        "number of parents chosen to mate : 4\n",
        "\n",
        "init_range_low?\n",
        "\n",
        "init_range_high?\n",
        "\n",
        "parents selection type : 'sss'\n",
        "\n",
        "crossover type : 'single_point'\n",
        "\n",
        "mutation type : random\n",
        "\n",
        "mutation percentage genes : 10%"
      ],
      "id": "5a71ed60"
    },
    {
      "cell_type": "code",
      "metadata": {
        "id": "827ee488"
      },
      "source": [
        "fitness_function = AptidaoArranjoTriangular\n",
        "\n",
        "num_generations = 1000\n",
        "num_parents_mating = 4\n",
        "\n",
        "sol_per_pop = 300\n",
        "num_genes = 4\n",
        "\n",
        "init_range_low = -2\n",
        "init_range_high = 5\n",
        "\n",
        "parent_selection_type = \"sss\"\n",
        "keep_parents = 1\n",
        "\n",
        "crossover_type = \"single_point\"\n",
        "\n",
        "mutation_type = \"random\"\n",
        "mutation_percent_genes = 10"
      ],
      "id": "827ee488",
      "execution_count": 51,
      "outputs": []
    },
    {
      "cell_type": "code",
      "metadata": {
        "colab": {
          "base_uri": "https://localhost:8080/"
        },
        "id": "87f8d334",
        "outputId": "93ca4d23-0dc1-474a-e6d9-55037ce53e4c"
      },
      "source": [
        "ga_instance = pygad.GA(num_generations=num_generations,\n",
        "                       num_parents_mating=num_parents_mating,\n",
        "                       fitness_func=AptidaoArranjoTriangular,\n",
        "                       sol_per_pop=sol_per_pop,\n",
        "                       num_genes=num_genes,\n",
        "                       parent_selection_type=parent_selection_type,\n",
        "                       keep_parents=keep_parents,\n",
        "                       crossover_type=crossover_type,\n",
        "                       mutation_type=mutation_type,\n",
        "                       mutation_percent_genes=mutation_percent_genes)"
      ],
      "id": "87f8d334",
      "execution_count": 52,
      "outputs": [
        {
          "output_type": "stream",
          "name": "stderr",
          "text": [
            "/usr/local/lib/python3.7/dist-packages/pygad/pygad.py:486: UserWarning: The percentage of genes to mutate (mutation_percent_genes=10) resutled in selecting (0) genes. The number of genes to mutate is set to 1 (mutation_num_genes=1).\n",
            "If you do not want to mutate any gene, please set mutation_type=None.\n",
            "  if not self.suppress_warnings: warnings.warn(\"The percentage of genes to mutate (mutation_percent_genes={mutation_percent}) resutled in selecting ({mutation_num}) genes. The number of genes to mutate is set to 1 (mutation_num_genes=1).\\nIf you do not want to mutate any gene, please set mutation_type=None.\".format(mutation_percent=mutation_percent_genes, mutation_num=mutation_num_genes))\n"
          ]
        }
      ]
    },
    {
      "cell_type": "code",
      "metadata": {
        "id": "a1226a46"
      },
      "source": [
        "ga_instance.run()"
      ],
      "id": "a1226a46",
      "execution_count": 53,
      "outputs": []
    },
    {
      "cell_type": "code",
      "metadata": {
        "colab": {
          "base_uri": "https://localhost:8080/",
          "height": 583
        },
        "id": "45cb8aad",
        "outputId": "baefaf42-b29b-44ac-ffb8-417aa5e58a8c"
      },
      "source": [
        "ga_instance.plot_fitness()"
      ],
      "id": "45cb8aad",
      "execution_count": 54,
      "outputs": [
        {
          "output_type": "display_data",
          "data": {
            "image/png": "[encoded data removed]",
            "text/plain": [
              "<Figure size 432x288 with 1 Axes>"
            ]
          },
          "metadata": {
            "needs_background": "light"
          }
        },
        {
          "output_type": "execute_result",
          "data": {
            "image/png": "[encoded data removed]",
            "text/plain": [
              "<Figure size 432x288 with 1 Axes>"
            ]
          },
          "metadata": {},
          "execution_count": 54
        }
      ]
    },
    {
      "cell_type": "code",
      "metadata": {
        "colab": {
          "base_uri": "https://localhost:8080/"
        },
        "id": "2bdb26df",
        "outputId": "6fa945eb-9a50-4323-ac1a-2dac9a75046b"
      },
      "source": [
        "solution, solution_fitness, solution_idx = ga_instance.best_solution()\n",
        "print(\"Parameters of the best solution : {solution}\".format(solution=solution))\n",
        "print(\"Fitness value of the best solution = {solution_fitness}\".format(solution_fitness=solution_fitness))\n",
        "print(\"Index of the best solution : {solution_idx}\".format(solution_idx=solution_idx))"
      ],
      "id": "2bdb26df",
      "execution_count": 55,
      "outputs": [
        {
          "output_type": "stream",
          "name": "stdout",
          "text": [
            "Parameters of the best solution : [ 2.89565933 -1.58249968  3.67884412 -0.47002103]\n",
            "Fitness value of the best solution = 0.976787719016351\n",
            "Index of the best solution : 0\n"
          ]
        }
      ]
    },
    {
      "cell_type": "code",
      "metadata": {
        "colab": {
          "base_uri": "https://localhost:8080/"
        },
        "id": "c115ddfc",
        "outputId": "1c13c1c2-5687-4ea0-edeb-522e317a137c"
      },
      "source": [
        "if ga_instance.best_solution_generation != -1:\n",
        "    print(\"Best fitness value reached after {best_solution_generation} generations.\".format(best_solution_generation=ga_instance.best_solution_generation))"
      ],
      "id": "c115ddfc",
      "execution_count": 56,
      "outputs": [
        {
          "output_type": "stream",
          "name": "stdout",
          "text": [
            "Best fitness value reached after 973 generations.\n"
          ]
        }
      ]
    }
  ]
}