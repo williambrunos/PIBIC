{
 "cells": [
  {
   "cell_type": "code",
   "execution_count": 6,
   "id": "3c019dd3",
   "metadata": {},
   "outputs": [
    {
     "name": "stdout",
     "output_type": "stream",
     "text": [
      "Collecting scipy\n",
      "  Downloading scipy-1.7.1-cp37-cp37m-win_amd64.whl (33.6 MB)\n",
      "Requirement already satisfied: numpy<1.23.0,>=1.16.5 in c:\\users\\user\\appdata\\local\\programs\\python\\python37\\lib\\site-packages (from scipy) (1.21.3)\n",
      "Installing collected packages: scipy\n",
      "Successfully installed scipy-1.7.1\n"
     ]
    },
    {
     "name": "stderr",
     "output_type": "stream",
     "text": [
      "WARNING: You are using pip version 21.2.4; however, version 21.3 is available.\n",
      "You should consider upgrading via the 'c:\\users\\user\\appdata\\local\\programs\\python\\python37\\python.exe -m pip install --upgrade pip' command.\n"
     ]
    }
   ],
   "source": [
    "!pip install scipy"
   ]
  },
  {
   "cell_type": "code",
   "execution_count": 7,
   "id": "76ff188b",
   "metadata": {},
   "outputs": [],
   "source": [
    "import pygad\n",
    "import numpy as np\n",
    "import math\n",
    "import matplotlib.pyplot as plt\n",
    "import scipy.linalg as la\n",
    "import itertools"
   ]
  },
  {
   "cell_type": "code",
   "execution_count": 3,
   "id": "4b6c8fc4",
   "metadata": {},
   "outputs": [],
   "source": [
    "def ArranjoTriangular(alpha, beta, gama):\n",
    "    \"\"\"\n",
    "    Retorna a matriz triangular A com parâmetros alpha, beta e gamma.\n",
    "    complex(x, y) retorna um número complexo da forma x + yi, onde i é o número imaginário\n",
    "    \n",
    "    Parâmetros\n",
    "    --------------------------------------\n",
    "    :params alpha, beta, gama: alpha é um número real\n",
    "    \n",
    "    Retorno\n",
    "    --------------------------------------\n",
    "    :return: retorna a matriz arranjo triangular como numpy array cujos valores estão de acordo com os parâmetros recebidos\n",
    "    \"\"\"\n",
    "    A = np.array([[0, complex(0, gama), complex(0, beta)], \n",
    "                  [complex(0, gama), 0, complex(0, alpha)], \n",
    "                  [complex(0, beta), complex(0, alpha), 0]])\n",
    "    \n",
    "    return A"
   ]
  },
  {
   "cell_type": "code",
   "execution_count": 4,
   "id": "0e19a4b4",
   "metadata": {},
   "outputs": [],
   "source": [
    "def MatrizTransferenciaTriangular(A, z):\n",
    "    \"\"\"\n",
    "    Retorna a matriz de transferência triangular T a partir de uma matriz de arranjo triangular A a partir dos passos já citados\n",
    "    Erro percentual de 10^(-14) a 10^(-16), ínfimo.\n",
    "    \n",
    "    Parâmetros\n",
    "    --------------------------------------\n",
    "    :param A: matriz de Arranjo Triangular como numpy array\n",
    "    :param z: número real qualquer (comprimento do acoplador)\n",
    "    \n",
    "    Retorno\n",
    "    \n",
    "    :return:  matriz numpy array de transferência triangular T calculada com erro ínfimo.\n",
    "    \"\"\"\n",
    "    eigvals, eigvecs = la.eig(A)\n",
    "    D = np.array([[eigvals[0], 0, 0], \n",
    "                  [0, eigvals[1], 0], \n",
    "                  [0, 0, eigvals[2]]])\n",
    "    P = eigvecs.copy()\n",
    "    E = np.array([[np.exp(z*eigvals[0]), 0, 0], \n",
    "                  [0, np.exp(z*eigvals[1]), 0], \n",
    "                  [0, 0, np.exp(z*eigvals[2])]])\n",
    "    \n",
    "    if np.allclose(A, P @ D @ la.inv(P), atol=1e-17):\n",
    "        raise ValueError(f'Parameter Matrix A has not property A == PDP^(-1) for a tolerance of {1e-17}')\n",
    "    \n",
    "    # T é a matriz de transferência\n",
    "    T = P @ E @ la.inv(P)\n",
    "    \n",
    "    return T"
   ]
  },
  {
   "cell_type": "code",
   "execution_count": 8,
   "id": "0d34b1e4",
   "metadata": {},
   "outputs": [],
   "source": [
    "def Tv(NumberOfInputs):\n",
    "    \"\"\"\n",
    "    Retorna uma tabela verdade (TruthTable) dado um circuito com n inputs maiores ou iguais a 1\n",
    "    Checa se a variável NumberOfInputs é inteira. Se sim, continua normalmente, se não lança uma exceção com a mensagem\n",
    "    'Parameter \\'NumberOfInputs\\' must be a integer'\n",
    "\n",
    "    Parâmetros\n",
    "    ------------------------------------------------\n",
    "    :param NumberOfInputs: número de inputs do circuito lógico, deve ser um número inteiro (obrigatoriamente)\n",
    "    \n",
    "    Retorno\n",
    "    ------------------------------------------------\n",
    "    :return: Retorna a tabela verdade como uma lista do Python (caso necessário, transformar o retorno em numpy array)\n",
    "    \"\"\"\n",
    "    if not isinstance(NumberOfInputs, int):\n",
    "        raise ValueError('Parameter \\'NumerOfInputs\\' must be a integer')\n",
    "    if NumberOfInputs < 1:                                                   \n",
    "        raise ValueError('Parameter \\'NumberOfInputs\\' must be greater or equal to 1')\n",
    "    else:\n",
    "        table = list(itertools.product ([0, 1], repeat = NumberOfInputs))    \n",
    "        table = np.array(table, dtype=float)\n",
    "        return table"
   ]
  },
  {
   "cell_type": "code",
   "execution_count": 27,
   "id": "d50d940e",
   "metadata": {},
   "outputs": [],
   "source": [
    "def PAM(TruthTable, epsilon):\n",
    "    \"\"\"\n",
    "    Função que retorna uma modulação PAM para uma dada tabela verdade (TruthTable) e certo epsilon real arbitrário.\n",
    "    Não modifica a tabela verdade original, apenas realiza alterações em uma cópia e a retorna no final.\n",
    "    Funciona para qualquer tabela verdade (TruthTable) com n inputs (Matriz não precisa ser quadrada)\n",
    "\n",
    "    Parâmetros\n",
    "    ------------------------------------------------\n",
    "    :param TruthTable: tabela verdade a ser analisada e transformada em modulação PAM\n",
    "    :param epsilon: epsilon no qual os valores serão calculados\n",
    "    \n",
    "    Retorno\n",
    "    ------------------------------------------------\n",
    "    :return: retorna um numpy array como matriz da modulação PAM da tabela verdade recebida como parâmetro\n",
    "    \"\"\"\n",
    "    PamTable = TruthTable.copy() # Como utiliza uma cópia, PamTable será uma matriz com elementos do tipo float\n",
    "    rows, columns = PamTable.shape\n",
    "    for row in range(rows):\n",
    "        for column in range(columns):\n",
    "            if PamTable[row][column] == 1:\n",
    "                PamTable[row][column] = 1 + epsilon\n",
    "            elif PamTable[row][column] == 0:\n",
    "                PamTable[row][column] = 1 - epsilon\n",
    "            else:\n",
    "                raise ValueError('Truth Table must be filled just with zeros and ones')\n",
    "    return PamTable"
   ]
  },
  {
   "cell_type": "code",
   "execution_count": 10,
   "id": "086d736a",
   "metadata": {},
   "outputs": [],
   "source": [
    "def InvPAM(PAMTable):\n",
    "    \"\"\"\n",
    "    Função que retorna uma nova tabela verdade com modulação bniária (processo inverso da modulação PAM)\n",
    "    \n",
    "    Parâmetros\n",
    "    ------------------------------\n",
    "    :param PAMTable: Tabela verdade em modulação PAM (1 +- epsilon)\n",
    "    \n",
    "    Retorno\n",
    "    ------------------------------\n",
    "    :return: Retorna uma nova matriz como numpy array que representa a tabela verdade original (inversa da PAM)\n",
    "    \"\"\"\n",
    "    rows, columns = PAMTable.shape\n",
    "    ResultTable = np.ones(shape=(rows, columns), dtype=float)\n",
    "    for row in range(rows):\n",
    "        for column in range(columns):\n",
    "            if PAMTable[row][column] < 1:\n",
    "                ResultTable[row][column] = 0\n",
    "    return ResultTable"
   ]
  },
  {
   "cell_type": "code",
   "execution_count": 24,
   "id": "c5177792",
   "metadata": {},
   "outputs": [],
   "source": [
    "def AptidaoArranjoTriangular(solution, solution_idx):\n",
    "    A = ArranjoTriangular(solution[0], solution[1], solution[2])\n",
    "    T = MatrizTransferenciaTriangular(A, solution[4])\n",
    "    Inp = PAM(Tv(3), solution[3])\n",
    "    Out = T @ Inp.T\n",
    "    Out = Out.T\n",
    "    OutPAM = PAM(target, solution[3])\n",
    "    \n",
    "    Out1 = np.array([Out[:,0]])\n",
    "    Out1 = Out1.T\n",
    "    # 20log(OutPAM) - 20log(Out1)\n",
    "    kernel = math.e**(-np.linalg.norm(20*np.log10(OutPAM) - 20*np.log10(abs(Out1))))\n",
    "    \n",
    "    return kernel"
   ]
  },
  {
   "cell_type": "code",
   "execution_count": 12,
   "id": "0363178b",
   "metadata": {},
   "outputs": [],
   "source": [
    "def OrTruthTableGenerator(TruthTable):\n",
    "    \"\"\"\n",
    "    Retorna uma tabela verdade do circuito lógico OR de acordo com uma tabela verdade (TruthTable). \n",
    "    Checa se a tabela está vazia, se sim a retorna (vazia), se não, realiza os cálculos.\n",
    "    \n",
    "    Parâmetros\n",
    "    ------------------------------------------------\n",
    "    :param TruthTable: tabela verdade a ser analisada\n",
    "    \n",
    "    Retorno\n",
    "    ------------------------------------------------\n",
    "    :return: Retorna a coluna (numpy array) com os valores da tabela verdade OR dos inputs da tabela verdade recebida \n",
    "    como parâmetro\n",
    "    \"\"\"\n",
    "    rows, columns = TruthTable.shape\n",
    "    ResultTable = np.zeros(shape=(rows, 1), dtype=float)\n",
    "    \n",
    "    if TruthTable.size == 0:\n",
    "        return TruthTable\n",
    "    \n",
    "    for row in range(rows):\n",
    "        BooleanRowArray = TruthTable[row][:]\n",
    "        if np.any(BooleanRowArray):\n",
    "            ResultTable[row][0] = 1\n",
    "        \n",
    "    return ResultTable"
   ]
  },
  {
   "cell_type": "code",
   "execution_count": 13,
   "id": "257b9506",
   "metadata": {},
   "outputs": [],
   "source": [
    "\n",
    "def AndTruthTableGenerator(TruthTable):\n",
    "    \"\"\"\n",
    "    Retorna uma tabela verdade do circuito lógico AND de acordo com uma tabela verdade (TruthTable). \n",
    "    Checa se a tabela está vazia, se sim a retorna (vazia), se não, realiza os cálculos.\n",
    "    \n",
    "    Parâmetros\n",
    "    ------------------------------------------------\n",
    "    :param TruthTable: tabela verdade a ser analisada\n",
    "    \n",
    "    Retorno\n",
    "    ------------------------------------------------\n",
    "    :return: Retorna a coluna (numpy array) com os valores da tabela verdade AND dos inputs da tabela verdade recebida \n",
    "    como parâmetro\n",
    "    \"\"\"\n",
    "    rows, columns = TruthTable.shape\n",
    "    ResultTable = np.zeros(shape=(rows, 1), dtype=float)\n",
    "    \n",
    "    if TruthTable.size == 0:\n",
    "        return TruthTable\n",
    "    \n",
    "    for row in range(rows):\n",
    "        BooleanRowArray = TruthTable[row][:]\n",
    "        if np.all(BooleanRowArray):\n",
    "            ResultTable[row][0] = 1;\n",
    "    \n",
    "    return ResultTable"
   ]
  },
  {
   "cell_type": "code",
   "execution_count": 20,
   "id": "463a254e",
   "metadata": {},
   "outputs": [],
   "source": [
    "target = AndTruthTableGenerator(Tv(3))"
   ]
  },
  {
   "cell_type": "code",
   "execution_count": 21,
   "id": "dba1cffa",
   "metadata": {},
   "outputs": [
    {
     "name": "stdout",
     "output_type": "stream",
     "text": [
      "Kernel: \n",
      "\n",
      "9.982365148076134e-06\n"
     ]
    }
   ],
   "source": [
    "kernel = AptidaoArranjoTriangular(3.4, 4.3, 5.4, 0.35, 1)\n",
    "print(f'Kernel: \\n\\n{kernel}')"
   ]
  },
  {
   "cell_type": "markdown",
   "id": "5a71ed60",
   "metadata": {},
   "source": [
    "# Implementação do Algoritmo Genético no PyGad no nosso código\n",
    "\n",
    "Já temos a função de aptidão, na qual depende do resultado de outras funções e retorna um valor de kernel. Nossa solução deve gerar um kernel obtido dessa função o mais próximo de 1 quanto possível, quando as relações de contraste de OutPAM e Out1 são o mais próximas possível."
   ]
  },
  {
   "cell_type": "code",
   "execution_count": 22,
   "id": "827ee488",
   "metadata": {},
   "outputs": [],
   "source": [
    "fitness_function = AptidaoArranjoTriangular\n",
    "\n",
    "num_generations = 100\n",
    "num_parents_mating = 4\n",
    "\n",
    "sol_per_pop = 10\n",
    "num_genes = 5\n",
    "\n",
    "init_range_low = -2\n",
    "init_range_high = 5\n",
    "\n",
    "parent_selection_type = \"sss\"\n",
    "keep_parents = 1\n",
    "\n",
    "crossover_type = \"single_point\"\n",
    "\n",
    "mutation_type = \"random\"\n",
    "mutation_percent_genes = 10"
   ]
  },
  {
   "cell_type": "code",
   "execution_count": 30,
   "id": "87f8d334",
   "metadata": {},
   "outputs": [],
   "source": [
    "ga_instance = pygad.GA(num_generations=num_generations,\n",
    "                       num_parents_mating=num_parents_mating,\n",
    "                       fitness_func=AptidaoArranjoTriangular,\n",
    "                       sol_per_pop=sol_per_pop,\n",
    "                       num_genes=num_genes,\n",
    "                       parent_selection_type=parent_selection_type,\n",
    "                       keep_parents=keep_parents,\n",
    "                       crossover_type=crossover_type,\n",
    "                       mutation_type=mutation_type,\n",
    "                       mutation_percent_genes=mutation_percent_genes)"
   ]
  },
  {
   "cell_type": "code",
   "execution_count": 31,
   "id": "a1226a46",
   "metadata": {},
   "outputs": [
    {
     "name": "stderr",
     "output_type": "stream",
     "text": [
      "c:\\users\\user\\appdata\\local\\programs\\python\\python37\\lib\\site-packages\\ipykernel_launcher.py:12: RuntimeWarning: invalid value encountered in log10\n",
      "  if sys.path[0] == '':\n"
     ]
    },
    {
     "ename": "IndexError",
     "evalue": "index 0 is out of bounds for axis 0 with size 0",
     "output_type": "error",
     "traceback": [
      "\u001b[1;31m---------------------------------------------------------------------------\u001b[0m",
      "\u001b[1;31mIndexError\u001b[0m                                Traceback (most recent call last)",
      "\u001b[1;32m~\\AppData\\Local\\Temp/ipykernel_14320/2488311474.py\u001b[0m in \u001b[0;36m<module>\u001b[1;34m\u001b[0m\n\u001b[1;32m----> 1\u001b[1;33m \u001b[0mga_instance\u001b[0m\u001b[1;33m.\u001b[0m\u001b[0mrun\u001b[0m\u001b[1;33m(\u001b[0m\u001b[1;33m)\u001b[0m\u001b[1;33m\u001b[0m\u001b[1;33m\u001b[0m\u001b[0m\n\u001b[0m",
      "\u001b[1;32mc:\\users\\user\\appdata\\local\\programs\\python\\python37\\lib\\site-packages\\pygad\\pygad.py\u001b[0m in \u001b[0;36mrun\u001b[1;34m(self)\u001b[0m\n\u001b[0;32m   1187\u001b[0m         \u001b[0mself\u001b[0m\u001b[1;33m.\u001b[0m\u001b[0mlast_generation_fitness\u001b[0m \u001b[1;33m=\u001b[0m \u001b[0mself\u001b[0m\u001b[1;33m.\u001b[0m\u001b[0mcal_pop_fitness\u001b[0m\u001b[1;33m(\u001b[0m\u001b[1;33m)\u001b[0m\u001b[1;33m\u001b[0m\u001b[1;33m\u001b[0m\u001b[0m\n\u001b[0;32m   1188\u001b[0m \u001b[1;33m\u001b[0m\u001b[0m\n\u001b[1;32m-> 1189\u001b[1;33m         \u001b[0mbest_solution\u001b[0m\u001b[1;33m,\u001b[0m \u001b[0mbest_solution_fitness\u001b[0m\u001b[1;33m,\u001b[0m \u001b[0mbest_match_idx\u001b[0m \u001b[1;33m=\u001b[0m \u001b[0mself\u001b[0m\u001b[1;33m.\u001b[0m\u001b[0mbest_solution\u001b[0m\u001b[1;33m(\u001b[0m\u001b[0mpop_fitness\u001b[0m\u001b[1;33m=\u001b[0m\u001b[0mself\u001b[0m\u001b[1;33m.\u001b[0m\u001b[0mlast_generation_fitness\u001b[0m\u001b[1;33m)\u001b[0m\u001b[1;33m\u001b[0m\u001b[1;33m\u001b[0m\u001b[0m\n\u001b[0m\u001b[0;32m   1190\u001b[0m \u001b[1;33m\u001b[0m\u001b[0m\n\u001b[0;32m   1191\u001b[0m         \u001b[1;31m# Appending the best solution in the initial population to the best_solutions list.\u001b[0m\u001b[1;33m\u001b[0m\u001b[1;33m\u001b[0m\u001b[1;33m\u001b[0m\u001b[0m\n",
      "\u001b[1;32mc:\\users\\user\\appdata\\local\\programs\\python\\python37\\lib\\site-packages\\pygad\\pygad.py\u001b[0m in \u001b[0;36mbest_solution\u001b[1;34m(self, pop_fitness)\u001b[0m\n\u001b[0;32m   3115\u001b[0m             \u001b[0mpop_fitness\u001b[0m \u001b[1;33m=\u001b[0m \u001b[0mself\u001b[0m\u001b[1;33m.\u001b[0m\u001b[0mcal_pop_fitness\u001b[0m\u001b[1;33m(\u001b[0m\u001b[1;33m)\u001b[0m\u001b[1;33m\u001b[0m\u001b[1;33m\u001b[0m\u001b[0m\n\u001b[0;32m   3116\u001b[0m         \u001b[1;31m# Then return the index of that solution corresponding to the best fitness.\u001b[0m\u001b[1;33m\u001b[0m\u001b[1;33m\u001b[0m\u001b[1;33m\u001b[0m\u001b[0m\n\u001b[1;32m-> 3117\u001b[1;33m         \u001b[0mbest_match_idx\u001b[0m \u001b[1;33m=\u001b[0m \u001b[0mnumpy\u001b[0m\u001b[1;33m.\u001b[0m\u001b[0mwhere\u001b[0m\u001b[1;33m(\u001b[0m\u001b[0mpop_fitness\u001b[0m \u001b[1;33m==\u001b[0m \u001b[0mnumpy\u001b[0m\u001b[1;33m.\u001b[0m\u001b[0mmax\u001b[0m\u001b[1;33m(\u001b[0m\u001b[0mpop_fitness\u001b[0m\u001b[1;33m)\u001b[0m\u001b[1;33m)\u001b[0m\u001b[1;33m[\u001b[0m\u001b[1;36m0\u001b[0m\u001b[1;33m]\u001b[0m\u001b[1;33m[\u001b[0m\u001b[1;36m0\u001b[0m\u001b[1;33m]\u001b[0m\u001b[1;33m\u001b[0m\u001b[1;33m\u001b[0m\u001b[0m\n\u001b[0m\u001b[0;32m   3118\u001b[0m \u001b[1;33m\u001b[0m\u001b[0m\n\u001b[0;32m   3119\u001b[0m         \u001b[0mbest_solution\u001b[0m \u001b[1;33m=\u001b[0m \u001b[0mself\u001b[0m\u001b[1;33m.\u001b[0m\u001b[0mpopulation\u001b[0m\u001b[1;33m[\u001b[0m\u001b[0mbest_match_idx\u001b[0m\u001b[1;33m,\u001b[0m \u001b[1;33m:\u001b[0m\u001b[1;33m]\u001b[0m\u001b[1;33m.\u001b[0m\u001b[0mcopy\u001b[0m\u001b[1;33m(\u001b[0m\u001b[1;33m)\u001b[0m\u001b[1;33m\u001b[0m\u001b[1;33m\u001b[0m\u001b[0m\n",
      "\u001b[1;31mIndexError\u001b[0m: index 0 is out of bounds for axis 0 with size 0"
     ]
    }
   ],
   "source": [
    "ga_instance.run()"
   ]
  },
  {
   "cell_type": "code",
   "execution_count": null,
   "id": "45cb8aad",
   "metadata": {},
   "outputs": [],
   "source": []
  }
 ],
 "metadata": {
  "kernelspec": {
   "display_name": "Python 3 (ipykernel)",
   "language": "python",
   "name": "python3"
  },
  "language_info": {
   "codemirror_mode": {
    "name": "ipython",
    "version": 3
   },
   "file_extension": ".py",
   "mimetype": "text/x-python",
   "name": "python",
   "nbconvert_exporter": "python",
   "pygments_lexer": "ipython3",
   "version": "3.7.6"
  }
 },
 "nbformat": 4,
 "nbformat_minor": 5
}
