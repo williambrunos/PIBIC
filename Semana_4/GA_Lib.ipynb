{
 "cells": [
  {
   "cell_type": "code",
   "execution_count": 2,
   "id": "31b10c7c",
   "metadata": {},
   "outputs": [
    {
     "name": "stdout",
     "output_type": "stream",
     "text": [
      "Collecting pyeasyga"
     ]
    },
    {
     "name": "stderr",
     "output_type": "stream",
     "text": [
      "WARNING: You are using pip version 21.2.4; however, version 21.3 is available.\n",
      "You should consider upgrading via the 'C:\\Python39\\python.exe -m pip install --upgrade pip' command.\n"
     ]
    },
    {
     "name": "stdout",
     "output_type": "stream",
     "text": [
      "\n",
      "  Downloading pyeasyga-0.3.1.tar.gz (20 kB)\n",
      "Requirement already satisfied: six in c:\\python39\\lib\\site-packages (from pyeasyga) (1.16.0)\n",
      "Using legacy 'setup.py install' for pyeasyga, since package 'wheel' is not installed.\n",
      "Installing collected packages: pyeasyga\n",
      "    Running setup.py install for pyeasyga: started\n",
      "    Running setup.py install for pyeasyga: finished with status 'done'\n",
      "Successfully installed pyeasyga-0.3.1\n"
     ]
    }
   ],
   "source": [
    "!pip install pyeasyga"
   ]
  },
  {
   "cell_type": "code",
   "execution_count": 4,
   "id": "163300a0",
   "metadata": {},
   "outputs": [],
   "source": [
    "import sys"
   ]
  },
  {
   "cell_type": "code",
   "execution_count": 8,
   "id": "9b5eabcf",
   "metadata": {},
   "outputs": [
    {
     "data": {
      "text/plain": [
       "['C:\\\\Python39\\\\Lib\\\\site-packages',\n",
       " 'C:\\\\Python39\\\\Lib\\\\site-packages',\n",
       " 'C:\\\\Users\\\\user\\\\Documents\\\\MeusProjetos\\\\PIBIC\\\\Semana_4',\n",
       " 'C:\\\\Users\\\\user\\\\anaconda3\\\\python38.zip',\n",
       " 'C:\\\\Users\\\\user\\\\anaconda3\\\\DLLs',\n",
       " 'C:\\\\Users\\\\user\\\\anaconda3\\\\lib',\n",
       " 'C:\\\\Users\\\\user\\\\anaconda3',\n",
       " '',\n",
       " 'C:\\\\Users\\\\user\\\\anaconda3\\\\lib\\\\site-packages',\n",
       " 'C:\\\\Users\\\\user\\\\anaconda3\\\\lib\\\\site-packages\\\\locket-0.2.1-py3.8.egg',\n",
       " 'C:\\\\Users\\\\user\\\\anaconda3\\\\lib\\\\site-packages\\\\win32',\n",
       " 'C:\\\\Users\\\\user\\\\anaconda3\\\\lib\\\\site-packages\\\\win32\\\\lib',\n",
       " 'C:\\\\Users\\\\user\\\\anaconda3\\\\lib\\\\site-packages\\\\Pythonwin',\n",
       " 'C:\\\\Users\\\\user\\\\anaconda3\\\\lib\\\\site-packages\\\\IPython\\\\extensions',\n",
       " 'C:\\\\Users\\\\user\\\\.ipython']"
      ]
     },
     "execution_count": 8,
     "metadata": {},
     "output_type": "execute_result"
    }
   ],
   "source": [
    "sys.path.insert(0, 'C:\\Python39\\Lib\\site-packages')\n",
    "sys.path"
   ]
  },
  {
   "cell_type": "code",
   "execution_count": 23,
   "id": "c3730dbb",
   "metadata": {},
   "outputs": [],
   "source": [
    "from pyeasyga import pyeasyga"
   ]
  },
  {
   "cell_type": "code",
   "execution_count": 10,
   "id": "337648e3",
   "metadata": {},
   "outputs": [],
   "source": [
    "data = [('pear', 50), ('apple', 35), ('banana', 40)]"
   ]
  },
  {
   "cell_type": "code",
   "execution_count": 25,
   "id": "f9fc7972",
   "metadata": {},
   "outputs": [],
   "source": [
    "ga = pyeasyga.GeneticAlgorithm(data)"
   ]
  },
  {
   "cell_type": "code",
   "execution_count": 27,
   "id": "ae406cf8",
   "metadata": {},
   "outputs": [],
   "source": [
    "def fitness (individual, data):\n",
    "    fitness = 0\n",
    "    if individual.count(1) == 2:\n",
    "        for (selected, (fruit, profit)) in zip(individual, data):\n",
    "            if selected:\n",
    "                fitness += profit\n",
    "    return fitness"
   ]
  },
  {
   "cell_type": "code",
   "execution_count": 28,
   "id": "c642e2c7",
   "metadata": {},
   "outputs": [],
   "source": [
    "ga.fitness_function = fitness"
   ]
  },
  {
   "cell_type": "code",
   "execution_count": 29,
   "id": "b49fef34",
   "metadata": {},
   "outputs": [],
   "source": [
    "ga.run()"
   ]
  },
  {
   "cell_type": "code",
   "execution_count": 31,
   "id": "c244de78",
   "metadata": {},
   "outputs": [
    {
     "name": "stdout",
     "output_type": "stream",
     "text": [
      "(90, [1, 0, 1])\n"
     ]
    }
   ],
   "source": [
    "print(ga.best_individual())"
   ]
  }
 ],
 "metadata": {
  "kernelspec": {
   "display_name": "Python 3",
   "language": "python",
   "name": "python3"
  },
  "language_info": {
   "codemirror_mode": {
    "name": "ipython",
    "version": 3
   },
   "file_extension": ".py",
   "mimetype": "text/x-python",
   "name": "python",
   "nbconvert_exporter": "python",
   "pygments_lexer": "ipython3",
   "version": "3.8.8"
  }
 },
 "nbformat": 4,
 "nbformat_minor": 5
}
