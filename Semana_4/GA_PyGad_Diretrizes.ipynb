{
 "cells": [
  {
   "cell_type": "code",
   "execution_count": 1,
   "id": "3aa55afa",
   "metadata": {},
   "outputs": [
    {
     "name": "stdout",
     "output_type": "stream",
     "text": [
      "Collecting pygad\n",
      "  Downloading pygad-2.16.1-py3-none-any.whl (53 kB)\n",
      "Collecting matplotlib\n",
      "  Downloading matplotlib-3.4.3-cp37-cp37m-win_amd64.whl (7.2 MB)\n",
      "Collecting numpy\n",
      "  Downloading numpy-1.21.3-cp37-cp37m-win_amd64.whl (14.0 MB)\n",
      "Requirement already satisfied: pyparsing>=2.2.1 in c:\\users\\user\\appdata\\local\\programs\\python\\python37\\lib\\site-packages (from matplotlib->pygad) (2.4.7)\n",
      "Collecting pillow>=6.2.0\n",
      "  Downloading Pillow-8.4.0-cp37-cp37m-win_amd64.whl (3.2 MB)\n",
      "Collecting kiwisolver>=1.0.1\n",
      "  Downloading kiwisolver-1.3.2-cp37-cp37m-win_amd64.whl (51 kB)\n",
      "Collecting cycler>=0.10\n",
      "  Downloading cycler-0.10.0-py2.py3-none-any.whl (6.5 kB)\n",
      "Requirement already satisfied: python-dateutil>=2.7 in c:\\users\\user\\appdata\\local\\programs\\python\\python37\\lib\\site-packages (from matplotlib->pygad) (2.8.1)\n",
      "Requirement already satisfied: six in c:\\users\\user\\appdata\\roaming\\python\\python37\\site-packages (from cycler>=0.10->matplotlib->pygad) (1.15.0)\n",
      "Installing collected packages: pillow, numpy, kiwisolver, cycler, matplotlib, pygad\n",
      "Successfully installed cycler-0.10.0 kiwisolver-1.3.2 matplotlib-3.4.3 numpy-1.21.3 pillow-8.4.0 pygad-2.16.1\n"
     ]
    },
    {
     "name": "stderr",
     "output_type": "stream",
     "text": [
      "WARNING: You are using pip version 21.2.4; however, version 21.3 is available.\n",
      "You should consider upgrading via the 'c:\\users\\user\\appdata\\local\\programs\\python\\python37\\python.exe -m pip install --upgrade pip' command.\n"
     ]
    }
   ],
   "source": [
    "!pip install pygad"
   ]
  },
  {
   "cell_type": "code",
   "execution_count": 3,
   "id": "d269dc3a",
   "metadata": {},
   "outputs": [],
   "source": [
    "import pygad\n",
    "import numpy\n",
    "import matplotlib"
   ]
  },
  {
   "cell_type": "markdown",
   "id": "aa57fd59",
   "metadata": {},
   "source": [
    "# Diretrizes do PyGad\n",
    "\n",
    "Suponha que queiramos encontrar os melhores pesos $\\vec{w} = w_{i}, i\\in{1, 2, 3, 4, 5, 6}$, dada a função:\n",
    "$f(\\vec{x}, \\vec{w})=x_{i}w_{i}$, onde $x_{i}$ é cada elemento de $\\vec{x}$.\n",
    "\n",
    "A função de aptidão no nosso caso será: $fitness = \\frac{1}{|\\vec{x} - \\vec{w}|}$"
   ]
  },
  {
   "cell_type": "code",
   "execution_count": 4,
   "id": "4b1ed1fc",
   "metadata": {},
   "outputs": [],
   "source": [
    "function_inputs = [4,-2,3.5,5,-11,-4.7] # Estes são os x's\n",
    "desired_output = 44 # Output desejado da função com os pesos (função 'f' e não 'fitness function')!"
   ]
  },
  {
   "cell_type": "code",
   "execution_count": 6,
   "id": "3598f73e",
   "metadata": {},
   "outputs": [],
   "source": [
    "def fitness_func(solution, solution_idx): # Solution é o indivíduo (vetor de pesos)\n",
    "    output = numpy.sum(solution*function_inputs)\n",
    "    fitness = 1.0 / numpy.abs(output - desired_output)\n",
    "    return fitness"
   ]
  },
  {
   "cell_type": "code",
   "execution_count": 7,
   "id": "847f8d15",
   "metadata": {},
   "outputs": [],
   "source": [
    "fitness_function = fitness_func # A função de aptidão\n",
    "\n",
    "num_generations = 50 # Número máximo de gerações\n",
    "num_parents_mating = 4 # Número de pais que irão se reproduzir\n",
    "\n",
    "sol_per_pop = 8 # Soluções (Indivíduos) por população\n",
    "num_genes = len(function_inputs) # Número de genes (nossos pesos)\n",
    "\n",
    "init_range_low = -2\n",
    "init_range_high = 5\n",
    "\n",
    "parent_selection_type = \"sss\" # Tipo de seleção de pais\n",
    "keep_parents = 1 # Mantêm um parente no elitismo\n",
    "\n",
    "crossover_type = \"single_point\" # Tipo de crossover\n",
    "\n",
    "mutation_type = \"random\" # Tipo de mutação\n",
    "mutation_percent_genes = 10 # Chance de ocorrer mutações"
   ]
  },
  {
   "cell_type": "code",
   "execution_count": 8,
   "id": "d2c27cdf",
   "metadata": {},
   "outputs": [
    {
     "name": "stderr",
     "output_type": "stream",
     "text": [
      "c:\\users\\user\\appdata\\local\\programs\\python\\python37\\lib\\site-packages\\pygad\\pygad.py:486: UserWarning: The percentage of genes to mutate (mutation_percent_genes=10) resutled in selecting (0) genes. The number of genes to mutate is set to 1 (mutation_num_genes=1).\n",
      "If you do not want to mutate any gene, please set mutation_type=None.\n",
      "  if not self.suppress_warnings: warnings.warn(\"The percentage of genes to mutate (mutation_percent_genes={mutation_percent}) resutled in selecting ({mutation_num}) genes. The number of genes to mutate is set to 1 (mutation_num_genes=1).\\nIf you do not want to mutate any gene, please set mutation_type=None.\".format(mutation_percent=mutation_percent_genes, mutation_num=mutation_num_genes))\n"
     ]
    }
   ],
   "source": [
    "ga_instance = pygad.GA(num_generations=num_generations,\n",
    "                       num_parents_mating=num_parents_mating,\n",
    "                       fitness_func=fitness_function,\n",
    "                       sol_per_pop=sol_per_pop,\n",
    "                       num_genes=num_genes,\n",
    "                       init_range_low=init_range_low,\n",
    "                       init_range_high=init_range_high,\n",
    "                       parent_selection_type=parent_selection_type,\n",
    "                       keep_parents=keep_parents,\n",
    "                       crossover_type=crossover_type,\n",
    "                       mutation_type=mutation_type,\n",
    "                       mutation_percent_genes=mutation_percent_genes)"
   ]
  },
  {
   "cell_type": "code",
   "execution_count": 11,
   "id": "9aa62a84",
   "metadata": {},
   "outputs": [],
   "source": [
    "ga_instance.run()"
   ]
  },
  {
   "cell_type": "code",
   "execution_count": 12,
   "id": "8fce5237",
   "metadata": {},
   "outputs": [
    {
     "name": "stdout",
     "output_type": "stream",
     "text": [
      "Parameters of the best solution : [ 4.09809465  0.06893492  1.84051918  3.12932747 -2.46023133  4.55441562]\n",
      "Fitness value of the best solution = 4072.924878208643\n",
      "Predicted output based on the best solution : 43.99975447619833\n"
     ]
    }
   ],
   "source": [
    "solution, solution_fitness, solution_idx = ga_instance.best_solution()\n",
    "print(\"Parameters of the best solution : {solution}\".format(solution=solution))\n",
    "print(\"Fitness value of the best solution = {solution_fitness}\".format(solution_fitness=solution_fitness))\n",
    "\n",
    "prediction = numpy.sum(numpy.array(function_inputs)*solution)\n",
    "print(\"Predicted output based on the best solution : {prediction}\".format(prediction=prediction))"
   ]
  }
 ],
 "metadata": {
  "kernelspec": {
   "display_name": "Python 3 (ipykernel)",
   "language": "python",
   "name": "python3"
  },
  "language_info": {
   "codemirror_mode": {
    "name": "ipython",
    "version": 3
   },
   "file_extension": ".py",
   "mimetype": "text/x-python",
   "name": "python",
   "nbconvert_exporter": "python",
   "pygments_lexer": "ipython3",
   "version": "3.7.6"
  }
 },
 "nbformat": 4,
 "nbformat_minor": 5
}
