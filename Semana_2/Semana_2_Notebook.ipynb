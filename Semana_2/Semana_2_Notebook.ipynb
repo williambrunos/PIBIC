{
 "cells": [
  {
   "cell_type": "code",
   "execution_count": 1,
   "id": "77eb6896",
   "metadata": {},
   "outputs": [],
   "source": [
    "import numpy as np\n",
    "import math\n",
    "import scipy.linalg as la"
   ]
  },
  {
   "cell_type": "markdown",
   "id": "3ba12f70",
   "metadata": {},
   "source": [
    "# Semana 2 PIBIC"
   ]
  },
  {
   "cell_type": "markdown",
   "id": "caf31d90",
   "metadata": {},
   "source": [
    "## Gerando Tabelas Verdade (Truth Tables)\n",
    "\n",
    "Para a geração de tabelas verdade com n inputs no circuito, com $n \\ge 1$. Esta é uma função recursiva que gera uma tabela verdade em forma de matriz para n inputs arbitrários.\n",
    "\n",
    "Talvez existam formas mais rápidas e menores de fazê-las, mas esta função é mais legível para os usuários e para os parceiros da pesquisa. Modifiquei o nome das variáveis para auxiliar no processo.\n",
    "\n",
    "Além disso, modifiquei-a para que retornasse um numpy array ao invés de um array convencional do python, aumentando a eficiência da função visto que numpy arrays são mais rápidos de se fazer modificações na função e até mesmo posteriores."
   ]
  },
  {
   "cell_type": "code",
   "execution_count": 34,
   "id": "17c2a62d",
   "metadata": {},
   "outputs": [],
   "source": [
    "def Tv(NumberOfInputs):\n",
    "    \"\"\"\n",
    "    Retorna uma tabela verdade (TruthTable) dado um circuito com n inputs maiores ou iguais a 1\n",
    "    Checa se a variável NumberOfInputs é inteira. Se sim, continua normalmente, se não lança uma exceção com a mensagem\n",
    "    'Parameter \\'NumberOfInputs\\' must be a integer'\n",
    "\n",
    "    Parâmetros\n",
    "    ------------------------------------------------\n",
    "    :param NumberOfInputs: número de inputs do circuito lógico, deve ser um número inteiro (obrigatoriamente)\n",
    "    \n",
    "    Retorno\n",
    "    ------------------------------------------------\n",
    "    :return: Retorna a tabela verdade como uma lista do Python (caso necessário, transformar o retorno em numpy array)\n",
    "    \"\"\"\n",
    "    if not isinstance(NumberOfInputs, int):\n",
    "        raise ValueError('Parameter \\'NumerOfInputs\\' must be a integer')\n",
    "    if NumberOfInputs < 1:\n",
    "        return [[]]\n",
    "    \n",
    "    SubTable = Tv(NumberOfInputs - 1)\n",
    "    return [row + [v] for row in SubTable for v in [0,1]]"
   ]
  },
  {
   "cell_type": "code",
   "execution_count": 35,
   "id": "e4fe67d3",
   "metadata": {},
   "outputs": [
    {
     "data": {
      "text/plain": [
       "array([[0., 0., 0.],\n",
       "       [0., 0., 1.],\n",
       "       [0., 1., 0.],\n",
       "       [0., 1., 1.],\n",
       "       [1., 0., 0.],\n",
       "       [1., 0., 1.],\n",
       "       [1., 1., 0.],\n",
       "       [1., 1., 1.]])"
      ]
     },
     "execution_count": 35,
     "metadata": {},
     "output_type": "execute_result"
    }
   ],
   "source": [
    "Table = np.array(Tv(3), dtype=float)\n",
    "Table"
   ]
  },
  {
   "cell_type": "markdown",
   "id": "a3ec044d",
   "metadata": {},
   "source": [
    "A única verificação necessária nessa função se dá no momento da passagem do argumento $NumberOfInputs$. Se o número passado não for um inteiro, a função retorna um erro e não continua seus cálculos.\n",
    "\n",
    "Além disso, caso o argumento de número de inputs for menor ou igual a 0, a função retorna um numpy array vazio."
   ]
  },
  {
   "cell_type": "markdown",
   "id": "4ace7316",
   "metadata": {},
   "source": [
    "## Modulação PAM\n",
    "\n",
    "Quando tratamos de tabelas verdade de circuitos eletrônicos, muitas vezes precisamos converter esses sinais em Modulação por Amplitude do Pulso (PAM: Pulse Amplitude Moduling) para realizarmos cálculos ou verificações e depois retornamos a representação do circuito a meneira original, com 0's e 1's.\n",
    "\n",
    "Para isso, convertemos os campos (labels) das tabelas verdades por $1+\\epsilon$ caso o valor no campo seja 1 ou $1-\\epsilon$ caso seja 0. A matriz resultante é chamada de $\\textbf{Imp}$.\n",
    "\n",
    "No exemplo a seguir, utilizaremos a variável table definida no código acima para os testes e o valor $\\epsilon = 5$:"
   ]
  },
  {
   "cell_type": "code",
   "execution_count": 39,
   "id": "2f492ae5",
   "metadata": {},
   "outputs": [],
   "source": [
    "def PAM(TruthTable, epsilon):\n",
    "    \"\"\"\n",
    "    Função que retorna uma modulação PAM para uma dada tabela verdade (TruthTable) e certo epsilon real arbitrário.\n",
    "    Não modifica a tabela verdade original, apenas realiza alterações em uma cópia e a retorna no final.\n",
    "    Funciona para qualquer tabela verdade (TruthTable) com n inputs (Matriz não precisa ser quadrada)\n",
    "\n",
    "    Parâmetros\n",
    "    ------------------------------------------------\n",
    "    :param TruthTable: tabela verdade a ser analisada e transformada em modulação PAM\n",
    "    :param epsilon: epsilon no qual os valores serão calculados\n",
    "    \n",
    "    Retorno\n",
    "    ------------------------------------------------\n",
    "    :return: retorna um numpy array como matriz da modulação PAM da tabela verdade recebida como parâmetro\n",
    "    \"\"\"\n",
    "    if epsilon <= 0:\n",
    "        raise ValueError(f'Epsilon must be major than 0')\n",
    "    PamTable = TruthTable.copy()\n",
    "    rows, columns = PamTable.shape\n",
    "    for row in range(rows):\n",
    "        for column in range(columns):\n",
    "            if PamTable[row][column] == 1:\n",
    "                PamTable[row][column] = 1 + epsilon\n",
    "            else:\n",
    "                PamTable[row][column] = 1 - epsilon\n",
    "                # Colocar ValueError valores diferentes de 0 ou 1\n",
    "                # Fazer numpy array receber valores float\n",
    "    return PamTable"
   ]
  },
  {
   "cell_type": "code",
   "execution_count": 40,
   "id": "b8f3b33f",
   "metadata": {},
   "outputs": [
    {
     "name": "stdout",
     "output_type": "stream",
     "text": [
      "INP: \n",
      "[[-0.4 -0.4 -0.4]\n",
      " [-0.4 -0.4  2.4]\n",
      " [-0.4  2.4 -0.4]\n",
      " [-0.4  2.4  2.4]\n",
      " [ 2.4 -0.4 -0.4]\n",
      " [ 2.4 -0.4  2.4]\n",
      " [ 2.4  2.4 -0.4]\n",
      " [ 2.4  2.4  2.4]]\n",
      "\n",
      "TABELA VERDADE ORIGINAL: \n",
      "[[0. 0. 0.]\n",
      " [0. 0. 1.]\n",
      " [0. 1. 0.]\n",
      " [0. 1. 1.]\n",
      " [1. 0. 0.]\n",
      " [1. 0. 1.]\n",
      " [1. 1. 0.]\n",
      " [1. 1. 1.]]\n"
     ]
    }
   ],
   "source": [
    "Inp = PAM(Table, 1.4)\n",
    "print(f'INP: \\n{Inp}\\n\\nTABELA VERDADE ORIGINAL: \\n{Table}')"
   ]
  },
  {
   "cell_type": "code",
   "execution_count": 37,
   "id": "6b0c374b",
   "metadata": {},
   "outputs": [],
   "source": [
    "def InvPAM(PAMTable):\n",
    "    \"\"\"\n",
    "    Função que retorna uma nova tabela verdade com modulação bniária (processo inverso da modulação PAM)\n",
    "    \n",
    "    Parâmetros\n",
    "    ------------------------------\n",
    "    :param PAMTable: Tabela verdade em modulação PAM (1 +- epsilon)\n",
    "    \n",
    "    Retorno\n",
    "    ------------------------------\n",
    "    :return: Retorna uma nova matriz como numpy array que representa a tabela verdade original (inversa da PAM)\n",
    "    \"\"\"\n",
    "    rows, columns = PAMTable.shape\n",
    "    ResultTable = np.ones(shape=(rows, columns), dtype=float)\n",
    "    for row in range(rows):\n",
    "        for column in range(columns):\n",
    "            if PAMTable[row][column] < 1:\n",
    "                ResultTable[row][column] = 0\n",
    "    return ResultTable"
   ]
  },
  {
   "cell_type": "code",
   "execution_count": 38,
   "id": "4ec5fa43",
   "metadata": {},
   "outputs": [
    {
     "name": "stdout",
     "output_type": "stream",
     "text": [
      "Imp: \n",
      "\n",
      "[[-0.4 -0.4 -0.4]\n",
      " [-0.4 -0.4  2.4]\n",
      " [-0.4  2.4 -0.4]\n",
      " [-0.4  2.4  2.4]\n",
      " [ 2.4 -0.4 -0.4]\n",
      " [ 2.4 -0.4  2.4]\n",
      " [ 2.4  2.4 -0.4]\n",
      " [ 2.4  2.4  2.4]]\n",
      "InvPAM: \n",
      "\n",
      "[[0. 0. 0.]\n",
      " [0. 0. 1.]\n",
      " [0. 1. 0.]\n",
      " [0. 1. 1.]\n",
      " [1. 0. 0.]\n",
      " [1. 0. 1.]\n",
      " [1. 1. 0.]\n",
      " [1. 1. 1.]]\n"
     ]
    }
   ],
   "source": [
    "InvPam = InvPAM(Inp)\n",
    "print(f'Imp: \\n\\n{Inp}\\nInvPAM: \\n\\n{InvPam}')"
   ]
  },
  {
   "cell_type": "markdown",
   "id": "859be307",
   "metadata": {},
   "source": [
    "O único erro que a função PAM poderia dar era em retornar uma tabela verdade modulada erroneamente, o que não ocorre devido ao retorno da função $InvPAM$ ser exatamente igual à tabela verdade original. Assim, nenhum erro é cometido pelas funções."
   ]
  },
  {
   "cell_type": "markdown",
   "id": "73bedf4d",
   "metadata": {},
   "source": [
    "## Geração de Tabelas Verdade Padrões (OR, AND)\n",
    "\n",
    "Para dar continuidade à pesquisa, precisamos de uma função que nos retorne tabelas verdade de operadores lógicos padrões (OR, AND)."
   ]
  },
  {
   "cell_type": "code",
   "execution_count": 41,
   "id": "4de7bd69",
   "metadata": {},
   "outputs": [],
   "source": [
    "def OrTruthTableGenerator(TruthTable):\n",
    "    \"\"\"\n",
    "    Retorna uma tabela verdade do circuito lógico OR de acordo com uma tabela verdade (TruthTable). \n",
    "    Checa se a tabela está vazia, se sim a retorna (vazia), se não, realiza os cálculos.\n",
    "    \n",
    "    Parâmetros\n",
    "    ------------------------------------------------\n",
    "    :param TruthTable: tabela verdade a ser analisada\n",
    "    \n",
    "    Retorno\n",
    "    ------------------------------------------------\n",
    "    :return: Retorna a coluna (numpt array) com os valores da tabela verdade OR dos inputs da tabela verdade recebida \n",
    "    como parâmetro\n",
    "    \"\"\"\n",
    "    rows, columns = TruthTable.shape\n",
    "    ResultTable = np.zeros(shape=(rows, 1), dtype=float)\n",
    "    \n",
    "    if TruthTable.size == 0:\n",
    "        return TruthTable\n",
    "    \n",
    "    for row in range(rows):\n",
    "        BooleanRowArray = TruthTable[row][:]\n",
    "        if np.any(BooleanRowArray):\n",
    "            ResultTable[row][0] = 1\n",
    "        \n",
    "    return ResultTable"
   ]
  },
  {
   "cell_type": "code",
   "execution_count": 42,
   "id": "672daa08",
   "metadata": {},
   "outputs": [],
   "source": [
    "def AndTruthTableGenerator(TruthTable):\n",
    "    \"\"\"\n",
    "    Retorna uma tabela verdade do circuito lógico AND de acordo com uma tabela verdade (TruthTable). \n",
    "    Checa se a tabela está vazia, se sim a retorna (vazia), se não, realiza os cálculos.\n",
    "    \n",
    "    Parâmetros\n",
    "    ------------------------------------------------\n",
    "    :param TruthTable: tabela verdade a ser analisada\n",
    "    \n",
    "    Retorno\n",
    "    ------------------------------------------------\n",
    "    :return: Retorna a coluna (numpy array) com os valores da tabela verdade AND dos inputs da tabela verdade recebida \n",
    "    como parâmetro\n",
    "    \"\"\"\n",
    "    rows, columns = TruthTable.shape\n",
    "    ResultTable = np.zeros(shape=(rows, 1), dtype=float)\n",
    "    \n",
    "    if TruthTable.size == 0:\n",
    "        return TruthTable\n",
    "    \n",
    "    for row in range(rows):\n",
    "        BooleanRowArray = TruthTable[row][:]\n",
    "        if np.all(BooleanRowArray):\n",
    "            ResultTable[row][0] = 1;\n",
    "    \n",
    "    return ResultTable"
   ]
  },
  {
   "cell_type": "code",
   "execution_count": 43,
   "id": "fc7017c2",
   "metadata": {},
   "outputs": [
    {
     "name": "stdout",
     "output_type": "stream",
     "text": [
      "OR TRUTH TABLE: \n",
      "[[0.]\n",
      " [1.]\n",
      " [1.]\n",
      " [1.]\n",
      " [1.]\n",
      " [1.]\n",
      " [1.]\n",
      " [1.]] \n",
      "\n",
      "AND TRUTH TABLE: \n",
      "[[0.]\n",
      " [0.]\n",
      " [0.]\n",
      " [0.]\n",
      " [0.]\n",
      " [0.]\n",
      " [0.]\n",
      " [1.]]\n"
     ]
    }
   ],
   "source": [
    "OR = OrTruthTableGenerator(Table)\n",
    "AND = AndTruthTableGenerator(Table)\n",
    "print(f'OR TRUTH TABLE: \\n{OR} \\n\\nAND TRUTH TABLE: \\n{AND}')"
   ]
  },
  {
   "cell_type": "markdown",
   "id": "568ce175",
   "metadata": {},
   "source": [
    "Perceba que os exemplos utilizados para os cálculos das funções são feitos utilizando tabelas verdade de 3 inputs. No entanto, como já documentado, essas funções aceitam tabelas verdade de n inputs, sendo n um número natural."
   ]
  },
  {
   "cell_type": "markdown",
   "id": "834d3c8c",
   "metadata": {},
   "source": [
    "## Código de Teste\n",
    "\n",
    "Os códigos abaixo realizam testes com as funções abordadas, seguindo o modelo (exemplo para o arranjo triangular):\n",
    "\n",
    "$A = ArranjoT rinagular(α, β, γ) \\newline T = MatrizTransferencia(A) \\newline Inp = PAM(TV(3)) \\newline Out = T Inp^{T} \\newline Out = Out^{T} \\newline OutPAM = PAM(OR)$"
   ]
  },
  {
   "cell_type": "code",
   "execution_count": 44,
   "id": "508d6ebd",
   "metadata": {},
   "outputs": [],
   "source": [
    "def ArranjoTriangular(alpha, beta, gama):\n",
    "    A = np.array([[0, complex(0, gama), complex(0, beta)], \n",
    "                  [complex(0, gama), 0, complex(0, alpha)], \n",
    "                  [complex(0, beta), complex(0, alpha), 0]])\n",
    "    return A"
   ]
  },
  {
   "cell_type": "code",
   "execution_count": 45,
   "id": "0f6a70e6",
   "metadata": {},
   "outputs": [],
   "source": [
    "def MatrizTransferenciaTriangular(A):\n",
    "    \"\"\"\n",
    "    Retorna a matriz de transferência triangular T a partir de uma matriz de arranjo triangular A a partir dos passos já citados\n",
    "    Erro percentual de 10^(-14) a 10^(-16), ínfimo.\n",
    "    \n",
    "    Parâmetros\n",
    "    --------------------------------------\n",
    "    :param A: matriz de Arranjo Triangular como numpy array\n",
    "    \n",
    "    Retorno\n",
    "    \n",
    "    :return:  matriz numpy array de transferência triangular T calculada com erro ínfimo.\n",
    "    \"\"\"\n",
    "    eigvals, eigvecs = la.eig(A)\n",
    "    D = np.array([[eigvals[0], 0, 0], \n",
    "                  [0, eigvals[1], 0], \n",
    "                  [0, 0, eigvals[2]]])\n",
    "    P = eigvecs.copy()\n",
    "    E = np.array([[np.exp(eigvals[0]), 0, 0], \n",
    "                  [0, np.exp(eigvals[1]), 0], \n",
    "                  [0, 0, np.exp(eigvals[2])]])\n",
    "    \n",
    "    if np.allclose(A, P @ D @ la.inv(P), atol=1e-17):\n",
    "        raise ValueError(f'Parameter Matrix A has not property A == PDP^(-1) for a tolerance of {1e-17}')\n",
    "    \n",
    "    # T é a matriz de transferência\n",
    "    T = P @ E @ la.inv(P)\n",
    "    \n",
    "    return T"
   ]
  },
  {
   "cell_type": "code",
   "execution_count": 57,
   "id": "d6988c62",
   "metadata": {},
   "outputs": [],
   "source": [
    "A = ArranjoTriangular(1, 2, 3)\n",
    "T = MatrizTransferenciaTriangular(A)\n",
    "Inp = PAM(np.array(Tv(3), dtype=float), 0.5)\n",
    "\n",
    "Out = T @ Inp.T\n",
    "Out = Out.T\n",
    "OutPAM = PAM(OR, 5)"
   ]
  },
  {
   "cell_type": "code",
   "execution_count": 58,
   "id": "822fde17",
   "metadata": {},
   "outputs": [
    {
     "name": "stdout",
     "output_type": "stream",
     "text": [
      "A: \n",
      "[[0.+0.j 0.+3.j 0.+2.j]\n",
      " [0.+3.j 0.+0.j 0.+1.j]\n",
      " [0.+2.j 0.+1.j 0.+0.j]]\n",
      "\n",
      "T: \n",
      "[[-0.78640394-0.33599426j  0.27205028-0.3998916j  -0.03223645-0.18361063j]\n",
      " [ 0.27205028-0.3998916j  -0.40191798-0.48536506j -0.59284716+0.13225087j]\n",
      " [-0.03223645-0.18361063j -0.59284716+0.13225087j  0.23889194-0.73431637j]]\n",
      "\n",
      "Inp: \n",
      "[[0.5 0.5 0.5]\n",
      " [0.5 0.5 1.5]\n",
      " [0.5 1.5 0.5]\n",
      " [0.5 1.5 1.5]\n",
      " [1.5 0.5 0.5]\n",
      " [1.5 0.5 1.5]\n",
      " [1.5 1.5 0.5]\n",
      " [1.5 1.5 1.5]]\n",
      "\n",
      "Out: \n",
      "[[-2.73295055e-01-0.45974824j -3.61357431e-01-0.37650289j\n",
      "  -1.93095836e-01-0.39283806j]\n",
      " [-3.05531509e-01-0.64335887j -9.54204593e-01-0.24425202j\n",
      "   4.57961088e-02-1.12715444j]\n",
      " [-1.24477226e-03-0.85963984j -7.63275414e-01-0.86186795j\n",
      "  -7.85942997e-01-0.26058719j]\n",
      " [-3.34812261e-02-1.04325047j -1.35612258e+00-0.72961707j\n",
      "  -5.47051053e-01-0.99490356j]\n",
      " [-1.05969900e+00-0.79574251j -8.93071480e-02-0.77639449j\n",
      "  -2.25332289e-01-0.57644869j]\n",
      " [-1.09193545e+00-0.97935313j -6.82154310e-01-0.64414361j\n",
      "   1.35596549e-02-1.31076506j]\n",
      " [-7.87648712e-01-1.19563411j -4.91225131e-01-1.26175954j\n",
      "  -8.18179451e-01-0.44419782j]\n",
      " [-8.19885166e-01-1.37924473j -1.08407229e+00-1.12950867j\n",
      "  -5.79287507e-01-1.17851419j]]\n",
      "\n",
      "OutPAM: \n",
      "[[-4.]\n",
      " [ 6.]\n",
      " [ 6.]\n",
      " [ 6.]\n",
      " [ 6.]\n",
      " [ 6.]\n",
      " [ 6.]\n",
      " [ 6.]]\n"
     ]
    }
   ],
   "source": [
    "print(f'A: \\n{A}\\n\\nT: \\n{T}\\n\\nInp: \\n{Inp}\\n\\nOut: \\n{Out}\\n\\nOutPAM: \\n{OutPAM}')"
   ]
  },
  {
   "cell_type": "markdown",
   "id": "1e86b15e",
   "metadata": {},
   "source": [
    "## Testes"
   ]
  },
  {
   "cell_type": "markdown",
   "id": "f1ad5489",
   "metadata": {},
   "source": [
    "### 1) A modulação PAM e a função InvPAM funcionam corretamente? (SIM)"
   ]
  },
  {
   "cell_type": "code",
   "execution_count": 15,
   "id": "48b2b6c0",
   "metadata": {},
   "outputs": [
    {
     "name": "stdout",
     "output_type": "stream",
     "text": [
      "Original: \n",
      "\n",
      "[[0 0 0]\n",
      " [0 0 1]\n",
      " [0 1 0]\n",
      " [0 1 1]\n",
      " [1 0 0]\n",
      " [1 0 1]\n",
      " [1 1 0]\n",
      " [1 1 1]]\n",
      "INP: \n",
      "\n",
      "[[-4 -4 -4]\n",
      " [-4 -4  6]\n",
      " [-4  6 -4]\n",
      " [-4  6  6]\n",
      " [ 6 -4 -4]\n",
      " [ 6 -4  6]\n",
      " [ 6  6 -4]\n",
      " [ 6  6  6]]\n",
      "\n",
      "Retorno InvPAM: \n",
      "\n",
      "[[0 0 0]\n",
      " [0 0 1]\n",
      " [0 1 0]\n",
      " [0 1 1]\n",
      " [1 0 0]\n",
      " [1 0 1]\n",
      " [1 1 0]\n",
      " [1 1 1]]\n",
      "True\n"
     ]
    }
   ],
   "source": [
    "Original = np.array(Tv(3))\n",
    "Inp = PAM(Original, 5)\n",
    "RetornoInv = InvPAM(Inp)\n",
    "print(f'Original: \\n\\n{Original}\\nINP: \\n\\n{Inp}\\n\\nRetorno InvPAM: \\n\\n{RetornoInv}')\n",
    "print(np.allclose(Original, RetornoInv))"
   ]
  },
  {
   "cell_type": "markdown",
   "id": "37f5ae9c",
   "metadata": {},
   "source": [
    "### 2) O cálculo de Out functiona corretamente? Análise do erro (SIM)"
   ]
  },
  {
   "cell_type": "markdown",
   "id": "29495d7a",
   "metadata": {},
   "source": [
    "Para o cálculo do erro da matriz $Out$, faremos manipulações de matrizes assim como fizemos com a matriz $E$ no estágio da semana anterior. Seja $Out = T Inp^T$. Podemos comparar visualmente as duas matrizes, ou podemos utilizar o método ``np.allclose(atol=1e-18)``, na qual atol é uma tolerância ínfima, quase nula, mas mesmo assim vemos que a função retorna True.\n",
    "\n",
    "Ou seja, os cálculos são feitos de maneira correta."
   ]
  },
  {
   "cell_type": "code",
   "execution_count": 16,
   "id": "1bafe596",
   "metadata": {},
   "outputs": [
    {
     "name": "stdout",
     "output_type": "stream",
     "text": [
      "out: \n",
      "\n",
      "[[ 2.18636044+3.67798595j  1.8639959 +1.84187969j  4.90686327-0.32093003j\n",
      "   4.58449873-2.15703629j -5.67767896+0.31804331j -6.00004349-1.51806295j\n",
      "  -2.95717613-3.68087267j -3.27954066-5.51697893j]\n",
      " [ 2.89085945+3.01202312j -3.03761217+4.33453186j -1.12832038-1.84162744j\n",
      "  -7.056792  -0.5191187j   5.61136228-0.98689286j -0.31710934+0.33561588j\n",
      "   1.59218245-5.84054342j -4.33628917-4.51803468j]\n",
      " [ 1.54476669+3.1427045j   3.93368613-4.20045924j -4.38370493+4.46521324j\n",
      "  -1.99478549-2.8779505j   1.22240215+1.30659825j  3.61132159-6.03656549j\n",
      "  -4.70606947+2.62910698j -2.31715003-4.71405676j]]\n",
      "\n",
      "T @ Inp.T: \n",
      "\n",
      "[[ 2.18636044+3.67798595j  1.8639959 +1.84187969j  4.90686327-0.32093003j\n",
      "   4.58449873-2.15703629j -5.67767896+0.31804331j -6.00004349-1.51806295j\n",
      "  -2.95717613-3.68087267j -3.27954066-5.51697893j]\n",
      " [ 2.89085945+3.01202312j -3.03761217+4.33453186j -1.12832038-1.84162744j\n",
      "  -7.056792  -0.5191187j   5.61136228-0.98689286j -0.31710934+0.33561588j\n",
      "   1.59218245-5.84054342j -4.33628917-4.51803468j]\n",
      " [ 1.54476669+3.1427045j   3.93368613-4.20045924j -4.38370493+4.46521324j\n",
      "  -1.99478549-2.8779505j   1.22240215+1.30659825j  3.61132159-6.03656549j\n",
      "  -4.70606947+2.62910698j -2.31715003-4.71405676j]]\n"
     ]
    }
   ],
   "source": [
    "print(f'out: \\n\\n{Out.T}\\n\\nT @ Inp.T: \\n\\n{T @ Inp.T}')"
   ]
  },
  {
   "cell_type": "code",
   "execution_count": 17,
   "id": "96a7a28a",
   "metadata": {},
   "outputs": [
    {
     "data": {
      "text/plain": [
       "True"
      ]
     },
     "execution_count": 17,
     "metadata": {},
     "output_type": "execute_result"
    }
   ],
   "source": [
    "np.allclose(Out.T, T @ Inp.T, atol=1e-18)"
   ]
  }
 ],
 "metadata": {
  "kernelspec": {
   "display_name": "Python 3",
   "language": "python",
   "name": "python3"
  },
  "language_info": {
   "codemirror_mode": {
    "name": "ipython",
    "version": 3
   },
   "file_extension": ".py",
   "mimetype": "text/x-python",
   "name": "python",
   "nbconvert_exporter": "python",
   "pygments_lexer": "ipython3",
   "version": "3.8.8"
  }
 },
 "nbformat": 4,
 "nbformat_minor": 5
}
