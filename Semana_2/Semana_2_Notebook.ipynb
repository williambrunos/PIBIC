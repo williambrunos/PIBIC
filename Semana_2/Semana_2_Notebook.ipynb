{
 "cells": [
  {
   "cell_type": "code",
   "execution_count": 20,
   "id": "77eb6896",
   "metadata": {},
   "outputs": [],
   "source": [
    "import numpy as np\n",
    "import math\n",
    "import scipy.linalg as la\n",
    "import itertools"
   ]
  },
  {
   "cell_type": "markdown",
   "id": "3ba12f70",
   "metadata": {},
   "source": [
    "# Semana 2 PIBIC"
   ]
  },
  {
   "cell_type": "markdown",
   "id": "caf31d90",
   "metadata": {},
   "source": [
    "## Gerando Tabelas Verdade (Truth Tables)\n",
    "\n",
    "Para a geração de tabelas verdade com n inputs no circuito, com $n \\ge 1$. Esta é uma função que gera uma tabela verdade em forma de matriz para n inputs arbitrários.\n",
    "\n",
    "Além disso, modifiquei-a para que retornasse um numpy array ao invés de um array convencional do python, aumentando a eficiência da função visto que numpy arrays são mais rápidos de se fazer modificações na função e até mesmo posteriores."
   ]
  },
  {
   "cell_type": "code",
   "execution_count": 21,
   "id": "17c2a62d",
   "metadata": {},
   "outputs": [],
   "source": [
    "def Tv(NumberOfInputs):\n",
    "    \"\"\"\n",
    "    Retorna uma tabela verdade (TruthTable) dado um circuito com n inputs maiores ou iguais a 1\n",
    "    Checa se a variável NumberOfInputs é inteira. Se sim, continua normalmente, se não lança uma exceção com a mensagem\n",
    "    'Parameter \\'NumberOfInputs\\' must be a integer'\n",
    "\n",
    "    Parâmetros\n",
    "    ------------------------------------------------\n",
    "    :param NumberOfInputs: número de inputs do circuito lógico, deve ser um número inteiro (obrigatoriamente)\n",
    "    \n",
    "    Retorno\n",
    "    ------------------------------------------------\n",
    "    :return: Retorna a tabela verdade como uma lista do Python (caso necessário, transformar o retorno em numpy array)\n",
    "    \"\"\"\n",
    "    if not isinstance(NumberOfInputs, int):\n",
    "        raise ValueError('Parameter \\'NumerOfInputs\\' must be a integer')\n",
    "    if NumberOfInputs < 1:                                                   \n",
    "        raise ValueError('Parameter \\'NumberOfInputs\\' must be greater or equal to 1')\n",
    "    else:\n",
    "        table = list(itertools.product ([0, 1], repeat = NumberOfInputs))    \n",
    "        table = np.array(table, dtype=float)\n",
    "        return table"
   ]
  },
  {
   "cell_type": "code",
   "execution_count": 22,
   "id": "e4fe67d3",
   "metadata": {},
   "outputs": [
    {
     "data": {
      "text/plain": [
       "array([[0., 0., 0.],\n",
       "       [0., 0., 1.],\n",
       "       [0., 1., 0.],\n",
       "       [0., 1., 1.],\n",
       "       [1., 0., 0.],\n",
       "       [1., 0., 1.],\n",
       "       [1., 1., 0.],\n",
       "       [1., 1., 1.]])"
      ]
     },
     "execution_count": 22,
     "metadata": {},
     "output_type": "execute_result"
    }
   ],
   "source": [
    "Table = Tv(3)\n",
    "Table\n",
    "# try...catch"
   ]
  },
  {
   "cell_type": "markdown",
   "id": "a3ec044d",
   "metadata": {},
   "source": [
    "Uma verificação necessária nessa função se dá no momento da passagem do argumento $NumberOfInputs$. Se o número passado não for um inteiro, a função retorna um erro e não continua seus cálculos.\n",
    "\n",
    "Além disso, caso o argumento de número de inputs for menor do que 1, a função retorna um erro de valor de parâmetro (ValueError).\n",
    "\n",
    "A função $Tv$ retorna uma tabela verdade como numpy array de acordo com o número de inputs do circuito e com valores da tabela verdade do tipo float para não resultar em erros de truncamento no cálculo do epsilon."
   ]
  },
  {
   "cell_type": "markdown",
   "id": "4ace7316",
   "metadata": {},
   "source": [
    "## Modulação PAM\n",
    "\n",
    "Quando tratamos de tabelas verdade de circuitos eletrônicos, muitas vezes precisamos converter esses sinais em Modulação por Amplitude do Pulso (PAM: Pulse Amplitude Moduling) para realizarmos cálculos ou verificações e depois retornamos a representação do circuito a meneira original, com 0's e 1's.\n",
    "\n",
    "Para isso, convertemos os campos (labels) das tabelas verdades por $1+\\epsilon$ caso o valor no campo seja 1 ou $1-\\epsilon$ caso seja 0. A matriz resultante é chamada de $\\textbf{Inp}$."
   ]
  },
  {
   "cell_type": "code",
   "execution_count": 23,
   "id": "2f492ae5",
   "metadata": {},
   "outputs": [],
   "source": [
    "def PAM(TruthTable, epsilon):\n",
    "    \"\"\"\n",
    "    Função que retorna uma modulação PAM para uma dada tabela verdade (TruthTable) e certo epsilon real arbitrário.\n",
    "    Não modifica a tabela verdade original, apenas realiza alterações em uma cópia e a retorna no final.\n",
    "    Funciona para qualquer tabela verdade (TruthTable) com n inputs (Matriz não precisa ser quadrada)\n",
    "\n",
    "    Parâmetros\n",
    "    ------------------------------------------------\n",
    "    :param TruthTable: tabela verdade a ser analisada e transformada em modulação PAM\n",
    "    :param epsilon: epsilon no qual os valores serão calculados\n",
    "    \n",
    "    Retorno\n",
    "    ------------------------------------------------\n",
    "    :return: retorna um numpy array como matriz da modulação PAM da tabela verdade recebida como parâmetro\n",
    "    \"\"\"\n",
    "    if epsilon <= 0 or epsilon >= 1:\n",
    "        raise ValueError(f'Epsilon must be major than 0 and minor than 1')\n",
    "    PamTable = TruthTable.copy() # Como utiliza uma cópia, PamTable será uma matriz com elementos do tipo float\n",
    "    rows, columns = PamTable.shape\n",
    "    for row in range(rows):\n",
    "        for column in range(columns):\n",
    "            if PamTable[row][column] == 1:\n",
    "                PamTable[row][column] = 1 + epsilon\n",
    "            elif PamTable[row][column] == 0:\n",
    "                PamTable[row][column] = 1 - epsilon\n",
    "            else:\n",
    "                raise ValueError('Truth Table must be filled just with zeros and ones')\n",
    "    return PamTable"
   ]
  },
  {
   "cell_type": "code",
   "execution_count": 24,
   "id": "b8f3b33f",
   "metadata": {},
   "outputs": [
    {
     "name": "stdout",
     "output_type": "stream",
     "text": [
      "INP: \n",
      "[[0.5 0.5 0.5]\n",
      " [0.5 0.5 1.5]\n",
      " [0.5 1.5 0.5]\n",
      " [0.5 1.5 1.5]\n",
      " [1.5 0.5 0.5]\n",
      " [1.5 0.5 1.5]\n",
      " [1.5 1.5 0.5]\n",
      " [1.5 1.5 1.5]]\n",
      "\n",
      "TABELA VERDADE ORIGINAL: \n",
      "[[0. 0. 0.]\n",
      " [0. 0. 1.]\n",
      " [0. 1. 0.]\n",
      " [0. 1. 1.]\n",
      " [1. 0. 0.]\n",
      " [1. 0. 1.]\n",
      " [1. 1. 0.]\n",
      " [1. 1. 1.]]\n"
     ]
    }
   ],
   "source": [
    "Inp = PAM(Table, 0.5)\n",
    "print(f'INP: \\n{Inp}\\n\\nTABELA VERDADE ORIGINAL: \\n{Table}')"
   ]
  },
  {
   "cell_type": "code",
   "execution_count": 25,
   "id": "6b0c374b",
   "metadata": {},
   "outputs": [],
   "source": [
    "def InvPAM(PAMTable):\n",
    "    \"\"\"\n",
    "    Função que retorna uma nova tabela verdade com modulação bniária (processo inverso da modulação PAM)\n",
    "    \n",
    "    Parâmetros\n",
    "    ------------------------------\n",
    "    :param PAMTable: Tabela verdade em modulação PAM (1 +- epsilon)\n",
    "    \n",
    "    Retorno\n",
    "    ------------------------------\n",
    "    :return: Retorna uma nova matriz como numpy array que representa a tabela verdade original (inversa da PAM)\n",
    "    \"\"\"\n",
    "    rows, columns = PAMTable.shape\n",
    "    ResultTable = np.ones(shape=(rows, columns), dtype=float)\n",
    "    for row in range(rows):\n",
    "        for column in range(columns):\n",
    "            if PAMTable[row][column] < 1:\n",
    "                ResultTable[row][column] = 0\n",
    "    return ResultTable"
   ]
  },
  {
   "cell_type": "code",
   "execution_count": 26,
   "id": "4ec5fa43",
   "metadata": {},
   "outputs": [
    {
     "name": "stdout",
     "output_type": "stream",
     "text": [
      "Imp: \n",
      "\n",
      "[[0.5 0.5 0.5]\n",
      " [0.5 0.5 1.5]\n",
      " [0.5 1.5 0.5]\n",
      " [0.5 1.5 1.5]\n",
      " [1.5 0.5 0.5]\n",
      " [1.5 0.5 1.5]\n",
      " [1.5 1.5 0.5]\n",
      " [1.5 1.5 1.5]]\n",
      "InvPAM: \n",
      "\n",
      "[[0. 0. 0.]\n",
      " [0. 0. 1.]\n",
      " [0. 1. 0.]\n",
      " [0. 1. 1.]\n",
      " [1. 0. 0.]\n",
      " [1. 0. 1.]\n",
      " [1. 1. 0.]\n",
      " [1. 1. 1.]]\n"
     ]
    }
   ],
   "source": [
    "InvPam = InvPAM(Inp)\n",
    "print(f'Imp: \\n\\n{Inp}\\nInvPAM: \\n\\n{InvPam}')"
   ]
  },
  {
   "cell_type": "markdown",
   "id": "859be307",
   "metadata": {},
   "source": [
    "O único erro que a função PAM poderia dar era em retornar uma tabela verdade modulada erroneamente, o que não ocorre devido ao retorno da função $InvPAM$ ser exatamente igual à tabela verdade original. Assim, nenhum erro é cometido pelas funções.\n",
    "\n",
    "A função $PAM$ e $InvPAM$ retornam numpy arrays (matrizes) do tipo float, logo lidam bem com quaisquer cálculos com números decimais."
   ]
  },
  {
   "cell_type": "markdown",
   "id": "73bedf4d",
   "metadata": {},
   "source": [
    "## Geração de Tabelas Verdade Padrões (OR, AND)\n",
    "\n",
    "Para dar continuidade à pesquisa, precisamos de uma função que nos retorne tabelas verdade de operadores lógicos padrões (OR, AND)."
   ]
  },
  {
   "cell_type": "code",
   "execution_count": 27,
   "id": "4de7bd69",
   "metadata": {},
   "outputs": [],
   "source": [
    "def OrTruthTableGenerator(TruthTable):\n",
    "    \"\"\"\n",
    "    Retorna uma tabela verdade do circuito lógico OR de acordo com uma tabela verdade (TruthTable). \n",
    "    Checa se a tabela está vazia, se sim a retorna (vazia), se não, realiza os cálculos.\n",
    "    \n",
    "    Parâmetros\n",
    "    ------------------------------------------------\n",
    "    :param TruthTable: tabela verdade a ser analisada\n",
    "    \n",
    "    Retorno\n",
    "    ------------------------------------------------\n",
    "    :return: Retorna a coluna (numpy array) com os valores da tabela verdade OR dos inputs da tabela verdade recebida \n",
    "    como parâmetro\n",
    "    \"\"\"\n",
    "    rows, columns = TruthTable.shape\n",
    "    ResultTable = np.zeros(shape=(rows, 1), dtype=float)\n",
    "    \n",
    "    if TruthTable.size == 0:\n",
    "        return TruthTable\n",
    "    \n",
    "    for row in range(rows):\n",
    "        BooleanRowArray = TruthTable[row][:]\n",
    "        if np.any(BooleanRowArray):\n",
    "            ResultTable[row][0] = 1\n",
    "        \n",
    "    return ResultTable"
   ]
  },
  {
   "cell_type": "code",
   "execution_count": 28,
   "id": "672daa08",
   "metadata": {},
   "outputs": [],
   "source": [
    "def AndTruthTableGenerator(TruthTable):\n",
    "    \"\"\"\n",
    "    Retorna uma tabela verdade do circuito lógico AND de acordo com uma tabela verdade (TruthTable). \n",
    "    Checa se a tabela está vazia, se sim a retorna (vazia), se não, realiza os cálculos.\n",
    "    \n",
    "    Parâmetros\n",
    "    ------------------------------------------------\n",
    "    :param TruthTable: tabela verdade a ser analisada\n",
    "    \n",
    "    Retorno\n",
    "    ------------------------------------------------\n",
    "    :return: Retorna a coluna (numpy array) com os valores da tabela verdade AND dos inputs da tabela verdade recebida \n",
    "    como parâmetro\n",
    "    \"\"\"\n",
    "    rows, columns = TruthTable.shape\n",
    "    ResultTable = np.zeros(shape=(rows, 1), dtype=float)\n",
    "    \n",
    "    if TruthTable.size == 0:\n",
    "        return TruthTable\n",
    "    \n",
    "    for row in range(rows):\n",
    "        BooleanRowArray = TruthTable[row][:]\n",
    "        if np.all(BooleanRowArray):\n",
    "            ResultTable[row][0] = 1;\n",
    "    \n",
    "    return ResultTable"
   ]
  },
  {
   "cell_type": "code",
   "execution_count": 29,
   "id": "fc7017c2",
   "metadata": {},
   "outputs": [
    {
     "name": "stdout",
     "output_type": "stream",
     "text": [
      "OR TRUTH TABLE: \n",
      "[[0.]\n",
      " [1.]\n",
      " [1.]\n",
      " [1.]\n",
      " [1.]\n",
      " [1.]\n",
      " [1.]\n",
      " [1.]] \n",
      "\n",
      "AND TRUTH TABLE: \n",
      "[[0.]\n",
      " [0.]\n",
      " [0.]\n",
      " [0.]\n",
      " [0.]\n",
      " [0.]\n",
      " [0.]\n",
      " [1.]]\n"
     ]
    }
   ],
   "source": [
    "OR = OrTruthTableGenerator(Table)\n",
    "AND = AndTruthTableGenerator(Table)\n",
    "print(f'OR TRUTH TABLE: \\n{OR} \\n\\nAND TRUTH TABLE: \\n{AND}')"
   ]
  },
  {
   "cell_type": "markdown",
   "id": "568ce175",
   "metadata": {},
   "source": [
    "Perceba que os exemplos utilizados para os cálculos das funções são feitos utilizando tabelas verdade de 3 inputs. No entanto, como já documentado, essas funções aceitam tabelas verdade de n inputs, sendo n um número natural.\n",
    "\n",
    "Ambas as funções retornam valores de saída como dados do tipo float para realizar cálculos corretamente."
   ]
  },
  {
   "cell_type": "markdown",
   "id": "834d3c8c",
   "metadata": {},
   "source": [
    "## Código de Teste\n",
    "\n",
    "Os códigos abaixo realizam testes com as funções abordadas, seguindo o modelo (exemplo para o arranjo triangular):\n",
    "\n",
    "$A = ArranjoT rinagular(α, β, γ) \\newline T = MatrizTransferencia(A) \\newline Inp = PAM(TV(3)) \\newline Out = T Inp^{T} \\newline Out = Out^{T} \\newline OutPAM = PAM(OR)$"
   ]
  },
  {
   "cell_type": "code",
   "execution_count": 30,
   "id": "508d6ebd",
   "metadata": {},
   "outputs": [],
   "source": [
    "def ArranjoTriangular(alpha, beta, gama):\n",
    "    A = np.array([[0, complex(0, gama), complex(0, beta)], \n",
    "                  [complex(0, gama), 0, complex(0, alpha)], \n",
    "                  [complex(0, beta), complex(0, alpha), 0]])\n",
    "    return A"
   ]
  },
  {
   "cell_type": "code",
   "execution_count": 31,
   "id": "0f6a70e6",
   "metadata": {},
   "outputs": [],
   "source": [
    "def MatrizTransferenciaTriangular(A, z):\n",
    "    \"\"\"\n",
    "    Retorna a matriz de transferência triangular T a partir de uma matriz de arranjo triangular A a partir dos passos já citados\n",
    "    Erro percentual de 10^(-14) a 10^(-16), ínfimo.\n",
    "    \n",
    "    Parâmetros\n",
    "    --------------------------------------\n",
    "    :param A: matriz de Arranjo Triangular como numpy array\n",
    "    :param z: número real qualquer (comprimento do acoplador)\n",
    "    \n",
    "    Retorno\n",
    "    \n",
    "    :return:  matriz numpy array de transferência triangular T calculada com erro ínfimo.\n",
    "    \"\"\"\n",
    "    eigvals, eigvecs = la.eig(A)\n",
    "    D = np.array([[eigvals[0], 0, 0], \n",
    "                  [0, eigvals[1], 0], \n",
    "                  [0, 0, eigvals[2]]])\n",
    "    P = eigvecs.copy()\n",
    "    E = np.array([[np.exp(z*eigvals[0]), 0, 0], \n",
    "                  [0, np.exp(z*eigvals[1]), 0], \n",
    "                  [0, 0, np.exp(z*eigvals[2])]])\n",
    "    \n",
    "    if np.allclose(A, P @ D @ la.inv(P), atol=1e-17):\n",
    "        raise ValueError(f'Parameter Matrix A has not property A == PDP^(-1) for a tolerance of {1e-17}')\n",
    "    \n",
    "    # T é a matriz de transferência\n",
    "    T = P @ E @ la.inv(P)\n",
    "    \n",
    "    return T"
   ]
  },
  {
   "cell_type": "code",
   "execution_count": 32,
   "id": "d6988c62",
   "metadata": {},
   "outputs": [],
   "source": [
    "A = ArranjoTriangular(1.2, 2.3, 3.4)\n",
    "T = MatrizTransferenciaTriangular(A, 2)\n",
    "Inp = PAM(Tv(3), 0.5)\n",
    "\n",
    "Out = T @ Inp.T\n",
    "Out = Out.T\n",
    "OutPAM = PAM(OR, 0.5)"
   ]
  },
  {
   "cell_type": "code",
   "execution_count": 33,
   "id": "822fde17",
   "metadata": {},
   "outputs": [
    {
     "name": "stdout",
     "output_type": "stream",
     "text": [
      "A: \n",
      "[[0.+0.j  0.+3.4j 0.+2.3j]\n",
      " [0.+3.4j 0.+0.j  0.+1.2j]\n",
      " [0.+2.3j 0.+1.2j 0.+0.j ]]\n",
      "\n",
      "T: \n",
      "[[-0.11913715-0.47197274j -0.68805537+0.31241627j -0.36201378+0.246921j  ]\n",
      " [-0.68805537+0.31241627j -0.29909064-0.53387464j  0.07714144+0.22033551j]\n",
      " [-0.36201378+0.246921j    0.07714144+0.22033551j -0.59215774-0.63468631j]]\n",
      "\n",
      "Inp: \n",
      "[[0.5 0.5 0.5]\n",
      " [0.5 0.5 1.5]\n",
      " [0.5 1.5 0.5]\n",
      " [0.5 1.5 1.5]\n",
      " [1.5 0.5 0.5]\n",
      " [1.5 0.5 1.5]\n",
      " [1.5 1.5 0.5]\n",
      " [1.5 1.5 1.5]]\n",
      "\n",
      "Out: \n",
      "[[-0.58460315+4.36822673e-02j -0.45500228-5.61430694e-04j\n",
      "  -0.43851504-8.37148968e-02j]\n",
      " [-0.94661693+2.90603272e-01j -0.37786084+2.19774082e-01j\n",
      "  -1.03067278-7.18401208e-01j]\n",
      " [-1.27265852+3.56098532e-01j -0.75409292-5.34436070e-01j\n",
      "  -0.36137359+1.36620616e-01j]\n",
      " [-1.6346723 +6.03019537e-01j -0.67695148-3.14100557e-01j\n",
      "  -0.95353134-4.98065695e-01j]\n",
      " [-0.7037403 -4.28290468e-01j -1.14305766+3.11854834e-01j\n",
      "  -0.80052881+1.63206108e-01j]\n",
      " [-1.06575408-1.81369463e-01j -1.06591622+5.32190347e-01j\n",
      "  -1.39268655-4.71480203e-01j]\n",
      " [-1.39179568-1.15874203e-01j -1.4421483 -2.22019804e-01j\n",
      "  -0.72338737+3.83541620e-01j]\n",
      " [-1.75380945+1.31046802e-01j -1.36500685-1.68429208e-03j\n",
      "  -1.31554511-2.51144690e-01j]]\n",
      "\n",
      "OutPAM: \n",
      "[[0.5]\n",
      " [1.5]\n",
      " [1.5]\n",
      " [1.5]\n",
      " [1.5]\n",
      " [1.5]\n",
      " [1.5]\n",
      " [1.5]]\n"
     ]
    }
   ],
   "source": [
    "print(f'A: \\n{A}\\n\\nT: \\n{T}\\n\\nInp: \\n{Inp}\\n\\nOut: \\n{Out}\\n\\nOutPAM: \\n{OutPAM}')"
   ]
  },
  {
   "cell_type": "markdown",
   "id": "1e86b15e",
   "metadata": {},
   "source": [
    "## Testes"
   ]
  },
  {
   "cell_type": "markdown",
   "id": "f1ad5489",
   "metadata": {},
   "source": [
    "### 1) A modulação PAM e a função InvPAM funcionam corretamente? (SIM)"
   ]
  },
  {
   "cell_type": "code",
   "execution_count": 34,
   "id": "48b2b6c0",
   "metadata": {},
   "outputs": [
    {
     "name": "stdout",
     "output_type": "stream",
     "text": [
      "Original: \n",
      "\n",
      "[[0. 0. 0.]\n",
      " [0. 0. 1.]\n",
      " [0. 1. 0.]\n",
      " [0. 1. 1.]\n",
      " [1. 0. 0.]\n",
      " [1. 0. 1.]\n",
      " [1. 1. 0.]\n",
      " [1. 1. 1.]]\n",
      "INP: \n",
      "\n",
      "[[0.5 0.5 0.5]\n",
      " [0.5 0.5 1.5]\n",
      " [0.5 1.5 0.5]\n",
      " [0.5 1.5 1.5]\n",
      " [1.5 0.5 0.5]\n",
      " [1.5 0.5 1.5]\n",
      " [1.5 1.5 0.5]\n",
      " [1.5 1.5 1.5]]\n",
      "\n",
      "Retorno InvPAM: \n",
      "\n",
      "[[0. 0. 0.]\n",
      " [0. 0. 1.]\n",
      " [0. 1. 0.]\n",
      " [0. 1. 1.]\n",
      " [1. 0. 0.]\n",
      " [1. 0. 1.]\n",
      " [1. 1. 0.]\n",
      " [1. 1. 1.]]\n",
      "True\n"
     ]
    }
   ],
   "source": [
    "Original = Tv(3)\n",
    "InpTeste = PAM(Original, 0.5)\n",
    "RetornoInv = InvPAM(InpTeste)\n",
    "print(f'Original: \\n\\n{Original}\\nINP: \\n\\n{InpTeste}\\n\\nRetorno InvPAM: \\n\\n{RetornoInv}')\n",
    "print(np.allclose(Original, RetornoInv))"
   ]
  },
  {
   "cell_type": "markdown",
   "id": "37f5ae9c",
   "metadata": {},
   "source": [
    "### 2) O cálculo de Out functiona corretamente? Análise do erro (SIM)"
   ]
  },
  {
   "cell_type": "markdown",
   "id": "29495d7a",
   "metadata": {},
   "source": [
    "Para o cálculo do erro da matriz $Out$, faremos manipulações de matrizes assim como fizemos com a matriz $E$ no estágio da semana anterior. Seja $Out = T Inp^T$. Podemos comparar visualmente as duas matrizes, ou podemos utilizar o método ``np.allclose(atol=1e-18)``, na qual atol é uma tolerância ínfima, quase nula, mas mesmo assim vemos que a função retorna True.\n",
    "\n",
    "Ou seja, os cálculos são feitos de maneira correta."
   ]
  },
  {
   "cell_type": "code",
   "execution_count": 35,
   "id": "1bafe596",
   "metadata": {},
   "outputs": [
    {
     "name": "stdout",
     "output_type": "stream",
     "text": [
      "out: \n",
      "\n",
      "[[-0.58460315+4.36822673e-02j -0.94661693+2.90603272e-01j\n",
      "  -1.27265852+3.56098532e-01j -1.6346723 +6.03019537e-01j\n",
      "  -0.7037403 -4.28290468e-01j -1.06575408-1.81369463e-01j\n",
      "  -1.39179568-1.15874203e-01j -1.75380945+1.31046802e-01j]\n",
      " [-0.45500228-5.61430694e-04j -0.37786084+2.19774082e-01j\n",
      "  -0.75409292-5.34436070e-01j -0.67695148-3.14100557e-01j\n",
      "  -1.14305766+3.11854834e-01j -1.06591622+5.32190347e-01j\n",
      "  -1.4421483 -2.22019804e-01j -1.36500685-1.68429208e-03j]\n",
      " [-0.43851504-8.37148968e-02j -1.03067278-7.18401208e-01j\n",
      "  -0.36137359+1.36620616e-01j -0.95353134-4.98065695e-01j\n",
      "  -0.80052881+1.63206108e-01j -1.39268655-4.71480203e-01j\n",
      "  -0.72338737+3.83541620e-01j -1.31554511-2.51144690e-01j]]\n",
      "\n",
      "T @ Inp.T: \n",
      "\n",
      "[[-0.58460315+4.36822673e-02j -0.94661693+2.90603272e-01j\n",
      "  -1.27265852+3.56098532e-01j -1.6346723 +6.03019537e-01j\n",
      "  -0.7037403 -4.28290468e-01j -1.06575408-1.81369463e-01j\n",
      "  -1.39179568-1.15874203e-01j -1.75380945+1.31046802e-01j]\n",
      " [-0.45500228-5.61430694e-04j -0.37786084+2.19774082e-01j\n",
      "  -0.75409292-5.34436070e-01j -0.67695148-3.14100557e-01j\n",
      "  -1.14305766+3.11854834e-01j -1.06591622+5.32190347e-01j\n",
      "  -1.4421483 -2.22019804e-01j -1.36500685-1.68429208e-03j]\n",
      " [-0.43851504-8.37148968e-02j -1.03067278-7.18401208e-01j\n",
      "  -0.36137359+1.36620616e-01j -0.95353134-4.98065695e-01j\n",
      "  -0.80052881+1.63206108e-01j -1.39268655-4.71480203e-01j\n",
      "  -0.72338737+3.83541620e-01j -1.31554511-2.51144690e-01j]]\n"
     ]
    }
   ],
   "source": [
    "print(f'out: \\n\\n{Out.T}\\n\\nT @ Inp.T: \\n\\n{T @ Inp.T}')"
   ]
  },
  {
   "cell_type": "code",
   "execution_count": 36,
   "id": "96a7a28a",
   "metadata": {},
   "outputs": [
    {
     "data": {
      "text/plain": [
       "True"
      ]
     },
     "execution_count": 36,
     "metadata": {},
     "output_type": "execute_result"
    }
   ],
   "source": [
    "np.allclose(Out.T, T @ Inp.T, atol=1e-18)"
   ]
  }
 ],
 "metadata": {
  "kernelspec": {
   "display_name": "Python 3 (ipykernel)",
   "language": "python",
   "name": "python3"
  },
  "language_info": {
   "codemirror_mode": {
    "name": "ipython",
    "version": 3
   },
   "file_extension": ".py",
   "mimetype": "text/x-python",
   "name": "python",
   "nbconvert_exporter": "python",
   "pygments_lexer": "ipython3",
   "version": "3.7.6"
  }
 },
 "nbformat": 4,
 "nbformat_minor": 5
}
