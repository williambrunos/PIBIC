{
 "cells": [
  {
   "cell_type": "code",
   "execution_count": 44,
   "source": [
    "import numpy as np\r\n",
    "import math\r\n",
    "import scipy.linalg as la"
   ],
   "outputs": [],
   "metadata": {}
  },
  {
   "cell_type": "markdown",
   "source": [
    "# Semana 2 PIBIC"
   ],
   "metadata": {}
  },
  {
   "cell_type": "markdown",
   "source": [
    "## Gerando Tabelas Verdade (Truth Tables)\n",
    "\n",
    "Para a geração de tabelas verdade com n inputs no circuito, com $n \\ge 1$. Esta é uma função recursiva que gera uma tabela verdade em forma de matriz para n inputs arbitrários.\n",
    "\n",
    "Talvez existam formas mais rápidas e menores de fazê-las, mas esta função é mais legível para os usuários e para os parceiros da pesquisa. Modifiquei o nome das variáveis para auxiliar no processo.\n",
    "\n",
    "Além disso, modifiquei-a para que retornasse um numpy array ao invés de um array convencional do python, aumentando a eficiência da função visto que numpy arrays são mais rápidos de se fazer modificações na função e até mesmo posteriores."
   ],
   "metadata": {}
  },
  {
   "cell_type": "code",
   "execution_count": 45,
   "source": [
    "def Tv(NumberOfInputs):\n",
    "    \"\"\"\n",
    "    Retorna uma tabela verdade (TruthTable) dado um circuito com n inputs maiores ou iguais a 1\n",
    "    Checa se a variável NumberOfInputs é inteira. Se sim, continua normalmente, se não lança uma exceção com a mensagem\n",
    "    'Parameter \\'NumberOfInputs\\' must be a integer'\n",
    "\n",
    "    Parâmetros\n",
    "    ------------------------------------------------\n",
    "    :param NumberOfInputs: número de inputs do circuito lógico, deve ser um número inteiro (obrigatoriamente)\n",
    "    \n",
    "    Retorno\n",
    "    ------------------------------------------------\n",
    "    :return: Retorna a tabela verdade como uma lista do Python (caso necessário, transformar o retorno em numpy array)\n",
    "    \"\"\"\n",
    "    \n",
    "    if not isinstance(NumberOfInputs, int):\n",
    "        raise ValueError('Parameter \\'number_of_inputs\\' must be a integer') \n",
    "    if NumberOfInputs < 1:\n",
    "        return [[]]\n",
    "    \n",
    "    SubTable = TruthTableGenerator(NumberOfInputs - 1)\n",
    "    return [row + [v] for row in SubTable for v in [0,1]]"
   ],
   "outputs": [],
   "metadata": {}
  },
  {
   "cell_type": "code",
   "execution_count": 46,
   "source": [
    "Table = np.array(Tv(3))\n",
    "Table"
   ],
   "outputs": [
    {
     "output_type": "execute_result",
     "data": {
      "text/plain": [
       "array([[0, 0, 0],\n",
       "       [0, 0, 1],\n",
       "       [0, 1, 0],\n",
       "       [0, 1, 1],\n",
       "       [1, 0, 0],\n",
       "       [1, 0, 1],\n",
       "       [1, 1, 0],\n",
       "       [1, 1, 1]])"
      ]
     },
     "metadata": {},
     "execution_count": 46
    }
   ],
   "metadata": {}
  },
  {
   "cell_type": "markdown",
   "source": [
    "## Modulação PAM\n",
    "\n",
    "Quando tratamos de tabelas verdade de circuitos eletrônicos, muitas vezes precisamos converter esses sinais em Modulação por Amplitude do Pulso (PAM: Pulse Amplitude Moduling) para realizarmos cálculos ou verificações e depois retornamos a representação do circuito a meneira original, com 0's e 1's.\n",
    "\n",
    "Para isso, convertemos os campos (labels) das tabelas verdades por $1+\\epsilon$ caso o valor no campo seja 1 ou $1-\\epsilon$ caso seja 0. A matriz resultante é chamada de $\\textbf{Imp}$.\n",
    "\n",
    "No exemplo a seguir, utilizaremos a variável table definida no código acima para os testes e o valor $\\epsilon = 5$:"
   ],
   "metadata": {}
  },
  {
   "cell_type": "code",
   "execution_count": 47,
   "source": [
    "def PAM(TruthTable, epsilon):\n",
    "    \"\"\"\n",
    "    Função que retorna uma modulação PAM para uma dada tabela verdade (TruthTable) e certo epsilon real arbitrário.\n",
    "    Não modifica a tabela verdade original, apenas realiza alterações em uma cópia e a retorna no final.\n",
    "    Funciona para qualquer tabela verdade (truth_table) com n inputs (Matriz não precisa ser quadrada)\n",
    "\n",
    "    Parâmetros\n",
    "    ------------------------------------------------\n",
    "    :param TruthTable: tabela verdade a ser analisada e transformada em modulação PAM\n",
    "    :param epsilon: epsilon no qual os valores serão calculados\n",
    "    \n",
    "    Retorno\n",
    "    ------------------------------------------------\n",
    "    :return: retorna um numpy array como matriz da modulação PAM da tabela verdade recebida como parâmetro\n",
    "    \"\"\"\n",
    "    PamTable = TruthTable.copy()\n",
    "    rows, columns = PamTable.shape\n",
    "    for row in range(rows):\n",
    "        for column in range(columns):\n",
    "            if PamTable[row][column] == 1:\n",
    "                PamTable[row][column] = 1 + epsilon\n",
    "            else:\n",
    "                PamTable[row][column] = 1 - epsilon\n",
    "    return PamTable"
   ],
   "outputs": [],
   "metadata": {}
  },
  {
   "cell_type": "code",
   "execution_count": 48,
   "source": [
    "Imp = PAM(Table, 5)\n",
    "print(f'IMP: \\n{Imp}\\n\\nTABELA VERDADE ORIGINAL: \\n{Table}')"
   ],
   "outputs": [
    {
     "output_type": "stream",
     "name": "stdout",
     "text": [
      "IMP: \n",
      "[[-4 -4 -4]\n",
      " [-4 -4  6]\n",
      " [-4  6 -4]\n",
      " [-4  6  6]\n",
      " [ 6 -4 -4]\n",
      " [ 6 -4  6]\n",
      " [ 6  6 -4]\n",
      " [ 6  6  6]]\n",
      "\n",
      "TABELA VERDADE ORIGINAL: \n",
      "[[0 0 0]\n",
      " [0 0 1]\n",
      " [0 1 0]\n",
      " [0 1 1]\n",
      " [1 0 0]\n",
      " [1 0 1]\n",
      " [1 1 0]\n",
      " [1 1 1]]\n"
     ]
    }
   ],
   "metadata": {}
  },
  {
   "cell_type": "markdown",
   "source": [
    "Note que a linha de código dada por: \n",
    "\n",
    "``PAM_table = truth_table.copy()``\n",
    "\n",
    "faz com que a variável PAM_table seja uma cópia da truth_table, não alterando assim a tabela verdade inicial recebdia como parãmetro. Isso é importante pois podemos realizar os cálculos necessários com a variável Imp que guarda o valor de retorno da função sem perder a tabela verdade original (Desfaz a necessidade da função $\\textbf{InvPAM}$)."
   ],
   "metadata": {}
  },
  {
   "cell_type": "markdown",
   "source": [
    "## Geração de Tabelas Verdade Padrões (OR, AND)\n",
    "\n",
    "Para dar continuidade à pesquisa, precisamos de uma função que nos retorne tabelas verdade de operadores lógicos padrões (OR, AND)."
   ],
   "metadata": {}
  },
  {
   "cell_type": "code",
   "execution_count": 49,
   "source": [
    "def OrTruthTableGenerator(TruthTable):\n",
    "    \"\"\"\n",
    "    Retorna uma tabela verdade do circuito lógico OR de acordo com uma tabela verdade (TruthTable). \n",
    "    Checa se a tabela está vazia, se sim a retorna (vazia), se não, realiza os cálculos.\n",
    "    \n",
    "    Parâmetros\n",
    "    ------------------------------------------------\n",
    "    :param TruthTable: tabela verdade a ser analisada\n",
    "    \n",
    "    Retorno\n",
    "    ------------------------------------------------\n",
    "    :return: Retorna a coluna (numpt array) com os valores da tabela verdade OR dos inputs da tabela verdade recebida \n",
    "    como parâmetro\n",
    "    \"\"\"\n",
    "    rows, columns = TruthTable.shape\n",
    "    ResultTable = np.zeros(shape=(rows, 1), dtype=int)\n",
    "    \n",
    "    if TruthTable.size == 0:\n",
    "        return TruthTable\n",
    "    \n",
    "    for row in range(rows):\n",
    "        BooleanRowArray = TruthTable[row][:]\n",
    "        if np.any(BooleanRowArray):\n",
    "            ResultTable[row][0] = 1\n",
    "        \n",
    "    return ResultTable"
   ],
   "outputs": [],
   "metadata": {}
  },
  {
   "cell_type": "code",
   "execution_count": 50,
   "source": [
    "def AndTruthTableGenerator(TruthTable):\n",
    "    \"\"\"\n",
    "    Retorna uma tabela verdade do circuito lógico AND de acordo com uma tabela verdade (TruthTable). \n",
    "    Checa se a tabela está vazia, se sim a retorna (vazia), se não, realiza os cálculos.\n",
    "    \n",
    "    Parâmetros\n",
    "    ------------------------------------------------\n",
    "    :param TruthTable: tabela verdade a ser analisada\n",
    "    \n",
    "    Retorno\n",
    "    ------------------------------------------------\n",
    "    :return: Retorna a coluna (numpy array) com os valores da tabela verdade AND dos inputs da tabela verdade recebida \n",
    "    como parâmetro\n",
    "    \"\"\"\n",
    "    rows, columns = TruthTable.shape\n",
    "    ResultTable = np.zeros(shape=(rows, 1), dtype=int)\n",
    "    \n",
    "    if TruthTable.size == 0:\n",
    "        return TruthTable\n",
    "    \n",
    "    for row in range(rows):\n",
    "        BooleanRowArray = TruthTable[row][:]\n",
    "        if np.all(BooleanRowArray):\n",
    "            ResultTable[row][0] = 1;\n",
    "    \n",
    "    return ResultTable"
   ],
   "outputs": [],
   "metadata": {}
  },
  {
   "cell_type": "code",
   "execution_count": 51,
   "source": [
    "OR = OrTruthTableGenerator(Table)\n",
    "AND = AndTruthTableGenerator(Table)\n",
    "print(f'OR TRUTH TABLE: \\n{OR} \\n\\nAND TRUTH TABLE: \\n{AND}')"
   ],
   "outputs": [
    {
     "output_type": "stream",
     "name": "stdout",
     "text": [
      "OR TRUTH TABLE: \n",
      "[[0]\n",
      " [1]\n",
      " [1]\n",
      " [1]\n",
      " [1]\n",
      " [1]\n",
      " [1]\n",
      " [1]] \n",
      "\n",
      "AND TRUTH TABLE: \n",
      "[[0]\n",
      " [0]\n",
      " [0]\n",
      " [0]\n",
      " [0]\n",
      " [0]\n",
      " [0]\n",
      " [1]]\n"
     ]
    }
   ],
   "metadata": {}
  },
  {
   "cell_type": "markdown",
   "source": [
    "Perceba que os exemplos utilizados para os cálculos das funções são feitos utilizando tabelas verdade de 3 inputs. No entanto, como já documentado, essas funções aceitam tabelas verdade de n inputs, sendo n um número natural."
   ],
   "metadata": {}
  },
  {
   "cell_type": "markdown",
   "source": [
    "## Código de Teste\n",
    "\n",
    "Os códigos abaixo realizam testes com as funções abordadas, seguindo o modelo (exemplo para o arranjo triangular):\n",
    "\n",
    "$A = ArranjoT rinagular(α, β, γ) \\newline T = MatrizTransferencia(A) \\newline Inp = PAM(TV(3)) \\newline Out = T Inp^{T} \\newline Out = Out^{T} \\newline OutPAM = PAM(OR)$"
   ],
   "metadata": {}
  },
  {
   "cell_type": "code",
   "execution_count": 52,
   "source": [
    "def ArranjoTriangular(alpha, beta, gama):\n",
    "    A = np.array([[0, complex(0, gama), complex(0, beta)], \n",
    "                  [complex(0, gama), 0, complex(0, alpha)], \n",
    "                  [complex(0, beta), complex(0, alpha), 0]])\n",
    "    return A"
   ],
   "outputs": [],
   "metadata": {}
  },
  {
   "cell_type": "code",
   "execution_count": 53,
   "source": [
    "def MatrizTransferenciaTriangular(A):\n",
    "    \"\"\"\n",
    "    Retorna a matriz de transferência triangular T a partir de uma matriz de arranjo triangular A a partir dos passos já citados\n",
    "    Erro percentual de 10^(-14) a 10^(-16), ínfimo.\n",
    "    \n",
    "    Parâmetros\n",
    "    --------------------------------------\n",
    "    :param A: matriz de Arranjo Triangular como numpy array\n",
    "    \n",
    "    Retorno\n",
    "    \n",
    "    :return:  matriz numpy array de transferência triangular T calculada com erro ínfimo.\n",
    "    \"\"\"\n",
    "    eigvals, eigvecs = la.eig(A)\n",
    "    D = np.array([[eigvals[0], 0, 0], \n",
    "                  [0, eigvals[1], 0], \n",
    "                  [0, 0, eigvals[2]]])\n",
    "    P = eigvecs.copy()\n",
    "    E = np.array([[np.exp(eigvals[0]), 0, 0], \n",
    "                  [0, np.exp(eigvals[1]), 0], \n",
    "                  [0, 0, np.exp(eigvals[2])]])\n",
    "    \n",
    "    if np.allclose(A, P @ D @ la.inv(P), atol=1e-17):\n",
    "        raise ValueError(f'Parameter Matrix A has not property A == PDP^(-1) for a tolerance of {1e-17}')\n",
    "    \n",
    "    # T é a matriz de transferência\n",
    "    T = P @ E @ la.inv(P)\n",
    "    \n",
    "    return T"
   ],
   "outputs": [],
   "metadata": {}
  },
  {
   "cell_type": "code",
   "execution_count": 54,
   "source": [
    "A = ArranjoTriangular(1, 2, 3)\n",
    "T = MatrizTransferenciaTriangular(A)\n",
    "Inp = PAM(np.array(Tv(3)), 5)\n",
    "Out = T @ np.transpose(Inp)\n",
    "Out = np.transpose(Out)\n",
    "OutPAM = PAM(OR, 5)"
   ],
   "outputs": [],
   "metadata": {}
  },
  {
   "cell_type": "code",
   "execution_count": 55,
   "source": [
    "print(f'A: \\n{A}\\n\\nT: \\n{T}\\n\\nInp: \\n{Inp}\\n\\nOut: \\n{Out}\\n\\nOutPAM: \\n{OutPAM}')"
   ],
   "outputs": [
    {
     "output_type": "stream",
     "name": "stdout",
     "text": [
      "A: \n",
      "[[0.+0.j 0.+3.j 0.+2.j]\n",
      " [0.+3.j 0.+0.j 0.+1.j]\n",
      " [0.+2.j 0.+1.j 0.+0.j]]\n",
      "\n",
      "T: \n",
      "[[-0.78640394-0.33599426j  0.27205028-0.3998916j  -0.03223645-0.18361063j]\n",
      " [ 0.27205028-0.3998916j  -0.40191798-0.48536506j -0.59284716+0.13225087j]\n",
      " [-0.03223645-0.18361063j -0.59284716+0.13225087j  0.23889194-0.73431637j]]\n",
      "\n",
      "Inp: \n",
      "[[-4 -4 -4]\n",
      " [-4 -4  6]\n",
      " [-4  6 -4]\n",
      " [-4  6  6]\n",
      " [ 6 -4 -4]\n",
      " [ 6 -4  6]\n",
      " [ 6  6 -4]\n",
      " [ 6  6  6]]\n",
      "\n",
      "Out: \n",
      "[[ 2.18636044+3.67798595j  2.89085945+3.01202312j  1.54476669+3.1427045j ]\n",
      " [ 1.8639959 +1.84187969j -3.03761217+4.33453186j  3.93368613-4.20045924j]\n",
      " [ 4.90686327-0.32093003j -1.12832038-1.84162744j -4.38370493+4.46521324j]\n",
      " [ 4.58449873-2.15703629j -7.056792  -0.5191187j  -1.99478549-2.8779505j ]\n",
      " [-5.67767896+0.31804331j  5.61136228-0.98689286j  1.22240215+1.30659825j]\n",
      " [-6.00004349-1.51806295j -0.31710934+0.33561588j  3.61132159-6.03656549j]\n",
      " [-2.95717613-3.68087267j  1.59218245-5.84054342j -4.70606947+2.62910698j]\n",
      " [-3.27954066-5.51697893j -4.33628917-4.51803468j -2.31715003-4.71405676j]]\n",
      "\n",
      "OutPAM: \n",
      "[[-4]\n",
      " [ 6]\n",
      " [ 6]\n",
      " [ 6]\n",
      " [ 6]\n",
      " [ 6]\n",
      " [ 6]\n",
      " [ 6]]\n"
     ]
    }
   ],
   "metadata": {}
  }
 ],
 "metadata": {
  "kernelspec": {
   "display_name": "Python 3",
   "language": "python",
   "name": "python3"
  },
  "language_info": {
   "codemirror_mode": {
    "name": "ipython",
    "version": 3
   },
   "file_extension": ".py",
   "mimetype": "text/x-python",
   "name": "python",
   "nbconvert_exporter": "python",
   "pygments_lexer": "ipython3",
   "version": "3.8.8"
  }
 },
 "nbformat": 4,
 "nbformat_minor": 5
}