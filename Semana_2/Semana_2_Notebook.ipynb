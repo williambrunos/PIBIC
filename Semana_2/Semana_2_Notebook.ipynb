{
 "cells": [
  {
   "cell_type": "code",
   "execution_count": 12,
   "id": "6fd3e4ce",
   "metadata": {},
   "outputs": [],
   "source": [
    "import numpy as np\n",
    "import math\n",
    "import scipy.linalg as la"
   ]
  },
  {
   "cell_type": "markdown",
   "id": "227c8d37",
   "metadata": {},
   "source": [
    "# Semana 2 PIBIC"
   ]
  },
  {
   "cell_type": "markdown",
   "id": "012fbb15",
   "metadata": {},
   "source": [
    "## Gerando Tabelas Verdade (Truth Tables)\n",
    "\n",
    "Para a geração de tabelas verdade com n inputs no circuito, com $n \\ge 1$. Esta é uma função recursiva que gera uma tabela verdade em forma de matriz para n inputs arbitrários.\n",
    "\n",
    "Talvez existam formas mais rápidas e menores de fazê-las, mas esta função é mais legível para os usuários e para os parceiros da pesquisa. Modifiquei o nome das variáveis para auxiliar no processo.\n",
    "\n",
    "Além disso, modifiquei-a para que retornasse um numpy array ao invés de um array convencional do python, aumentando a eficiência da função visto que numpy arrays são mais rápidos de se fazer modificações na função e até mesmo posteriores."
   ]
  },
  {
   "cell_type": "code",
   "execution_count": 13,
   "id": "79d1e298",
   "metadata": {},
   "outputs": [],
   "source": [
    "\"\"\"\n",
    "DOCUMENTAÇÃO DA FUNÇÃO:\n",
    "\n",
    "Retorna uma tabela verdade (truth_table) dado um circuito com n inputs maiores ou iguais a 1\n",
    "Checa se a variável number_of_inputs é inteira. Se sim, continua normalmente, se não lança uma exceção com a mensagem\n",
    "'Parameter \\'number_of_inputs\\' must be a integer'\n",
    "\n",
    ":number_of_inputs: número de entradas do circuito. Ditarão a quantidade de colunas da tabela verdade\n",
    "\"\"\"\n",
    "\n",
    "def TruthTable(NumberOfInputs):\n",
    "    if not isinstance(NumberOfInputs, int):\n",
    "        raise ValueError('Parameter \\'number_of_inputs\\' must be a integer') \n",
    "    if NumberOfInputs < 1:\n",
    "        return [[]]\n",
    "    \n",
    "    SubTable = TruthTable(NumberOfInputs - 1)\n",
    "    return [row + [v] for row in SubTable for v in [0,1]]"
   ]
  },
  {
   "cell_type": "code",
   "execution_count": 14,
   "id": "2c59c80a",
   "metadata": {},
   "outputs": [
    {
     "data": {
      "text/plain": [
       "array([[0, 0, 0],\n",
       "       [0, 0, 1],\n",
       "       [0, 1, 0],\n",
       "       [0, 1, 1],\n",
       "       [1, 0, 0],\n",
       "       [1, 0, 1],\n",
       "       [1, 1, 0],\n",
       "       [1, 1, 1]])"
      ]
     },
     "execution_count": 14,
     "metadata": {},
     "output_type": "execute_result"
    }
   ],
   "source": [
    "table = np.array(TruthTable(3))\n",
    "table"
   ]
  },
  {
   "cell_type": "markdown",
   "id": "14c6c54f",
   "metadata": {},
   "source": [
    "## Modulação PAM\n",
    "\n",
    "Quando tratamos de tabelas verdade de circuitos eletrônicos, muitas vezes precisamos converter esses sinais em Modulação por Amplitude do Pulso (PAM: Pulse Amplitude Moduling) para realizarmos cálculos ou verificações e depois retornamos a representação do circuito a meneira original, com 0's e 1's.\n",
    "\n",
    "Para isso, convertemos os campos (labels) das tabelas verdades por $1+\\epsilon$ caso o valor no campo seja 1 ou $1-\\epsilon$ caso seja 0. A matriz resultante é chamada de $\\textbf{Imp}$.\n",
    "\n",
    "No exemplo a seguir, utilizaremos a variável table definida no código acima para os testes e o valor $\\epsilon = 5$:"
   ]
  },
  {
   "cell_type": "code",
   "execution_count": 23,
   "id": "65f3920f",
   "metadata": {},
   "outputs": [],
   "source": [
    "\"\"\"\n",
    "DOCUMENTAÇÃO DA FUNÇÃO:\n",
    "\n",
    "Função que retorna uma modulação PAM para uma dada tabela verdade e certo epsilon real arbitrário\n",
    "Não modifica a função original, realiza alterações em uma cópia e a retorna no final\n",
    "Functiona para qualquer tabela verdade (truth_table) com n inputs\n",
    "\n",
    ":truth_table: tabela verdade a ser analisada\n",
    ":epsilon: epsilon no qual os valore serão calculados\n",
    "\"\"\"\n",
    "\n",
    "def PAM(Truthtable, epsilon):\n",
    "    PamTable = np.array(Truthtable.copy())\n",
    "    rows, columns = PamTable.shape\n",
    "    for row in range(rows):\n",
    "        for column in range(columns):\n",
    "            if PamTable[row][column] == 1:\n",
    "                PamTable[row][column] = 1 + epsilon\n",
    "            else:\n",
    "                PamTable[row][column] = 1 - epsilon\n",
    "    return PamTable"
   ]
  },
  {
   "cell_type": "code",
   "execution_count": 24,
   "id": "b728352f",
   "metadata": {},
   "outputs": [
    {
     "name": "stdout",
     "output_type": "stream",
     "text": [
      "IMP: \n",
      "[[-4 -4 -4]\n",
      " [-4 -4  6]\n",
      " [-4  6 -4]\n",
      " [-4  6  6]\n",
      " [ 6 -4 -4]\n",
      " [ 6 -4  6]\n",
      " [ 6  6 -4]\n",
      " [ 6  6  6]]\n",
      "\n",
      "TABELA VERDADE ORIGINAL: \n",
      "[[0 0 0]\n",
      " [0 0 1]\n",
      " [0 1 0]\n",
      " [0 1 1]\n",
      " [1 0 0]\n",
      " [1 0 1]\n",
      " [1 1 0]\n",
      " [1 1 1]]\n"
     ]
    }
   ],
   "source": [
    "Imp = PAM(table, 5)\n",
    "print(f'IMP: \\n{Imp}\\n\\nTABELA VERDADE ORIGINAL: \\n{table}')"
   ]
  },
  {
   "cell_type": "markdown",
   "id": "fbab4a65",
   "metadata": {},
   "source": [
    "Note que a linha de código dada por: \n",
    "\n",
    "``PAM_table = truth_table.copy()``\n",
    "\n",
    "faz com que a variável PAM_table seja uma cópia da truth_table, não alterando assim a tabela verdade inicial recebdia como parãmetro. Isso é importante pois podemos realizar os cálculos necessários com a variável Imp que guarda o valor de retorno da função sem perder a tabela verdade original (Desfaz a necessidade da função $\\textbf{InvPAM}$)."
   ]
  },
  {
   "cell_type": "markdown",
   "id": "51993db0",
   "metadata": {},
   "source": [
    "## Geração de Tabelas Verdade Padrões (OR, AND)\n",
    "\n",
    "Para dar continuidade à pesquisa, precisamos de uma função que nos retorne tabelas verdade de operadores lógicos padrões (OR, AND etc...)."
   ]
  },
  {
   "cell_type": "code",
   "execution_count": 25,
   "id": "24feee9d",
   "metadata": {},
   "outputs": [],
   "source": [
    "\"\"\"\n",
    "DOCUMENTAÇÃO DA FUNÇÃO:\n",
    "\n",
    "Retorna uma tabela verdade do circuito lógico OR ou AND de acordo com uma tabela verdade (truth_table) e quantidade\n",
    "de inputs (number_of_inputs). Checa se a tabela está vazia, se sim a retorna (vazia), se não realiza os cálculos.\n",
    "\n",
    "params: truth_table, number_of_inputs, boolean_expression (OR, AND)\n",
    "\"\"\"\n",
    "\n",
    "def OrAndTruthTableGenerator(TruthTable, BooleanOperator):\n",
    "    rows, columns = TruthTable.shape\n",
    "    BooleanOperator = BooleanOperator.lower()\n",
    "    ResultTable = np.zeros(shape=(rows, 1), dtype=int)\n",
    "    \n",
    "    if TruthTable.size == 0:\n",
    "        return TruthTable\n",
    "    \n",
    "    if BooleanOperator == 'or':\n",
    "        for row in range(rows):\n",
    "            BooleanRowArray = TruthTable[row][:]\n",
    "            if np.any(BooleanRowArray):\n",
    "                ResultTable[row][0] = 1\n",
    "    elif BooleanOperator == 'and':\n",
    "        for row in range(rows):\n",
    "            BooleanRowArray = TruthTable[row][:]\n",
    "            if np.all(BooleanRowArray):\n",
    "                ResultTable[row][0] = 1;\n",
    "    else:\n",
    "        raise ValueError('Parameter boolean_expression must be \\'or\\' or \\'and\\'')\n",
    "        \n",
    "    return ResultTable"
   ]
  },
  {
   "cell_type": "code",
   "execution_count": 26,
   "id": "53cd8d58",
   "metadata": {},
   "outputs": [
    {
     "name": "stdout",
     "output_type": "stream",
     "text": [
      "OR TRUTH TABLE: \n",
      "[[0]\n",
      " [1]\n",
      " [1]\n",
      " [1]\n",
      " [1]\n",
      " [1]\n",
      " [1]\n",
      " [1]] \n",
      "\n",
      "AND TRUTH TABLE: \n",
      "[[0]\n",
      " [0]\n",
      " [0]\n",
      " [0]\n",
      " [0]\n",
      " [0]\n",
      " [0]\n",
      " [1]]\n"
     ]
    }
   ],
   "source": [
    "OR = OrAndTruthTableGenerator(table, 'or')\n",
    "AND = OrAndTruthTableGenerator(table, 'and')\n",
    "print(f'OR TRUTH TABLE: \\n{OR} \\n\\nAND TRUTH TABLE: \\n{AND}')"
   ]
  },
  {
   "cell_type": "markdown",
   "id": "de56f561",
   "metadata": {},
   "source": [
    "Perceba que os exemplos utilizados para os cálculos das funções são feitos utilizando tabelas verdade de 3 inputs. No entanto, como já documentado, essas funções aceitam tabelas verdade de n inputs, sendo n um número natural."
   ]
  },
  {
   "cell_type": "markdown",
   "id": "36f5399d",
   "metadata": {},
   "source": [
    "## Código de Teste\n",
    "\n",
    "Os códigos abaixo realizam testes com as funções abordadas, seguindo o modelo (exemplo para o arranjo triangular):\n",
    "\n",
    "$A = ArranjoT rinagular(α, β, γ) \\newline T = MatrizTransferencia(A) \\newline Inp = PAM(TV(3)) \\newline Out = T Inp^{T} \\newline Out = Out^{T} \\newline OutPAM = PAM(OR)$"
   ]
  },
  {
   "cell_type": "code",
   "execution_count": 19,
   "id": "7f27a280",
   "metadata": {},
   "outputs": [],
   "source": [
    "def ArranjoTriangular(alpha, beta, gama):\n",
    "    A = np.array([[0, complex(0, gama), complex(0, beta)], \n",
    "                  [complex(0, gama), 0, complex(0, alpha)], \n",
    "                  [complex(0, beta), complex(0, alpha), 0]])\n",
    "    return A"
   ]
  },
  {
   "cell_type": "code",
   "execution_count": 27,
   "id": "f4e9fa0d",
   "metadata": {},
   "outputs": [],
   "source": [
    "def MatrizTransferenciaTriangular(A):\n",
    "    eigvals, eigvecs = la.eig(A)\n",
    "    D = np.array([[eigvals[0], 0, 0], \n",
    "                  [0, eigvals[1], 0], \n",
    "                  [0, 0, eigvals[2]]])\n",
    "    P = eigvecs.copy()\n",
    "    E = math.e**D\n",
    "    \n",
    "    # T é a matriz de transferência\n",
    "    T = P @ E @ la.inv(P)\n",
    "    \n",
    "    return T"
   ]
  },
  {
   "cell_type": "code",
   "execution_count": 33,
   "id": "b6946c6b",
   "metadata": {},
   "outputs": [],
   "source": [
    "A = ArranjoTriangular(1, 2, 3)\n",
    "T = MatrizTransferenciaTriangular(A)\n",
    "Inp = PAM(TruthTable(3), 5)\n",
    "Out = T @ np.transpose(Inp)\n",
    "Out = np.transpose(Out)\n",
    "OutPAM = PAM(OR, 5)"
   ]
  },
  {
   "cell_type": "code",
   "execution_count": 36,
   "id": "9823729b",
   "metadata": {},
   "outputs": [
    {
     "name": "stdout",
     "output_type": "stream",
     "text": [
      "A: \n",
      "[[0.+0.j 0.+3.j 0.+2.j]\n",
      " [0.+3.j 0.+0.j 0.+1.j]\n",
      " [0.+2.j 0.+1.j 0.+0.j]]\n",
      "\n",
      "T: \n",
      "[[-0.14870738-0.33599426j -0.4225552 -0.3998916j   1.29009591-0.18361063j]\n",
      " [-0.4225552 -0.3998916j  -1.10731104-0.48536506j -1.15369545+0.13225087j]\n",
      " [ 1.29009591-0.18361063j -1.15369545+0.13225087j  0.30658844-0.73431637j]]\n",
      "\n",
      "Inp: \n",
      "[[-4 -4 -4]\n",
      " [-4 -4  6]\n",
      " [-4  6 -4]\n",
      " [-4  6  6]\n",
      " [ 6 -4 -4]\n",
      " [ 6 -4  6]\n",
      " [ 6  6 -4]\n",
      " [ 6  6  6]]\n",
      "\n",
      "Out: \n",
      "[[ -2.87533333+3.67798595j  10.73424675+3.01202312j\n",
      "   -1.77195563+3.1427045j ]\n",
      " [ 10.02562579+1.84187969j  -0.80270773+4.33453186j\n",
      "    1.29392882-4.20045924j]\n",
      " [ -7.10088531-0.32093003j  -0.33886366-1.84162744j\n",
      "  -13.30891011+4.46521324j]\n",
      " [  5.80007381-2.15703629j -11.87581815-0.5191187j\n",
      "  -10.24302567-2.8779505j ]\n",
      " [ -4.36240714+0.31804331j   6.50869477-0.98689286j\n",
      "   11.12900348+1.30659825j]\n",
      " [  8.53855197-1.51806295j  -5.02825971+0.33561588j\n",
      "   14.19488793-6.03656549j]\n",
      " [ -8.58795912-3.68087267j  -4.56441564-5.84054342j\n",
      "   -0.407951  +2.62910698j]\n",
      " [  4.31299999-5.51697893j -16.10137013-4.51803468j\n",
      "    2.65793344-4.71405676j]]\n",
      "\n",
      "OutPAM: \n",
      "[[-4]\n",
      " [ 6]\n",
      " [ 6]\n",
      " [ 6]\n",
      " [ 6]\n",
      " [ 6]\n",
      " [ 6]\n",
      " [ 6]]\n"
     ]
    }
   ],
   "source": [
    "print(f'A: \\n{A}\\n\\nT: \\n{T}\\n\\nInp: \\n{Inp}\\n\\nOut: \\n{Out}\\n\\nOutPAM: \\n{OutPAM}')"
   ]
  }
 ],
 "metadata": {
  "kernelspec": {
   "display_name": "Python 3",
   "language": "python",
   "name": "python3"
  },
  "language_info": {
   "codemirror_mode": {
    "name": "ipython",
    "version": 3
   },
   "file_extension": ".py",
   "mimetype": "text/x-python",
   "name": "python",
   "nbconvert_exporter": "python",
   "pygments_lexer": "ipython3",
   "version": "3.8.8"
  }
 },
 "nbformat": 4,
 "nbformat_minor": 5
}
