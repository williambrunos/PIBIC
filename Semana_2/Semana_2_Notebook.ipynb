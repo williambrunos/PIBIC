{
 "cells": [
  {
   "cell_type": "code",
   "execution_count": 12,
   "id": "6fd3e4ce",
   "metadata": {},
   "outputs": [],
   "source": [
    "import numpy as np"
   ]
  },
  {
   "cell_type": "markdown",
   "id": "227c8d37",
   "metadata": {},
   "source": [
    "# Semana 2 PIBIC"
   ]
  },
  {
   "cell_type": "markdown",
   "id": "012fbb15",
   "metadata": {},
   "source": [
    "## Gerando Tabelas Verdade (Truth Tables)\n",
    "\n",
    "Para a geração de tabelas verdade com n inputs no circuito, com $n \\ge 1$. Esta é uma função recursiva que gera uma tabela verdade em forma de matriz para n inputs arbitrários.\n",
    "\n",
    "Talvez existam formas mais rápidas e menores de fazê-las, mas esta função é mais legível para os usuários e para os parceiros da pesquisa. Modifiquei o nome das variáveis para auxiliar no processo.\n",
    "\n",
    "Além disso, modifiquei-a para que retornasse um numpy array ao invés de um array convencional do python, aumentando a eficiência da função visto que numpy arrays são mais rápidos de se fazer modificações na função e até mesmo posteriores."
   ]
  },
  {
   "cell_type": "code",
   "execution_count": 35,
   "id": "79d1e298",
   "metadata": {},
   "outputs": [],
   "source": [
    "\"\"\"\n",
    "DOCUMENTAÇÃO DA FUNÇÃO:\n",
    "\n",
    "Retorna uma tabela verdade (truth_table) dado um circuito com n inputs maiores ou iguais a 1\n",
    "Checa se a variável number_of_inputs é inteira. Se sim, continua normalmente, se não lança uma exceção com a mensagem\n",
    "'Parameter \\'number_of_inputs\\' must be a integer'\n",
    "\n",
    ":number_of_inputs: número de entradas do circuito. Ditarão a quantidade de colunas da tabela verdade\n",
    "\"\"\"\n",
    "\n",
    "def truth_table(number_of_inputs):\n",
    "    if not isinstance(number_of_inputs, int):\n",
    "        raise ValueError('Parameter \\'number_of_inputs\\' must be a integer') \n",
    "    if number_of_inputs < 1:\n",
    "        return [[]]\n",
    "    \n",
    " \n",
    "    subtable = truth_table(number_of_inputs - 1)\n",
    "    return [row + [v] for row in subtable for v in [0,1]]"
   ]
  },
  {
   "cell_type": "code",
   "execution_count": 39,
   "id": "2c59c80a",
   "metadata": {},
   "outputs": [
    {
     "data": {
      "text/plain": [
       "array([[0, 0, 0],\n",
       "       [0, 0, 1],\n",
       "       [0, 1, 0],\n",
       "       [0, 1, 1],\n",
       "       [1, 0, 0],\n",
       "       [1, 0, 1],\n",
       "       [1, 1, 0],\n",
       "       [1, 1, 1]])"
      ]
     },
     "execution_count": 39,
     "metadata": {},
     "output_type": "execute_result"
    }
   ],
   "source": [
    "table = np.array(truth_table(3))\n",
    "table"
   ]
  },
  {
   "cell_type": "markdown",
   "id": "14c6c54f",
   "metadata": {},
   "source": [
    "## Modulação PAM\n",
    "\n",
    "Quando tratamos de tabelas verdade de circuitos eletrônicos, muitas vezes precisamos converter esses sinais em Modulação por Amplitude do Pulso (PAM: Pulse Amplitude Moduling) para realizarmos cálculos ou verificações e depois retornamos a representação do circuito a meneira original, com 0's e 1's.\n",
    "\n",
    "Para isso, convertemos os campos (labels) das tabelas verdades por $1+\\epsilon$ caso o valor no campo seja 1 ou $1-\\epsilon$ caso seja 0. A matriz resultante é chamada de $\\textbf{Imp}$.\n",
    "\n",
    "No exemplo a seguir, utilizaremos a variável table definida no código acima para os testes e o valor $\\epsilon = 5$:"
   ]
  },
  {
   "cell_type": "code",
   "execution_count": 40,
   "id": "65f3920f",
   "metadata": {},
   "outputs": [],
   "source": [
    "\"\"\"\n",
    "DOCUMENTAÇÃO DA FUNÇÃO:\n",
    "\n",
    "Função que retorna uma modulação PAM para uma dada tabela verdade e certo epsilon real arbitrário\n",
    "Não modifica a função original, realiza alterações em uma cópia e a retorna no final\n",
    "Functiona para qualquer tabela verdade (truth_table) com n inputs\n",
    "\n",
    ":truth_table: tabela verdade a ser analisada\n",
    ":epsilon: epsilon no qual os valore serão calculados\n",
    "\"\"\"\n",
    "\n",
    "def PAM(truth_table, epsilon):\n",
    "    PAM_table = truth_table.copy()\n",
    "    rows, columns = PAM_table.shape\n",
    "    for row in range(rows):\n",
    "        for column in range(columns):\n",
    "            if PAM_table[row][column] == 1:\n",
    "                PAM_table[row][column] = 1 + epsilon\n",
    "            else:\n",
    "                PAM_table[row][column] = 1 - epsilon\n",
    "    return PAM_table"
   ]
  },
  {
   "cell_type": "code",
   "execution_count": 41,
   "id": "b728352f",
   "metadata": {},
   "outputs": [
    {
     "name": "stdout",
     "output_type": "stream",
     "text": [
      "IMP: \n",
      "[[-4 -4 -4]\n",
      " [-4 -4  6]\n",
      " [-4  6 -4]\n",
      " [-4  6  6]\n",
      " [ 6 -4 -4]\n",
      " [ 6 -4  6]\n",
      " [ 6  6 -4]\n",
      " [ 6  6  6]]\n",
      "\n",
      "TABELA VERDADE ORIGINAL: \n",
      "[[0 0 0]\n",
      " [0 0 1]\n",
      " [0 1 0]\n",
      " [0 1 1]\n",
      " [1 0 0]\n",
      " [1 0 1]\n",
      " [1 1 0]\n",
      " [1 1 1]]\n"
     ]
    }
   ],
   "source": [
    "Imp = PAM(table, 5)\n",
    "print(f'IMP: \\n{Imp}\\n\\nTABELA VERDADE ORIGINAL: \\n{table}')"
   ]
  },
  {
   "cell_type": "markdown",
   "id": "fbab4a65",
   "metadata": {},
   "source": [
    "Note que a linha de código dada por: \n",
    "\n",
    "``PAM_table = truth_table.copy()``\n",
    "\n",
    "faz com que a variável PAM_table seja uma cópia da truth_table, não alterando assim a tabela verdade inicial recebdia como parãmetro. Isso é importante pois podemos realizar os cálculos necessários com a variável Imp que guarda o valor de retorno da função sem perder a tabela verdade original (Desfaz a necessidade da função $\\textbf{InvPAM}$)."
   ]
  },
  {
   "cell_type": "markdown",
   "id": "51993db0",
   "metadata": {},
   "source": [
    "## Geração de Tabelas Verdade Padrões (OR, AND)\n",
    "\n",
    "Para dar continuidade à pesquisa, precisamos de uma função que nos retorne tabelas verdade de operadores lógicos padrões (OR, AND etc...)."
   ]
  },
  {
   "cell_type": "code",
   "execution_count": 42,
   "id": "24feee9d",
   "metadata": {},
   "outputs": [],
   "source": [
    "\"\"\"\n",
    "DOCUMENTAÇÃO DA FUNÇÃO:\n",
    "\n",
    "Retorna uma tabela verdade do circuito lógico OR ou AND de acordo com uma tabela verdade (truth_table) e quantidade\n",
    "de inputs (number_of_inputs). Checa se a tabela está vazia, se sim a retorna (vazia), se não realiza os cálculos.\n",
    "\n",
    "params: truth_table, number_of_inputs, boolean_expression (OR, AND)\n",
    "\"\"\"\n",
    "\n",
    "def or_and_truth_table_generator(truth_table, number_of_inputs, boolean_expression):\n",
    "    rows, columns = truth_table.shape\n",
    "    boolean_expression = boolean_expression.lower()\n",
    "    result_table = np.zeros(shape=(rows, 1), dtype=int)\n",
    "    \n",
    "    if truth_table.size == 0:\n",
    "        return truth_table\n",
    "    \n",
    "    if boolean_expression == 'or':\n",
    "        for row in range(rows):\n",
    "            boolean_row_array = truth_table[row][:]\n",
    "            if np.any(boolean_row_array):\n",
    "                result_table[row][0] = 1\n",
    "    elif boolean_expression == 'and':\n",
    "        for row in range(rows):\n",
    "            boolean_row_array = truth_table[row][:]\n",
    "            if np.all(boolean_row_array):\n",
    "                result_table[row][0] = 1;\n",
    "    else:\n",
    "        raise ValueError('Parameter boolean_expression must be \\'or\\' or \\'and\\'')\n",
    "        \n",
    "    return result_table"
   ]
  },
  {
   "cell_type": "code",
   "execution_count": 43,
   "id": "53cd8d58",
   "metadata": {},
   "outputs": [
    {
     "name": "stdout",
     "output_type": "stream",
     "text": [
      "OR TRUTH TABLE: \n",
      "[[0]\n",
      " [1]\n",
      " [1]\n",
      " [1]\n",
      " [1]\n",
      " [1]\n",
      " [1]\n",
      " [1]] \n",
      "\n",
      "AND TRUTH TABLE: \n",
      "[[0]\n",
      " [0]\n",
      " [0]\n",
      " [0]\n",
      " [0]\n",
      " [0]\n",
      " [0]\n",
      " [1]]\n"
     ]
    }
   ],
   "source": [
    "OR = or_and_truth_table_generator(table, 3, 'or')\n",
    "AND = or_and_truth_table_generator(table, 3, 'and')\n",
    "print(f'OR TRUTH TABLE: \\n{OR} \\n\\nAND TRUTH TABLE: \\n{AND}')"
   ]
  },
  {
   "cell_type": "markdown",
   "id": "de56f561",
   "metadata": {},
   "source": [
    "Perceba que os exemplos utilizados para os cálculos das funções são feitos utilizando tabelas verdade de 3 inputs. No entanto, como já documentado, essas funções aceitam tabelas verdade de n inputs, sendo n um número natural."
   ]
  }
 ],
 "metadata": {
  "kernelspec": {
   "display_name": "Python 3",
   "language": "python",
   "name": "python3"
  },
  "language_info": {
   "codemirror_mode": {
    "name": "ipython",
    "version": 3
   },
   "file_extension": ".py",
   "mimetype": "text/x-python",
   "name": "python",
   "nbconvert_exporter": "python",
   "pygments_lexer": "ipython3",
   "version": "3.8.8"
  }
 },
 "nbformat": 4,
 "nbformat_minor": 5
}
