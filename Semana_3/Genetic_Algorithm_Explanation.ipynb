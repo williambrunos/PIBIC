{
 "cells": [
  {
   "cell_type": "code",
   "execution_count": 1,
   "id": "c73a74f9",
   "metadata": {},
   "outputs": [],
   "source": [
    "import numpy as np\n",
    "import math\n",
    "import matplotlib.pyplot as plt\n",
    "import scipy.linalg as la\n",
    "import itertools"
   ]
  },
  {
   "cell_type": "markdown",
   "id": "3670bfaf",
   "metadata": {},
   "source": [
    "# Algoritmos Genéticos\n",
    "\n",
    "Algoritmos genéticos são classes de heurísticas que servem para resolver problemas computacionais aparentemente sem solução ou com tempo de resolução de complexidade exponencial, as vezes o tempo de resolução pode durar até bilhões de anos. Esses algoritmos se utilizam de técnicas baseadas na metáfora da evolução genética por seleção natural proposta por Charles Darwin.\n",
    "\n",
    "Assim, temos um algoritmo que possui uma certa **população inicial** de indivíduos, inicializada de forma totalmente aleatória (estocástica ou probabilística) cada **indivíduo** possui um **cromossomo** que nada mais é do que uma **sequência de genes** em uma **bit string**. Esses genes são os **parâmetros**, que consitutem o fenótipo, a serem analisados do problema convertidos em bit string. A cada iteração, serão realizados sobre a população algumas operações evolutivas:\n",
    "\n",
    "- Seleção\n",
    "- Reprodução (Crossing Over e recombinação genética)\n",
    "- Mutação\n",
    "\n",
    "A **seleção** se faz com uma **função de aptidão**, na qual realiza cálculos e rotula quais são os indivíduos da população mais bem adaptados. Assim, a qualidade de um indivíduo é calculada de acordo com a sua adaptação ao meio, feita pela função de aptidão.\n",
    "\n",
    "Após a seleção e rotulação dos indivíduos mais bem adaptados ao meio, chegamos à fase de reprodução. Nessa fase, totalmente estocástica, faremos a troca dos bits (genes) dos individuos mais bem adaptados ao meio, aumentando a variabilidade genética da população e fazendo com que indivíduos mais bem adaptados que seus pais surjam nas próximas iterações. Os indivíduos menos adaptados não devem ser descartados, pois assim reduziríamos a variabilidade genética da população e provavelmente o algoritmo iria convergir em um máximo local e não global da função de aptidão.\n",
    "\n",
    "A **mutação** deve ocorrer com uma probabilidade bem baixa, mudando apenas um bit de um dos indivíduos na reprodução. Esse processo aumenta a taxa de convergência se for feito com probabilidade baixa de ocorrência, impedindo que a população fique estagnada em um máximo local da função de aptidão. No entanto, se for feita muito constantemente, pode aumentar e muito o tempo de convergência do algoritmo ou até mesmo não convergir."
   ]
  },
  {
   "cell_type": "markdown",
   "id": "379126fe",
   "metadata": {},
   "source": [
    "## Busca Genética por Circuitos Lógicos\n",
    "\n",
    "O vetor **OutPAM** precisa ser comparado à matriz **Out**. O OutPAM tem a\n",
    "saída que nós queremos, o vetor OR. Ele é um vetor coluna. Por outro lado, a\n",
    "matriz Out tem 3 vetores colunas, e em uma dessas colunas, queremos encontrar\n",
    "o vetor **SPAM** variando os parâmetros α, β e γ. Mas para isso, precisamos de\n",
    "um método de comparacão de vetores, e aqui usaremos um truque."
   ]
  },
  {
   "cell_type": "markdown",
   "id": "26f9be59",
   "metadata": {},
   "source": [
    "## A função de aptidão e o truque de kernel\n",
    "\n",
    "Sem perda de generalidade, considere que a primeira coluna do vetor $Out (Out_{1})$ contém valores próximos da saída que queremos encontrar. Assim, para verificar isso basta fazermos a diferença $OutPAM - Out_{1}$. Quando, em uma situação perfeita, tivermos esses dois vetores iguais, teremos assim um vetor resultante nulo. Nosso objetivo é chegar o mais próximo possível desse resultado. \n",
    "\n",
    "Logo, devemos variar os parâmetros $\\alpha, \\beta, \\gamma, \\epsilon$ que produzem o vetor $Out_{1}$ de forma a deixá-lo o mais próximo possível de $OutPAM$. Uma forma de mesurar isso é com a seguinte $função de aptidão$:\n",
    "\n",
    "$$f(\\alpha, \\beta, \\gamma, \\epsilon) = e^{-|OutPAM - Out_{1}(\\alpha, \\beta, \\gamma, \\epsilon)|}$$\n",
    "\n",
    "Logo, o algoritmo varia os parâmetros $\\alpha, \\beta, \\gamma$ a fim de máximizar a **função de aptidão** acima, que ocorre quando temos $OutPAM$ muito próximo de $Out_{1}$. Cada quadra ($\\alpha, \\beta, \\gamma, \\epsilon$) é chamada de indivíduo da população de possíveis soluções (outras quadras) do problema."
   ]
  },
  {
   "cell_type": "code",
   "execution_count": 2,
   "id": "114dd986",
   "metadata": {},
   "outputs": [],
   "source": [
    "def ArranjoTriangular(alpha, beta, gama):\n",
    "    \"\"\"\n",
    "    Retorna a matriz triangular A com parâmetros alpha, beta e gamma.\n",
    "    complex(x, y) retorna um número complexo da forma x + yi, onde i é o número imaginário\n",
    "    \n",
    "    Parâmetros\n",
    "    --------------------------------------\n",
    "    :params alpha, beta, gama: alpha é um número real\n",
    "    \n",
    "    Retorno\n",
    "    --------------------------------------\n",
    "    :return: retorna a matriz arranjo triangular como numpy array cujos valores estão de acordo com os parâmetros recebidos\n",
    "    \"\"\"\n",
    "    A = np.array([[0, complex(0, gama), complex(0, beta)], \n",
    "                  [complex(0, gama), 0, complex(0, alpha)], \n",
    "                  [complex(0, beta), complex(0, alpha), 0]])\n",
    "    \n",
    "    return A"
   ]
  },
  {
   "cell_type": "code",
   "execution_count": 3,
   "id": "78835f41",
   "metadata": {},
   "outputs": [],
   "source": [
    "def MatrizTransferenciaTriangular(A):\n",
    "    \"\"\"\n",
    "    Retorna a matriz de transferência triangular T a partir de uma matriz de arranjo triangular A a partir dos passos já citados\n",
    "    Erro percentual de 10^(-14) a 10^(-16), ínfimo.\n",
    "    \n",
    "    Parâmetros\n",
    "    --------------------------------------\n",
    "    :param A: matriz de Arranjo Triangular como numpy array\n",
    "    \n",
    "    Retorno\n",
    "    \n",
    "    :return:  matriz numpy array de transferência triangular T calculada com erro ínfimo.\n",
    "    \"\"\"\n",
    "    eigvals, eigvecs = la.eig(A)\n",
    "    D = np.array([[eigvals[0], 0, 0], \n",
    "                  [0, eigvals[1], 0], \n",
    "                  [0, 0, eigvals[2]]])\n",
    "    P = eigvecs.copy()\n",
    "    E = np.array([[np.exp(eigvals[0]), 0, 0], \n",
    "                  [0, np.exp(eigvals[1]), 0], \n",
    "                  [0, 0, np.exp(eigvals[2])]])\n",
    "    \n",
    "    if np.allclose(A, P @ D @ la.inv(P), atol=1e-17):\n",
    "        raise ValueError(f'Parameter Matrix A has not property A == PDP^(-1) for a tolerance of {1e-17}')\n",
    "    \n",
    "    # T é a matriz de transferência\n",
    "    T = P @ E @ la.inv(P)\n",
    "    \n",
    "    return T"
   ]
  },
  {
   "cell_type": "code",
   "execution_count": 4,
   "id": "2c345851",
   "metadata": {},
   "outputs": [],
   "source": [
    "def Tv(NumberOfInputs):\n",
    "    \"\"\"\n",
    "    Retorna uma tabela verdade (TruthTable) dado um circuito com n inputs maiores ou iguais a 1\n",
    "    Checa se a variável NumberOfInputs é inteira. Se sim, continua normalmente, se não lança uma exceção com a mensagem\n",
    "    'Parameter \\'NumberOfInputs\\' must be a integer'\n",
    "\n",
    "    Parâmetros\n",
    "    ------------------------------------------------\n",
    "    :param NumberOfInputs: número de inputs do circuito lógico, deve ser um número inteiro (obrigatoriamente)\n",
    "    \n",
    "    Retorno\n",
    "    ------------------------------------------------\n",
    "    :return: Retorna a tabela verdade como uma lista do Python (caso necessário, transformar o retorno em numpy array)\n",
    "    \"\"\"\n",
    "    if not isinstance(NumberOfInputs, int):\n",
    "        raise ValueError('Parameter \\'NumerOfInputs\\' must be a integer')\n",
    "    if NumberOfInputs < 1:                                                   \n",
    "        raise ValueError('Parameter \\'NumberOfInputs\\' must be greater or equal to 1')\n",
    "    else:\n",
    "        table = list(itertools.product ([0, 1], repeat = NumberOfInputs))    \n",
    "        table = np.array(table, dtype=float)\n",
    "        return table"
   ]
  },
  {
   "cell_type": "code",
   "execution_count": 5,
   "id": "0209c52f",
   "metadata": {},
   "outputs": [],
   "source": [
    "def PAM(TruthTable, epsilon):\n",
    "    \"\"\"\n",
    "    Função que retorna uma modulação PAM para uma dada tabela verdade (TruthTable) e certo epsilon real arbitrário.\n",
    "    Não modifica a tabela verdade original, apenas realiza alterações em uma cópia e a retorna no final.\n",
    "    Funciona para qualquer tabela verdade (TruthTable) com n inputs (Matriz não precisa ser quadrada)\n",
    "\n",
    "    Parâmetros\n",
    "    ------------------------------------------------\n",
    "    :param TruthTable: tabela verdade a ser analisada e transformada em modulação PAM\n",
    "    :param epsilon: epsilon no qual os valores serão calculados\n",
    "    \n",
    "    Retorno\n",
    "    ------------------------------------------------\n",
    "    :return: retorna um numpy array como matriz da modulação PAM da tabela verdade recebida como parâmetro\n",
    "    \"\"\"\n",
    "    if epsilon <= 0 or epsilon >= 1:\n",
    "        raise ValueError(f'Epsilon must be major than 0 and minor than 1')\n",
    "    PamTable = TruthTable.copy() # Como utiliza uma cópia, PamTable será uma matriz com elementos do tipo float\n",
    "    rows, columns = PamTable.shape\n",
    "    for row in range(rows):\n",
    "        for column in range(columns):\n",
    "            if PamTable[row][column] == 1:\n",
    "                PamTable[row][column] = 1 + epsilon\n",
    "            elif PamTable[row][column] == 0:\n",
    "                PamTable[row][column] = 1 - epsilon\n",
    "            else:\n",
    "                raise ValueError('Truth Table must be filled just with zeros and ones')\n",
    "    return PamTable"
   ]
  },
  {
   "cell_type": "code",
   "execution_count": 6,
   "id": "6864c020",
   "metadata": {},
   "outputs": [],
   "source": [
    "def InvPAM(PAMTable):\n",
    "    \"\"\"\n",
    "    Função que retorna uma nova tabela verdade com modulação bniária (processo inverso da modulação PAM)\n",
    "    \n",
    "    Parâmetros\n",
    "    ------------------------------\n",
    "    :param PAMTable: Tabela verdade em modulação PAM (1 +- epsilon)\n",
    "    \n",
    "    Retorno\n",
    "    ------------------------------\n",
    "    :return: Retorna uma nova matriz como numpy array que representa a tabela verdade original (inversa da PAM)\n",
    "    \"\"\"\n",
    "    rows, columns = PAMTable.shape\n",
    "    ResultTable = np.ones(shape=(rows, columns), dtype=float)\n",
    "    for row in range(rows):\n",
    "        for column in range(columns):\n",
    "            if PAMTable[row][column] < 1:\n",
    "                ResultTable[row][column] = 0\n",
    "    return ResultTable"
   ]
  },
  {
   "cell_type": "code",
   "execution_count": 7,
   "id": "762b5dc1",
   "metadata": {},
   "outputs": [],
   "source": [
    "def OrTruthTableGenerator(TruthTable):\n",
    "    \"\"\"\n",
    "    Retorna uma tabela verdade do circuito lógico OR de acordo com uma tabela verdade (TruthTable). \n",
    "    Checa se a tabela está vazia, se sim a retorna (vazia), se não, realiza os cálculos.\n",
    "    \n",
    "    Parâmetros\n",
    "    ------------------------------------------------\n",
    "    :param TruthTable: tabela verdade a ser analisada\n",
    "    \n",
    "    Retorno\n",
    "    ------------------------------------------------\n",
    "    :return: Retorna a coluna (numpy array) com os valores da tabela verdade OR dos inputs da tabela verdade recebida \n",
    "    como parâmetro\n",
    "    \"\"\"\n",
    "    rows, columns = TruthTable.shape\n",
    "    ResultTable = np.zeros(shape=(rows, 1), dtype=float)\n",
    "    \n",
    "    if TruthTable.size == 0:\n",
    "        return TruthTable\n",
    "    \n",
    "    for row in range(rows):\n",
    "        BooleanRowArray = TruthTable[row][:]\n",
    "        if np.any(BooleanRowArray):\n",
    "            ResultTable[row][0] = 1\n",
    "        \n",
    "    return ResultTable"
   ]
  },
  {
   "cell_type": "code",
   "execution_count": 8,
   "id": "ba23cb35",
   "metadata": {},
   "outputs": [],
   "source": [
    "def AndTruthTableGenerator(TruthTable):\n",
    "    \"\"\"\n",
    "    Retorna uma tabela verdade do circuito lógico AND de acordo com uma tabela verdade (TruthTable). \n",
    "    Checa se a tabela está vazia, se sim a retorna (vazia), se não, realiza os cálculos.\n",
    "    \n",
    "    Parâmetros\n",
    "    ------------------------------------------------\n",
    "    :param TruthTable: tabela verdade a ser analisada\n",
    "    \n",
    "    Retorno\n",
    "    ------------------------------------------------\n",
    "    :return: Retorna a coluna (numpy array) com os valores da tabela verdade AND dos inputs da tabela verdade recebida \n",
    "    como parâmetro\n",
    "    \"\"\"\n",
    "    rows, columns = TruthTable.shape\n",
    "    ResultTable = np.zeros(shape=(rows, 1), dtype=float)\n",
    "    \n",
    "    if TruthTable.size == 0:\n",
    "        return TruthTable\n",
    "    \n",
    "    for row in range(rows):\n",
    "        BooleanRowArray = TruthTable[row][:]\n",
    "        if np.all(BooleanRowArray):\n",
    "            ResultTable[row][0] = 1;\n",
    "    \n",
    "    return ResultTable"
   ]
  },
  {
   "cell_type": "code",
   "execution_count": 9,
   "id": "2cfe163d",
   "metadata": {},
   "outputs": [],
   "source": [
    "OR = OrTruthTableGenerator(Tv(3))\n",
    "A = ArranjoTriangular(1.2, 2.3, 3.4)\n",
    "T = MatrizTransferenciaTriangular(A)\n",
    "Inp = PAM(Tv(3), 0.5)\n",
    "\n",
    "Out = T @ Inp.T\n",
    "Out = Out.T\n",
    "OutPAM = PAM(OR, 0.5)"
   ]
  },
  {
   "cell_type": "code",
   "execution_count": 10,
   "id": "9815e0d0",
   "metadata": {},
   "outputs": [
    {
     "name": "stdout",
     "output_type": "stream",
     "text": [
      "A: \n",
      "[[0.+0.j  0.+3.4j 0.+2.3j]\n",
      " [0.+3.4j 0.+0.j  0.+1.2j]\n",
      " [0.+2.3j 0.+1.2j 0.+0.j ]]\n",
      "\n",
      "T: \n",
      "[[-0.48247329-0.18796246j  0.43582066-0.65595554j  0.13308381-0.30653062j]\n",
      " [ 0.43582066-0.65595554j -0.20109041-0.42666534j -0.34652227+0.1929361j ]\n",
      " [ 0.13308381-0.30653062j -0.34652227+0.1929361j   0.25716171-0.81541003j]]\n",
      "\n",
      "Inp: \n",
      "[[0.5 0.5 0.5]\n",
      " [0.5 0.5 1.5]\n",
      " [0.5 1.5 0.5]\n",
      " [0.5 1.5 1.5]\n",
      " [1.5 0.5 0.5]\n",
      " [1.5 0.5 1.5]\n",
      " [1.5 1.5 0.5]\n",
      " [1.5 1.5 1.5]]\n",
      "\n",
      "Out: \n",
      "[[ 0.04321559-0.57522431j -0.05589601-0.44484239j  0.02186163-0.46450227j]\n",
      " [ 0.1762994 -0.88175493j -0.40241828-0.25190628j  0.27902333-1.2799123j ]\n",
      " [ 0.47903624-1.23117985j -0.25698643-0.87150773j -0.32466064-0.27156617j]\n",
      " [ 0.61212006-1.53771047j -0.6035087 -0.67857162j -0.06749894-1.08697619j]\n",
      " [-0.43925771-0.76318677j  0.37992464-1.10079792j  0.15494544-0.77103289j]\n",
      " [-0.30617389-1.0697174j   0.03340237-0.90786182j  0.41210715-1.58644292j]\n",
      " [-0.00343705-1.41914231j  0.17883423-1.52746326j -0.19157683-0.57809679j]\n",
      " [ 0.12964676-1.72567293j -0.16768804-1.33452716j  0.06558488-1.39350682j]]\n",
      "\n",
      "OutPAM: \n",
      "[[0.5]\n",
      " [1.5]\n",
      " [1.5]\n",
      " [1.5]\n",
      " [1.5]\n",
      " [1.5]\n",
      " [1.5]\n",
      " [1.5]]\n"
     ]
    }
   ],
   "source": [
    "print(f'A: \\n{A}\\n\\nT: \\n{T}\\n\\nInp: \\n{Inp}\\n\\nOut: \\n{Out}\\n\\nOutPAM: \\n{OutPAM}')"
   ]
  },
  {
   "cell_type": "markdown",
   "id": "e57a2832",
   "metadata": {},
   "source": [
    "## Erro de Broadcasting (Numpy)\n",
    "\n",
    "Para conseguir o vetor coluna **Out1**, não basta apenas fazer ``Out1 = Out[:, 0]``, pois assim teremos apenas uma lista com os valores da primeira coluna da matriz **Out**. Logo, precisamos criar um numpy array baseado nesses valores:\n",
    "\n",
    "``\n",
    "Out1 = np.array([Out[:, 0]])\n",
    "``\n",
    "\n",
    "Entretanto, ainda temos um erro, pois Out1 será um vetor linha e não coluna, implicando assim em um erro de **Broadcasting** do numpy ao realizar a operação $OutPAM - Out_{1}$, pois iríamos realizar a subtração entre uma matriz de dimensões (m, 1) com outra de dimensões (1, m).\n",
    "\n",
    "Assim, precisamos além de criar o numpy array, mudar a referência de $Out_{1}$ para a sua transposta:\n",
    "\n",
    "``\n",
    "Out1 = np.array([Out[:, 0]])\n",
    "Out1 = Out1.T\n",
    "``"
   ]
  },
  {
   "cell_type": "markdown",
   "id": "43f3af44",
   "metadata": {},
   "source": [
    "## Construção do GA (Genetic Algorithm):"
   ]
  },
  {
   "cell_type": "code",
   "execution_count": 15,
   "id": "135aca1f",
   "metadata": {},
   "outputs": [],
   "source": [
    "def AptidaoArranjoTriangular(alpha, beta, gamma, epsilon, target):\n",
    "    A = ArranjoTriangular(alpha, beta, gamma)\n",
    "    T = MatrizTransferenciaTriangular(A)\n",
    "    Inp = PAM(Tv(3), epsilon)\n",
    "    Out = T @ Inp.T\n",
    "    Out = Out.T\n",
    "    OutPAM = PAM(target, epsilon)\n",
    "    \n",
    "    Out1 = np.array([Out[:,0]])\n",
    "    Out1 = Out1.T\n",
    "    kernel = math.e**(-np.linalg.norm(OutPAM - Out1))\n",
    "    \n",
    "    return kernel"
   ]
  },
  {
   "cell_type": "code",
   "execution_count": 19,
   "id": "d4c4c6b3",
   "metadata": {},
   "outputs": [
    {
     "name": "stdout",
     "output_type": "stream",
     "text": [
      "Kernel: \n",
      "\n",
      "0.0016204814247774194\n"
     ]
    }
   ],
   "source": [
    "kernel = AptidaoArranjoTriangular(3.4, 4.3, 5.4, 0.35, OR)\n",
    "print(f'Kernel: \\n\\n{kernel}')"
   ]
  }
 ],
 "metadata": {
  "kernelspec": {
   "display_name": "Python 3",
   "language": "python",
   "name": "python3"
  },
  "language_info": {
   "codemirror_mode": {
    "name": "ipython",
    "version": 3
   },
   "file_extension": ".py",
   "mimetype": "text/x-python",
   "name": "python",
   "nbconvert_exporter": "python",
   "pygments_lexer": "ipython3",
   "version": "3.8.8"
  }
 },
 "nbformat": 4,
 "nbformat_minor": 5
}
