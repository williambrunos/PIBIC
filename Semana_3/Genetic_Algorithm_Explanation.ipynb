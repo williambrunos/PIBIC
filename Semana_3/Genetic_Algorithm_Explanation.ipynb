{
 "cells": [
  {
   "cell_type": "code",
   "execution_count": 1,
   "id": "9d2628bd",
   "metadata": {},
   "outputs": [],
   "source": [
    "import numpy as np"
   ]
  },
  {
   "cell_type": "markdown",
   "id": "3bbeee22",
   "metadata": {},
   "source": [
    "# Algoritmos Genéticos\n",
    "\n",
    "Algoritmos genéticos são classes de heurísticas que servem para resolver problemas computacionais aparentemente sem solução ou com tempo de resolução de complexidade exponencial, as vezes o tempo de resolução pode durar até bilhões de anos. Esses algoritmos se utilizam de técnicas baseadas na metáfora da evolução genética por seleção natural proposta por Charles Darwin.\n",
    "\n",
    "Assim, temos um algoritmo que possui uma certa **população inicial** de indivíduos, inicializada de forma totalmente aleatória (estocástica ou probabilística) cada **indivíduo** possui um **cromossomo** que nada mais é do que uma **sequência de genes** em uma **bit string**. Esses genes são os **parâmetros**, que consitutem o fenótipo, a serem analisados do problema convertidos em bit string. A cada iteração, serão realizados sobre a população algumas operações evolutivas:\n",
    "\n",
    "- Seleção\n",
    "- Reprodução (Crossing Over e recombinação genética)\n",
    "- Mutação\n",
    "\n",
    "A **seleção** se faz com uma **função de aptidão**, na qual realiza cálculos e rotula quais são os indivíduos da população mais bem adaptados. Assim, a qualidade de um indivíduo é calculada de acordo com a sua adaptação ao meio, feita pela função de aptidão.\n",
    "\n",
    "Após a seleção e rotulação dos indivíduos mais bem adaptados ao meio, chegamos à fase de reprodução. Nessa fase, totalmente estocástica, faremos a troca dos bits (genes) dos individuos mais bem adaptados ao meio, aumentando a variabilidade genética da população e fazendo com que indivíduos mais bem adaptados que seus pais surjam nas próximas iterações. Os indivíduos menos adaptados não devem ser descartados, pois assim reduziríamos a variabilidade genética da população e provavelmente o algoritmo iria convergir em um máximo local e não global da função de aptidão.\n",
    "\n",
    "A **mutação** deve ocorrer com uma probabilidade bem baixa, mudando apenas um bit de um dos indivíduos na reprodução. Esse processo aumenta a taxa de convergência se for feito com probabilidade baixa de ocorrência, impedindo que a população fique estagnada em um máximo local da função de aptidão. No entanto, se for feita muito constantemente, pode aumentar e muito o tempo de convergência do algoritmo ou até mesmo não convergir."
   ]
  },
  {
   "cell_type": "code",
   "execution_count": null,
   "id": "9e8e46df",
   "metadata": {},
   "outputs": [],
   "source": []
  }
 ],
 "metadata": {
  "kernelspec": {
   "display_name": "Python 3",
   "language": "python",
   "name": "python3"
  },
  "language_info": {
   "codemirror_mode": {
    "name": "ipython",
    "version": 3
   },
   "file_extension": ".py",
   "mimetype": "text/x-python",
   "name": "python",
   "nbconvert_exporter": "python",
   "pygments_lexer": "ipython3",
   "version": "3.8.8"
  }
 },
 "nbformat": 4,
 "nbformat_minor": 5
}
